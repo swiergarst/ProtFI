{
 "cells": [
  {
   "cell_type": "code",
   "execution_count": 2,
   "id": "c7fd71f4-c867-40c7-bafb-68d03a0b8a6d",
   "metadata": {
    "scrolled": true
   },
   "outputs": [
    {
     "name": "stderr",
     "output_type": "stream",
     "text": [
      "/tmp/ipykernel_2193955/3939898443.py:1: DeprecationWarning: \n",
      "Pyarrow will become a required dependency of pandas in the next major release of pandas (pandas 3.0),\n",
      "(to allow more performant data types, such as the Arrow string type, and better interoperability with other libraries)\n",
      "but was not found to be installed on your system.\n",
      "If this would cause problems for you,\n",
      "please provide us feedback at https://github.com/pandas-dev/pandas/issues/54466\n",
      "        \n",
      "  import pandas as pd\n"
     ]
    }
   ],
   "source": [
    "import pandas as pd\n",
    "import numpy as np\n",
    "import matplotlib.pyplot as plt\n",
    "from tqdm import tqdm\n",
    "import math\n",
    "from sklearn.impute import KNNImputer"
   ]
  },
  {
   "cell_type": "markdown",
   "id": "0e96b6d4-3b6b-44bf-b0cd-dfc13737b7aa",
   "metadata": {},
   "source": [
    "## Preprocessing"
   ]
  },
  {
   "cell_type": "code",
   "execution_count": 41,
   "id": "a785ca75-3830-4860-9655-9a5b4305832e",
   "metadata": {},
   "outputs": [],
   "source": [
    "# read in data from all three visits\n",
    "olink_i0 = pd.read_csv(\"Data/Olink_UKBB_packageDataFreeze_19Jan2024/67864_olink_0_Instance0_all-info.tab\", sep = \"\\t\", low_memory=False)\n",
    "#olink_i2 = pd.read_csv(\"Data/Olink_UKBB_packageDataFreeze_19Jan2024/67864_olink_0_Instance2_all-info.tab\", sep = \"\\t\", low_memory=False)\n",
    "#olink_i3 = pd.read_csv(\"Data/Olink_UKBB_packageDataFreeze_19Jan2024/67864_olink_0_Instance3_all-info.tab\", sep = \"\\t\", low_memory=False)"
   ]
  },
  {
   "cell_type": "code",
   "execution_count": 3,
   "id": "ee815e87-4e74-45a8-a82e-4e79521e0db3",
   "metadata": {},
   "outputs": [],
   "source": [
    "# drop values from i0 in i2 and i3 (something went wrong with joining)\n",
    "olink_i2 = olink_i2.dropna(subset = ['PlateID'])\n",
    "olink_i3 = olink_i3.dropna(subset = ['PlateID'])"
   ]
  },
  {
   "cell_type": "code",
   "execution_count": 4,
   "id": "0f5ebdad-58a5-4797-8f60-e8c100664821",
   "metadata": {},
   "outputs": [],
   "source": [
    "# create participants by protein table\n",
    "olink_i0_ap = olink_i0.pivot(columns = 'Assay',  values = \"NPX\",  index = \"eid\") "
   ]
  },
  {
   "cell_type": "code",
   "execution_count": 5,
   "id": "bab4f030-c0aa-46b5-b84b-1bd0b4756ed5",
   "metadata": {},
   "outputs": [
    {
     "name": "stdout",
     "output_type": "stream",
     "text": [
      "amount of proteins excluded :36\n",
      "amount of participants excluded :11003\n"
     ]
    }
   ],
   "source": [
    "# thresholds for excluding participants/proteins based on amount of nans\n",
    "t_nan_prot = 0.02\n",
    "t_nan_part = 0.02\n",
    "\n",
    "\n",
    "nan_part = olink_i0_ap.isna().sum(axis=1)\n",
    "nan_part = nan_part.sort_values(ascending=False)\n",
    "\n",
    "n_proteins = olink_i0_ap.shape[1]\n",
    "\n",
    "\n",
    "#first discard participants\n",
    "excluded_participants = nan_part[nan_part > t_nan_part * n_proteins]\n",
    "olink_i0_parts_dropped = olink_i0_ap.dropna(axis = 0, thresh = (1 - t_nan_part) * n_proteins)\n",
    "\n",
    "\n",
    "# count nan values per protein and per participant\n",
    "nan_prot = olink_i0_parts_dropped.isna().sum()\n",
    "nan_prot = nan_prot.sort_values(ascending=False)\n",
    "\n",
    "# then discard proteins\n",
    "n_participants_left = olink_i0_parts_dropped.shape[0]\n",
    "excluded_proteins = nan_prot[nan_prot > t_nan_prot * n_participants_left].keys()\n",
    "olink_i0_nansdropped = olink_i0_parts_dropped.dropna(axis = 1, thresh=(1 - t_nan_prot) * n_participants_left)\n",
    "# olink_i0_nansdropped = olink_i0_nansdropped.dropna(axis = 0, thresh = (1 - t_nan_part) * n_proteins)\n",
    "\n",
    "print(f'amount of proteins excluded :{len(excluded_proteins)}')\n",
    "print(f'amount of participants excluded :{len(excluded_participants)}')"
   ]
  },
  {
   "cell_type": "code",
   "execution_count": 6,
   "id": "c58b8df3-99a7-4cfa-8da8-44461f79bcc9",
   "metadata": {},
   "outputs": [],
   "source": [
    "## impute data for other missing values\n",
    "n_n = 5\n",
    "imputer = KNNImputer(n_neighbors = n_n)\n",
    "olink_i0_ap_imputed = imputer.fit_transform(olink_i0_nansdropped)"
   ]
  },
  {
   "cell_type": "code",
   "execution_count": 7,
   "id": "cd92af33-4c3a-4f22-b749-a56afb31b527",
   "metadata": {},
   "outputs": [
    {
     "data": {
      "text/plain": [
       "(41701, 1427)"
      ]
     },
     "execution_count": 7,
     "metadata": {},
     "output_type": "execute_result"
    }
   ],
   "source": [
    "proteins_imputed_df = pd.DataFrame(data = olink_i0_ap_imputed, columns = olink_i0_nansdropped.columns, index = olink_i0_nansdropped.index)\n",
    "proteins_imputed_df.shape"
   ]
  },
  {
   "cell_type": "code",
   "execution_count": 10,
   "id": "c68e8a65-4e1b-41e0-ac26-679154a4289a",
   "metadata": {},
   "outputs": [],
   "source": [
    "# find participants for whom we have data in i2/i3 and i0\n",
    "olink_i0i2_overlap = np.intersect1d(olink_i0_nansdropped.index,  olink_i2['eid'].unique())\n",
    "olink_i0i3_overlap = np.intersect1d(olink_i0_nansdropped.index,  olink_i3['eid'].unique())\n",
    "\n",
    "# create set for whom we have \n",
    "olink_i0_excl_tmp = proteins_imputed_df[~proteins_imputed_df.index.isin(olink_i0i2_overlap)]\n",
    "olink_i0_excl = olink_i0_excl_tmp[~olink_i0_excl_tmp.index.isin(olink_i0i3_overlap)]"
   ]
  },
  {
   "cell_type": "code",
   "execution_count": 11,
   "id": "2d718418-32b6-4697-b76f-b0d06846e328",
   "metadata": {},
   "outputs": [
    {
     "data": {
      "text/plain": [
       "(897,)"
      ]
     },
     "execution_count": 11,
     "metadata": {},
     "output_type": "execute_result"
    }
   ],
   "source": [
    "olink_i0i3_overlap.shape"
   ]
  },
  {
   "cell_type": "code",
   "execution_count": null,
   "id": "bcf169cd-cda6-4669-a439-d6800335bac6",
   "metadata": {},
   "outputs": [],
   "source": [
    "# create set of longitudinal eids (maybe?)"
   ]
  },
  {
   "cell_type": "code",
   "execution_count": 12,
   "id": "898e23de-7037-42ed-b437-60f9dd102629",
   "metadata": {},
   "outputs": [
    {
     "data": {
      "text/plain": [
       "(40696, 1427)"
      ]
     },
     "execution_count": 12,
     "metadata": {},
     "output_type": "execute_result"
    }
   ],
   "source": [
    "olink_i0_excl.shape"
   ]
  },
  {
   "cell_type": "code",
   "execution_count": 5,
   "id": "89d5fc1c-8eb4-437c-a27d-c0867e8bdef3",
   "metadata": {
    "scrolled": true
   },
   "outputs": [
    {
     "name": "stderr",
     "output_type": "stream",
     "text": [
      "0it [00:03, ?it/s]\n"
     ]
    },
    {
     "ename": "ValueError",
     "evalue": "not enough values to unpack (expected 2, got 1)",
     "output_type": "error",
     "traceback": [
      "\u001b[0;31m---------------------------------------------------------------------------\u001b[0m",
      "\u001b[0;31mValueError\u001b[0m                                Traceback (most recent call last)",
      "Cell \u001b[0;32mIn[5], line 8\u001b[0m\n\u001b[1;32m      6\u001b[0m protein_subset \u001b[38;5;241m=\u001b[39m olink_i0_excl\u001b[38;5;241m.\u001b[39mloc[(olink_i0_excl[\u001b[38;5;124m'\u001b[39m\u001b[38;5;124mAssay\u001b[39m\u001b[38;5;124m'\u001b[39m] \u001b[38;5;241m==\u001b[39m protein)]\n\u001b[1;32m      7\u001b[0m \u001b[38;5;66;03m# LLoD_counts[i] = (protein_subset['LOD'] > protein_subset['NPX']).sum()\u001b[39;00m\n\u001b[0;32m----> 8\u001b[0m LLoD_counts[i], _ \u001b[38;5;241m=\u001b[39m np\u001b[38;5;241m.\u001b[39mwhere(protein_subset[\u001b[38;5;124m'\u001b[39m\u001b[38;5;124mLOD\u001b[39m\u001b[38;5;124m'\u001b[39m]\u001b[38;5;241m.\u001b[39mvalues \u001b[38;5;241m>\u001b[39m protein_subset[\u001b[38;5;124m'\u001b[39m\u001b[38;5;124mNPX\u001b[39m\u001b[38;5;124m'\u001b[39m]\u001b[38;5;241m.\u001b[39mvalues)\n",
      "\u001b[0;31mValueError\u001b[0m: not enough values to unpack (expected 2, got 1)"
     ]
    }
   ],
   "source": [
    "# count amount of participants for who we are under the lower limit of detection\n",
    "proteins = olink_i0_excl['Assay'].unique()\n",
    "\n",
    "LLoD_counts = np.zeros(len(proteins))\n",
    "\n",
    "for i,  protein in tqdm(enumerate(proteins[:100])):\n",
    "    protein_subset = olink_i0_excl.loc[(olink_i0_excl['Assay'] == protein)]\n",
    "    # LLoD_counts[i] = (protein_subset[LOD] > protein_subset[NPX]).sum()\n",
    "    LLoD_counts[i],  _ = np.where(protein_subset[LOD].values > protein_subset[NPX].values)"
   ]
  },
  {
   "cell_type": "code",
   "execution_count": 85,
   "id": "e11f37cb-3b04-4827-8fa2-0f0a0e4d0441",
   "metadata": {},
   "outputs": [
    {
     "data": {
      "text/plain": [
       "<BarContainer object of 100 artists>"
      ]
     },
     "execution_count": 85,
     "metadata": {},
     "output_type": "execute_result"
    },
    {
     "data": {
      "image/png": "[encoded data removed]",
      "text/plain": [
       "<Figure size 640x480 with 1 Axes>"
      ]
     },
     "metadata": {},
     "output_type": "display_data"
    }
   ],
   "source": [
    "plt.bar(np.arange(len(LLoD_counts))[:100],  LLoD_counts[:100]) "
   ]
  },
  {
   "cell_type": "code",
   "execution_count": 23,
   "id": "3c94239b-3862-40c7-8889-9cbe88eb4029",
   "metadata": {},
   "outputs": [],
   "source": [
    "# create participants by protein table\n",
    "olink_i0_ap = olink_i0_excl.pivot(columns = 'Assay',  values = \"NPX\",  index = \"eid\") "
   ]
  },
  {
   "cell_type": "code",
   "execution_count": 50,
   "id": "c0ac5b80-8d91-4d01-b71f-35b21fedb9f8",
   "metadata": {},
   "outputs": [
    {
     "data": {
      "text/plain": [
       "Index(['AARSD1', 'ABHD14B', 'ABL1', 'ACAA1', 'ACAN', 'ACE2', 'ACOX1', 'ACP5',\n",
       "       'ACP6', 'ACTA2', 'ACTN4', 'ACVRL1', 'ACY1', 'ADA', 'ADA2', 'ADAM15',\n",
       "       'ADAM22', 'ADAM23', 'ADAM8', 'ADAMTS13', 'ADAMTS15', 'ADAMTS16',\n",
       "       'ADAMTS8', 'ADCYAP1R1', 'ADGRB3', 'ADGRE2', 'ADGRE5', 'ADGRG1',\n",
       "       'ADGRG2', 'ADH4', 'ADM', 'AFP', 'AGER', 'AGR2', 'AGR3', 'AGRN', 'AGRP',\n",
       "       'AGXT', 'AHCY', 'AHSP', 'AIF1', 'AIFM1', 'AK1', 'AKR1B1', 'AKR1C4',\n",
       "       'AKT1S1', 'AKT3', 'ALCAM', 'ALDH1A1', 'ALDH3A1', 'ALPP', 'AMBN', 'AMBP',\n",
       "       'AMFR', 'AMIGO2', 'AMN', 'AMY2A', 'AMY2B', 'ANG', 'ANGPT1', 'ANGPT2',\n",
       "       'ANGPTL1', 'ANGPTL2', 'ANGPTL3', 'ANGPTL4', 'ANGPTL7', 'ANKRD54',\n",
       "       'ANPEP', 'ANXA10', 'ANXA11', 'ANXA3', 'ANXA4', 'ANXA5', 'AOC1', 'AOC3',\n",
       "       'APBB1IP', 'APEX1', 'APLP1', 'APOH', 'APOM', 'APP', 'APRT', 'AREG',\n",
       "       'ARG1', 'ARHGAP1', 'ARHGAP25', 'ARHGEF12', 'ARID4B', 'ARNT', 'ARSA',\n",
       "       'ARSB', 'ART3', 'ARTN', 'ASAH2', 'ASGR1', 'ATF2', 'ATG4A', 'ATOX1',\n",
       "       'ATP5IF1', 'ATP5PO'],\n",
       "      dtype='object', name='Assay')"
      ]
     },
     "execution_count": 50,
     "metadata": {},
     "output_type": "execute_result"
    }
   ],
   "source": [
    "olink_i0_ap.columns[0:100]"
   ]
  },
  {
   "cell_type": "code",
   "execution_count": 6,
   "id": "e68fa345-62c7-4875-9a82-0c5d40bee43d",
   "metadata": {},
   "outputs": [
    {
     "name": "stdout",
     "output_type": "stream",
     "text": [
      "(51494, 1463)\n"
     ]
    },
    {
     "data": {
      "text/html": [
       "<div>\n",
       "<style scoped>\n",
       "    .dataframe tbody tr th:only-of-type {\n",
       "        vertical-align: middle;\n",
       "    }\n",
       "\n",
       "    .dataframe tbody tr th {\n",
       "        vertical-align: top;\n",
       "    }\n",
       "\n",
       "    .dataframe thead th {\n",
       "        text-align: right;\n",
       "    }\n",
       "</style>\n",
       "<table border=\"1\" class=\"dataframe\">\n",
       "  <thead>\n",
       "    <tr style=\"text-align: right;\">\n",
       "      <th>Assay</th>\n",
       "      <th>AARSD1</th>\n",
       "      <th>ABHD14B</th>\n",
       "      <th>ABL1</th>\n",
       "      <th>ACAA1</th>\n",
       "      <th>ACAN</th>\n",
       "      <th>ACE2</th>\n",
       "      <th>ACOX1</th>\n",
       "      <th>ACP5</th>\n",
       "      <th>ACP6</th>\n",
       "      <th>ACTA2</th>\n",
       "      <th>...</th>\n",
       "      <th>WNT9A</th>\n",
       "      <th>WWP2</th>\n",
       "      <th>XCL1</th>\n",
       "      <th>XG</th>\n",
       "      <th>XPNPEP2</th>\n",
       "      <th>XRCC4</th>\n",
       "      <th>YES1</th>\n",
       "      <th>YTHDF3</th>\n",
       "      <th>ZBTB16</th>\n",
       "      <th>ZBTB17</th>\n",
       "    </tr>\n",
       "    <tr>\n",
       "      <th>eid</th>\n",
       "      <th></th>\n",
       "      <th></th>\n",
       "      <th></th>\n",
       "      <th></th>\n",
       "      <th></th>\n",
       "      <th></th>\n",
       "      <th></th>\n",
       "      <th></th>\n",
       "      <th></th>\n",
       "      <th></th>\n",
       "      <th></th>\n",
       "      <th></th>\n",
       "      <th></th>\n",
       "      <th></th>\n",
       "      <th></th>\n",
       "      <th></th>\n",
       "      <th></th>\n",
       "      <th></th>\n",
       "      <th></th>\n",
       "      <th></th>\n",
       "      <th></th>\n",
       "    </tr>\n",
       "  </thead>\n",
       "  <tbody>\n",
       "    <tr>\n",
       "      <th>1000041</th>\n",
       "      <td>0.3476</td>\n",
       "      <td>-0.1879</td>\n",
       "      <td>-0.3896</td>\n",
       "      <td>0.1511</td>\n",
       "      <td>0.5124</td>\n",
       "      <td>-0.28310</td>\n",
       "      <td>0.2759</td>\n",
       "      <td>-0.3092</td>\n",
       "      <td>-0.2001</td>\n",
       "      <td>-0.3444</td>\n",
       "      <td>...</td>\n",
       "      <td>-0.1501</td>\n",
       "      <td>0.1150</td>\n",
       "      <td>-1.1485</td>\n",
       "      <td>-0.1583</td>\n",
       "      <td>1.0802</td>\n",
       "      <td>0.00705</td>\n",
       "      <td>-0.5165</td>\n",
       "      <td>-0.20180</td>\n",
       "      <td>-0.39815</td>\n",
       "      <td>-0.7475</td>\n",
       "    </tr>\n",
       "    <tr>\n",
       "      <th>1000059</th>\n",
       "      <td>0.4166</td>\n",
       "      <td>0.8393</td>\n",
       "      <td>2.0818</td>\n",
       "      <td>1.2678</td>\n",
       "      <td>-0.0384</td>\n",
       "      <td>-0.19625</td>\n",
       "      <td>1.0011</td>\n",
       "      <td>-0.3905</td>\n",
       "      <td>0.8287</td>\n",
       "      <td>1.1382</td>\n",
       "      <td>...</td>\n",
       "      <td>0.0244</td>\n",
       "      <td>1.3986</td>\n",
       "      <td>-0.5011</td>\n",
       "      <td>-0.1470</td>\n",
       "      <td>-2.0246</td>\n",
       "      <td>0.69135</td>\n",
       "      <td>2.9295</td>\n",
       "      <td>1.70705</td>\n",
       "      <td>2.09095</td>\n",
       "      <td>-0.0563</td>\n",
       "    </tr>\n",
       "    <tr>\n",
       "      <th>1000086</th>\n",
       "      <td>0.7667</td>\n",
       "      <td>0.1949</td>\n",
       "      <td>-0.5907</td>\n",
       "      <td>-2.0024</td>\n",
       "      <td>0.1910</td>\n",
       "      <td>0.05565</td>\n",
       "      <td>-0.5210</td>\n",
       "      <td>-0.0292</td>\n",
       "      <td>-0.3807</td>\n",
       "      <td>-0.3239</td>\n",
       "      <td>...</td>\n",
       "      <td>-0.1429</td>\n",
       "      <td>-0.4454</td>\n",
       "      <td>0.2656</td>\n",
       "      <td>-0.1033</td>\n",
       "      <td>1.5979</td>\n",
       "      <td>-0.83675</td>\n",
       "      <td>-1.1427</td>\n",
       "      <td>-1.48585</td>\n",
       "      <td>-0.55125</td>\n",
       "      <td>-0.0230</td>\n",
       "    </tr>\n",
       "    <tr>\n",
       "      <th>1000181</th>\n",
       "      <td>-0.4305</td>\n",
       "      <td>-0.3222</td>\n",
       "      <td>-0.3300</td>\n",
       "      <td>-0.5217</td>\n",
       "      <td>-0.4388</td>\n",
       "      <td>-0.33185</td>\n",
       "      <td>-0.3997</td>\n",
       "      <td>-0.4358</td>\n",
       "      <td>0.0848</td>\n",
       "      <td>0.0293</td>\n",
       "      <td>...</td>\n",
       "      <td>-0.0308</td>\n",
       "      <td>-0.0307</td>\n",
       "      <td>0.3940</td>\n",
       "      <td>0.1194</td>\n",
       "      <td>-0.8755</td>\n",
       "      <td>0.18495</td>\n",
       "      <td>-0.2938</td>\n",
       "      <td>-0.43035</td>\n",
       "      <td>-0.27505</td>\n",
       "      <td>-0.4865</td>\n",
       "    </tr>\n",
       "    <tr>\n",
       "      <th>1000202</th>\n",
       "      <td>-0.9652</td>\n",
       "      <td>NaN</td>\n",
       "      <td>0.1115</td>\n",
       "      <td>-0.4334</td>\n",
       "      <td>-0.5558</td>\n",
       "      <td>-0.47700</td>\n",
       "      <td>-0.6717</td>\n",
       "      <td>-0.1680</td>\n",
       "      <td>-1.2523</td>\n",
       "      <td>0.7740</td>\n",
       "      <td>...</td>\n",
       "      <td>NaN</td>\n",
       "      <td>NaN</td>\n",
       "      <td>-0.1239</td>\n",
       "      <td>0.0884</td>\n",
       "      <td>0.5496</td>\n",
       "      <td>0.19695</td>\n",
       "      <td>-0.1406</td>\n",
       "      <td>NaN</td>\n",
       "      <td>-0.10215</td>\n",
       "      <td>-0.0632</td>\n",
       "    </tr>\n",
       "  </tbody>\n",
       "</table>\n",
       "<p>5 rows × 1463 columns</p>\n",
       "</div>"
      ],
      "text/plain": [
       "Assay    AARSD1  ABHD14B    ABL1   ACAA1    ACAN     ACE2   ACOX1    ACP5  \\\n",
       "eid                                                                         \n",
       "1000041  0.3476  -0.1879 -0.3896  0.1511  0.5124 -0.28310  0.2759 -0.3092   \n",
       "1000059  0.4166   0.8393  2.0818  1.2678 -0.0384 -0.19625  1.0011 -0.3905   \n",
       "1000086  0.7667   0.1949 -0.5907 -2.0024  0.1910  0.05565 -0.5210 -0.0292   \n",
       "1000181 -0.4305  -0.3222 -0.3300 -0.5217 -0.4388 -0.33185 -0.3997 -0.4358   \n",
       "1000202 -0.9652      NaN  0.1115 -0.4334 -0.5558 -0.47700 -0.6717 -0.1680   \n",
       "\n",
       "Assay      ACP6   ACTA2  ...   WNT9A    WWP2    XCL1      XG  XPNPEP2  \\\n",
       "eid                      ...                                            \n",
       "1000041 -0.2001 -0.3444  ... -0.1501  0.1150 -1.1485 -0.1583   1.0802   \n",
       "1000059  0.8287  1.1382  ...  0.0244  1.3986 -0.5011 -0.1470  -2.0246   \n",
       "1000086 -0.3807 -0.3239  ... -0.1429 -0.4454  0.2656 -0.1033   1.5979   \n",
       "1000181  0.0848  0.0293  ... -0.0308 -0.0307  0.3940  0.1194  -0.8755   \n",
       "1000202 -1.2523  0.7740  ...     NaN     NaN -0.1239  0.0884   0.5496   \n",
       "\n",
       "Assay      XRCC4    YES1   YTHDF3   ZBTB16  ZBTB17  \n",
       "eid                                                 \n",
       "1000041  0.00705 -0.5165 -0.20180 -0.39815 -0.7475  \n",
       "1000059  0.69135  2.9295  1.70705  2.09095 -0.0563  \n",
       "1000086 -0.83675 -1.1427 -1.48585 -0.55125 -0.0230  \n",
       "1000181  0.18495 -0.2938 -0.43035 -0.27505 -0.4865  \n",
       "1000202  0.19695 -0.1406      NaN -0.10215 -0.0632  \n",
       "\n",
       "[5 rows x 1463 columns]"
      ]
     },
     "execution_count": 6,
     "metadata": {},
     "output_type": "execute_result"
    }
   ],
   "source": [
    "print(olink_i0_ap.shape)\n",
    "olink_i0_ap.head()"
   ]
  },
  {
   "cell_type": "code",
   "execution_count": 73,
   "id": "9581cac2-4bcd-46fb-9ff1-053f9b44edbd",
   "metadata": {},
   "outputs": [
    {
     "name": "stdout",
     "output_type": "stream",
     "text": [
      "total nans before replacement: 2181637\n"
     ]
    },
    {
     "name": "stderr",
     "output_type": "stream",
     "text": [
      "/tmp/ipykernel_536857/1266645818.py:6: FutureWarning: ChainedAssignmentError: behaviour will change in pandas 3.0!\n",
      "You are setting values through chained assignment. Currently this works in certain cases, but when using Copy-on-Write (which will become the default behaviour in pandas 3.0) this will never work to update the original DataFrame or Series, because the intermediate object on which we are setting values will behave as a copy.\n",
      "A typical example is when you are setting values in a column of a DataFrame, like:\n",
      "\n",
      "df[\"col\"][row_indexer] = value\n",
      "\n",
      "Use `df.loc[row_indexer, \"col\"] = values` instead, to perform the assignment in a single step and ensure this keeps updating the original `df`.\n",
      "\n",
      "See the caveats in the documentation: https://pandas.pydata.org/pandas-docs/stable/user_guide/indexing.html#returning-a-view-versus-a-copy\n",
      "\n",
      "  olink_i0_ap[col].loc[(olink_i0_ap[col] > (col_mean + 5 * col_std)) | (olink_i0_ap[col] < (col_mean - 5 * col_std))] = np.nan\n"
     ]
    },
    {
     "name": "stdout",
     "output_type": "stream",
     "text": [
      "total nans after replacement: 2270932\n"
     ]
    }
   ],
   "source": [
    "# print(f'total nans before replacement: {olink_i0_ap.isna().sum().sum()}')\n",
    "# #replace values more than 5 standard deviations from the mean with nan\n",
    "# # this is not required, already done by UKBB\n",
    "# for col in olink_i0_ap.columns:\n",
    "#     col_std = olink_i0_ap[col].std()\n",
    "#     col_mean = olink_i0_ap[col].mean()\n",
    "#     olink_i0_ap[col].loc[(olink_i0_ap[col] > (col_mean + 5 * col_std)) | (olink_i0_ap[col] < (col_mean - 5 * col_std))] = np.nan\n",
    "# print(f'total nans after replacement: {olink_i0_ap.isna().sum().sum()}')\n"
   ]
  },
  {
   "cell_type": "code",
   "execution_count": 24,
   "id": "29317b3c-250d-4c0d-9fe2-a7cc1879aaea",
   "metadata": {},
   "outputs": [
    {
     "data": {
      "text/plain": [
       "<matplotlib.legend.Legend at 0x7f2b87d06030>"
      ]
     },
     "execution_count": 24,
     "metadata": {},
     "output_type": "execute_result"
    },
    {
     "data": {
      "image/png": "[encoded data removed]",
      "text/plain": [
       "<Figure size 640x480 with 1 Axes>"
      ]
     },
     "metadata": {},
     "output_type": "display_data"
    }
   ],
   "source": [
    "nan_part = olink_i0_ap.isna().sum(axis=1)\n",
    "nan_part = nan_part.sort_values(ascending=False)\n",
    "\n",
    "plt.plot(np.arange(len(nan_part)), nan_part.values)\n",
    "plt.xlabel(\"participant\")\n",
    "plt.ylabel(\"amount of missing data\")\n",
    "plt.grid()\n",
    "plt.hlines(olink_i0_ap.shape[1] * 0.10, 0, olink_i0_ap.shape[0], label = \">10%\", color = \"r\")\n",
    "plt.hlines(olink_i0_ap.shape[1] * 0.05, 0, olink_i0_ap.shape[0], label = \">5%\", color = \"b\")\n",
    "plt.hlines(olink_i0_ap.shape[1] * 0.02, 0, olink_i0_ap.shape[0], label = \">2%\", color = \"g\")\n",
    "plt.hlines(olink_i0_ap.shape[1] * 0.01, 0, olink_i0_ap.shape[0], label = \">1%\", color = \"y\")\n",
    "plt.title(\"number of missing values per participant, before discarding\")\n",
    "plt.legend()"
   ]
  },
  {
   "cell_type": "code",
   "execution_count": 28,
   "id": "8cfe939e-c441-4d20-a731-4f9b25e7359c",
   "metadata": {},
   "outputs": [
    {
     "data": {
      "text/plain": [
       "<matplotlib.legend.Legend at 0x7f2baca42b40>"
      ]
     },
     "execution_count": 28,
     "metadata": {},
     "output_type": "execute_result"
    },
    {
     "data": {
      "image/png": "[encoded data removed]",
      "text/plain": [
       "<Figure size 640x480 with 1 Axes>"
      ]
     },
     "metadata": {},
     "output_type": "display_data"
    }
   ],
   "source": [
    "nan_part = olink_i0_ap.isna().sum(axis=0)\n",
    "nan_part = nan_part.sort_values(ascending=False)\n",
    "\n",
    "plt.plot(np.arange(len(nan_part)), nan_part.values)\n",
    "plt.xlabel(\"protein\")\n",
    "plt.ylabel(\"amount of missing data\")\n",
    "plt.grid()\n",
    "plt.hlines(olink_i0_ap.shape[0] * 0.10, 0, nan_part.shape[0], label = \">10%\", color = \"r\")\n",
    "plt.hlines(olink_i0_ap.shape[0] * 0.05, 0, nan_part.shape[0], label = \">5%\", color = \"b\")\n",
    "plt.hlines(olink_i0_ap.shape[0] * 0.02, 0, nan_part.shape[0], label = \">2%\", color = \"g\")\n",
    "plt.hlines(olink_i0_ap.shape[0] * 0.01, 0, nan_part.shape[0], label = \">1%\", color = \"y\")\n",
    "plt.title(\"number of missing values per protein, before discarding\")\n",
    "plt.legend()"
   ]
  },
  {
   "cell_type": "code",
   "execution_count": 26,
   "id": "8aa4fe4d-fca3-4478-bcbe-7c23f1ed2b37",
   "metadata": {},
   "outputs": [
    {
     "data": {
      "text/plain": [
       "(1463,)"
      ]
     },
     "execution_count": 26,
     "metadata": {},
     "output_type": "execute_result"
    }
   ],
   "source": [
    "nan_part.shape"
   ]
  },
  {
   "cell_type": "code",
   "execution_count": 19,
   "id": "ee850123-b373-45f3-b70e-4e677d29637a",
   "metadata": {},
   "outputs": [
    {
     "data": {
      "text/plain": [
       "Text(0.5, 1.0, 'number of missing values per protein (after discarding participants with >2% missing values)')"
      ]
     },
     "execution_count": 19,
     "metadata": {},
     "output_type": "execute_result"
    },
    {
     "data": {
      "image/png": "[encoded data removed]",
      "text/plain": [
       "<Figure size 640x480 with 1 Axes>"
      ]
     },
     "metadata": {},
     "output_type": "display_data"
    }
   ],
   "source": [
    "nan_prot_parts_dropped = olink_i0_nansdropped.isna().sum()\n",
    "nan_prot_parts_dropped = nan_prot_parts_dropped.sort_values(ascending=False)\n",
    "# nan_prot_parts_dropped = nan_prot_parts_dropped[:200]\n",
    "\n",
    "nan_prot_parts_dropped.plot.line()\n",
    "plt.ylabel(\"number of missing values\")\n",
    "plt.xlabel(\"participant\")\n",
    "plt.hlines(olink_i0_ap.shape[0] * 0.10, 0, nan_prot_parts_dropped.shape[0], label = \">10%\", color = \"r\")\n",
    "plt.hlines(olink_i0_ap.shape[0] * 0.05, 0, nan_prot_parts_dropped.shape[0], label = \">5%\", color = \"b\")\n",
    "plt.hlines(olink_i0_ap.shape[0] * 0.02, 0, nan_prot_parts_dropped.shape[0], label = \">2%\", color = \"g\")\n",
    "\n",
    "plt.hlines(olink_i0_ap.shape[0] * 0.01, 0, nan_prot_parts_dropped.shape[0], label = \">1%\", color = \"y\")\n",
    "\n",
    "plt.xticks(np.arange(0, nan_prot_parts_dropped.shape[0], step=200), np.arange(0, nan_prot_parts_dropped.shape[0], step=200))\n",
    "plt.legend()\n",
    "plt.grid()\n",
    "plt.title(\"number of missing values per protein (after discarding participants with >2% missing values)\")"
   ]
  },
  {
   "cell_type": "code",
   "execution_count": 24,
   "id": "f4858e74-389e-4834-926e-2863cbdeba9c",
   "metadata": {},
   "outputs": [
    {
     "data": {
      "text/plain": [
       "Index(['NPM1', 'PCOLCE', 'CTSS', 'TACSTD2', 'AMY2B', 'CTSD', 'KRT14', 'WFDC2',\n",
       "       'GKN1', 'AMY2A', 'CD93', 'MMP1', 'ISLR2', 'CD59', 'CEACAM5', 'CD55',\n",
       "       'EPHA2', 'CDH1', 'LPO', 'KLK8', 'AGR2', 'AZU1', 'ENPP7', 'GP2', 'LAMP2',\n",
       "       'LCN2', 'GSTP1', 'TIA1', 'SERPINA12', 'CRNN', 'COMT', 'HSP90B1'],\n",
       "      dtype='object', name='Assay')"
      ]
     },
     "execution_count": 24,
     "metadata": {},
     "output_type": "execute_result"
    }
   ],
   "source": [
    "excluded_proteins"
   ]
  },
  {
   "cell_type": "code",
   "execution_count": 20,
   "id": "69e266c5-adfc-43a8-82eb-24bcc63570f3",
   "metadata": {},
   "outputs": [],
   "source": []
  },
  {
   "cell_type": "code",
   "execution_count": 21,
   "id": "ce48e8e5-9015-49b0-bb98-c1c4ef4a277a",
   "metadata": {},
   "outputs": [],
   "source": [
    "nancols, nanrows = np.where(olink_i0_nansdropped.isna())\n",
    "\n",
    "# olink_i0_nansdropped[pd.isnull(olink_i0_nansdropped)]"
   ]
  },
  {
   "cell_type": "code",
   "execution_count": 22,
   "id": "cd588fd6-4fea-4f2e-84ce-7aa8ea9c9544",
   "metadata": {},
   "outputs": [],
   "source": [
    "all_changed_values_diff = np.zeros(len(nancols))\n",
    "for i, (nancol, nanrow) in enumerate(zip(nancols, nanrows)):\n",
    "    all_changed_values_diff[i] = olink_i0_ap_imputed[nancol, nanrow] - olink_i0_nansdropped.iloc[nancol, :].mean()\n"
   ]
  },
  {
   "cell_type": "code",
   "execution_count": 23,
   "id": "1d063f06-0d23-407f-aa50-1af34ccbd946",
   "metadata": {},
   "outputs": [
    {
     "data": {
      "text/plain": [
       "[<matplotlib.lines.Line2D at 0x7f58ef31e030>]"
      ]
     },
     "execution_count": 23,
     "metadata": {},
     "output_type": "execute_result"
    },
    {
     "data": {
      "image/png": "[encoded data removed]",
      "text/plain": [
       "<Figure size 640x480 with 1 Axes>"
      ]
     },
     "metadata": {},
     "output_type": "display_data"
    }
   ],
   "source": [
    "plt.plot(np.arange(len(all_changed_values_diff)), all_changed_values_diff)"
   ]
  },
  {
   "cell_type": "code",
   "execution_count": 24,
   "id": "dec3cd65-0e0c-4770-9963-de586fbdc66e",
   "metadata": {},
   "outputs": [
    {
     "data": {
      "text/plain": [
       "[<matplotlib.lines.Line2D at 0x7f58ef249220>]"
      ]
     },
     "execution_count": 24,
     "metadata": {},
     "output_type": "execute_result"
    },
    {
     "data": {
      "image/png": "[encoded data removed]",
      "text/plain": [
       "<Figure size 640x480 with 1 Axes>"
      ]
     },
     "metadata": {},
     "output_type": "display_data"
    }
   ],
   "source": [
    "plt.plot(np.arange(len(olink_i0_nansdropped.columns)), olink_i0_nansdropped.mean())"
   ]
  },
  {
   "cell_type": "code",
   "execution_count": 25,
   "id": "785b5094-f42a-4309-839f-a42f5f60873c",
   "metadata": {},
   "outputs": [
    {
     "data": {
      "text/html": [
       "<div>\n",
       "<style scoped>\n",
       "    .dataframe tbody tr th:only-of-type {\n",
       "        vertical-align: middle;\n",
       "    }\n",
       "\n",
       "    .dataframe tbody tr th {\n",
       "        vertical-align: top;\n",
       "    }\n",
       "\n",
       "    .dataframe thead th {\n",
       "        text-align: right;\n",
       "    }\n",
       "</style>\n",
       "<table border=\"1\" class=\"dataframe\">\n",
       "  <thead>\n",
       "    <tr style=\"text-align: right;\">\n",
       "      <th>Assay</th>\n",
       "      <th>AARSD1</th>\n",
       "      <th>ABHD14B</th>\n",
       "      <th>ABL1</th>\n",
       "      <th>ACAA1</th>\n",
       "      <th>ACAN</th>\n",
       "      <th>ACE2</th>\n",
       "      <th>ACOX1</th>\n",
       "      <th>ACP5</th>\n",
       "      <th>ACP6</th>\n",
       "      <th>ACTA2</th>\n",
       "      <th>...</th>\n",
       "      <th>WNT9A</th>\n",
       "      <th>WWP2</th>\n",
       "      <th>XCL1</th>\n",
       "      <th>XG</th>\n",
       "      <th>XPNPEP2</th>\n",
       "      <th>XRCC4</th>\n",
       "      <th>YES1</th>\n",
       "      <th>YTHDF3</th>\n",
       "      <th>ZBTB16</th>\n",
       "      <th>ZBTB17</th>\n",
       "    </tr>\n",
       "    <tr>\n",
       "      <th>eid</th>\n",
       "      <th></th>\n",
       "      <th></th>\n",
       "      <th></th>\n",
       "      <th></th>\n",
       "      <th></th>\n",
       "      <th></th>\n",
       "      <th></th>\n",
       "      <th></th>\n",
       "      <th></th>\n",
       "      <th></th>\n",
       "      <th></th>\n",
       "      <th></th>\n",
       "      <th></th>\n",
       "      <th></th>\n",
       "      <th></th>\n",
       "      <th></th>\n",
       "      <th></th>\n",
       "      <th></th>\n",
       "      <th></th>\n",
       "      <th></th>\n",
       "      <th></th>\n",
       "    </tr>\n",
       "  </thead>\n",
       "  <tbody>\n",
       "    <tr>\n",
       "      <th>1000041</th>\n",
       "      <td>0.3476</td>\n",
       "      <td>-0.1879</td>\n",
       "      <td>-0.3896</td>\n",
       "      <td>0.1511</td>\n",
       "      <td>0.5124</td>\n",
       "      <td>-0.28310</td>\n",
       "      <td>0.2759</td>\n",
       "      <td>-0.3092</td>\n",
       "      <td>-0.2001</td>\n",
       "      <td>-0.3444</td>\n",
       "      <td>...</td>\n",
       "      <td>-0.1501</td>\n",
       "      <td>0.1150</td>\n",
       "      <td>-1.1485</td>\n",
       "      <td>-0.1583</td>\n",
       "      <td>1.0802</td>\n",
       "      <td>0.00705</td>\n",
       "      <td>-0.5165</td>\n",
       "      <td>-0.20180</td>\n",
       "      <td>-0.39815</td>\n",
       "      <td>-0.7475</td>\n",
       "    </tr>\n",
       "    <tr>\n",
       "      <th>1000059</th>\n",
       "      <td>0.4166</td>\n",
       "      <td>0.8393</td>\n",
       "      <td>2.0818</td>\n",
       "      <td>1.2678</td>\n",
       "      <td>-0.0384</td>\n",
       "      <td>-0.19625</td>\n",
       "      <td>1.0011</td>\n",
       "      <td>-0.3905</td>\n",
       "      <td>0.8287</td>\n",
       "      <td>1.1382</td>\n",
       "      <td>...</td>\n",
       "      <td>0.0244</td>\n",
       "      <td>1.3986</td>\n",
       "      <td>-0.5011</td>\n",
       "      <td>-0.1470</td>\n",
       "      <td>-2.0246</td>\n",
       "      <td>0.69135</td>\n",
       "      <td>2.9295</td>\n",
       "      <td>1.70705</td>\n",
       "      <td>2.09095</td>\n",
       "      <td>-0.0563</td>\n",
       "    </tr>\n",
       "    <tr>\n",
       "      <th>1000086</th>\n",
       "      <td>0.7667</td>\n",
       "      <td>0.1949</td>\n",
       "      <td>-0.5907</td>\n",
       "      <td>-2.0024</td>\n",
       "      <td>0.1910</td>\n",
       "      <td>0.05565</td>\n",
       "      <td>-0.5210</td>\n",
       "      <td>-0.0292</td>\n",
       "      <td>-0.3807</td>\n",
       "      <td>-0.3239</td>\n",
       "      <td>...</td>\n",
       "      <td>-0.1429</td>\n",
       "      <td>-0.4454</td>\n",
       "      <td>0.2656</td>\n",
       "      <td>-0.1033</td>\n",
       "      <td>1.5979</td>\n",
       "      <td>-0.83675</td>\n",
       "      <td>-1.1427</td>\n",
       "      <td>-1.48585</td>\n",
       "      <td>-0.55125</td>\n",
       "      <td>-0.0230</td>\n",
       "    </tr>\n",
       "    <tr>\n",
       "      <th>1000181</th>\n",
       "      <td>-0.4305</td>\n",
       "      <td>-0.3222</td>\n",
       "      <td>-0.3300</td>\n",
       "      <td>-0.5217</td>\n",
       "      <td>-0.4388</td>\n",
       "      <td>-0.33185</td>\n",
       "      <td>-0.3997</td>\n",
       "      <td>-0.4358</td>\n",
       "      <td>0.0848</td>\n",
       "      <td>0.0293</td>\n",
       "      <td>...</td>\n",
       "      <td>-0.0308</td>\n",
       "      <td>-0.0307</td>\n",
       "      <td>0.3940</td>\n",
       "      <td>0.1194</td>\n",
       "      <td>-0.8755</td>\n",
       "      <td>0.18495</td>\n",
       "      <td>-0.2938</td>\n",
       "      <td>-0.43035</td>\n",
       "      <td>-0.27505</td>\n",
       "      <td>-0.4865</td>\n",
       "    </tr>\n",
       "    <tr>\n",
       "      <th>1000345</th>\n",
       "      <td>0.3191</td>\n",
       "      <td>0.5591</td>\n",
       "      <td>0.4769</td>\n",
       "      <td>-0.2783</td>\n",
       "      <td>0.2849</td>\n",
       "      <td>0.16560</td>\n",
       "      <td>0.0844</td>\n",
       "      <td>-0.0938</td>\n",
       "      <td>0.0633</td>\n",
       "      <td>-0.0207</td>\n",
       "      <td>...</td>\n",
       "      <td>0.0618</td>\n",
       "      <td>0.3204</td>\n",
       "      <td>-0.3574</td>\n",
       "      <td>-0.5261</td>\n",
       "      <td>-0.3112</td>\n",
       "      <td>-0.18660</td>\n",
       "      <td>1.0092</td>\n",
       "      <td>0.96570</td>\n",
       "      <td>0.36930</td>\n",
       "      <td>0.3052</td>\n",
       "    </tr>\n",
       "  </tbody>\n",
       "</table>\n",
       "<p>5 rows × 1427 columns</p>\n",
       "</div>"
      ],
      "text/plain": [
       "Assay    AARSD1  ABHD14B    ABL1   ACAA1    ACAN     ACE2   ACOX1    ACP5  \\\n",
       "eid                                                                         \n",
       "1000041  0.3476  -0.1879 -0.3896  0.1511  0.5124 -0.28310  0.2759 -0.3092   \n",
       "1000059  0.4166   0.8393  2.0818  1.2678 -0.0384 -0.19625  1.0011 -0.3905   \n",
       "1000086  0.7667   0.1949 -0.5907 -2.0024  0.1910  0.05565 -0.5210 -0.0292   \n",
       "1000181 -0.4305  -0.3222 -0.3300 -0.5217 -0.4388 -0.33185 -0.3997 -0.4358   \n",
       "1000345  0.3191   0.5591  0.4769 -0.2783  0.2849  0.16560  0.0844 -0.0938   \n",
       "\n",
       "Assay      ACP6   ACTA2  ...   WNT9A    WWP2    XCL1      XG  XPNPEP2  \\\n",
       "eid                      ...                                            \n",
       "1000041 -0.2001 -0.3444  ... -0.1501  0.1150 -1.1485 -0.1583   1.0802   \n",
       "1000059  0.8287  1.1382  ...  0.0244  1.3986 -0.5011 -0.1470  -2.0246   \n",
       "1000086 -0.3807 -0.3239  ... -0.1429 -0.4454  0.2656 -0.1033   1.5979   \n",
       "1000181  0.0848  0.0293  ... -0.0308 -0.0307  0.3940  0.1194  -0.8755   \n",
       "1000345  0.0633 -0.0207  ...  0.0618  0.3204 -0.3574 -0.5261  -0.3112   \n",
       "\n",
       "Assay      XRCC4    YES1   YTHDF3   ZBTB16  ZBTB17  \n",
       "eid                                                 \n",
       "1000041  0.00705 -0.5165 -0.20180 -0.39815 -0.7475  \n",
       "1000059  0.69135  2.9295  1.70705  2.09095 -0.0563  \n",
       "1000086 -0.83675 -1.1427 -1.48585 -0.55125 -0.0230  \n",
       "1000181  0.18495 -0.2938 -0.43035 -0.27505 -0.4865  \n",
       "1000345 -0.18660  1.0092  0.96570  0.36930  0.3052  \n",
       "\n",
       "[5 rows x 1427 columns]"
      ]
     },
     "execution_count": 25,
     "metadata": {},
     "output_type": "execute_result"
    }
   ],
   "source": [
    "proteins_final_df = pd.DataFrame(data = olink_i0_ap_imputed, columns = olink_i0_nansdropped.columns, index = olink_i0_nansdropped.index)\n",
    "proteins_final_df.head()"
   ]
  },
  {
   "cell_type": "code",
   "execution_count": 26,
   "id": "2101ee57-441a-4f4f-ac15-71463f3a2bfc",
   "metadata": {
    "scrolled": true
   },
   "outputs": [
    {
     "data": {
      "text/plain": [
       "(41701, 1427)"
      ]
     },
     "execution_count": 26,
     "metadata": {},
     "output_type": "execute_result"
    }
   ],
   "source": [
    "proteins_final_df.shape"
   ]
  },
  {
   "cell_type": "code",
   "execution_count": 13,
   "id": "67fe7090-4b5d-427d-9559-171db41f8259",
   "metadata": {},
   "outputs": [],
   "source": [
    "np.savetxt(\"eids_proteins.csv\", olink_i0_excl.index)"
   ]
  },
  {
   "cell_type": "code",
   "execution_count": 14,
   "id": "55c17de6-49af-4982-b013-6a44e657f31e",
   "metadata": {},
   "outputs": [],
   "source": [
    "proteins_final_df = olink_i0_excl"
   ]
  },
  {
   "cell_type": "markdown",
   "id": "1d26c992-3c38-4827-8057-4f33e4576015",
   "metadata": {},
   "source": [
    "## split in train/validate/test"
   ]
  },
  {
   "cell_type": "code",
   "execution_count": 15,
   "id": "eb85a850-114a-4e97-a9f9-db1d0d36346b",
   "metadata": {},
   "outputs": [],
   "source": [
    "# we split into 70% train, 20% validate and 10% test\n",
    "# we first create the protein + metabolomics set, then we add protein data to each set to create the protein-only dataset\n",
    "\n",
    "# read in eids\n",
    "mb_eids = np.genfromtxt(\"Data/NMR_ids.csv\")\n",
    "prot_eids = proteins_final_df.index.values\n",
    "\n",
    "# find overlapping set\n",
    "overlapping_ids, mb_idx, prot_idx = np.intersect1d(mb_eids, prot_eids, return_indices = True)\n",
    "\n",
    "# create 70/20/10 split in the overlapping set\n",
    "# shuffle and split\n",
    "rng = np.random.default_rng(seed = 42)\n",
    "rng.shuffle(overlapping_ids)\n",
    "train_cutoff = math.floor(0.7 * len(overlapping_ids))\n",
    "val_cutoff = math.floor(0.9 * len(overlapping_ids))\n",
    "combined_train = overlapping_ids[:train_cutoff]\n",
    "combined_val = overlapping_ids[train_cutoff:val_cutoff]\n",
    "combined_test = overlapping_ids[val_cutoff:]"
   ]
  },
  {
   "cell_type": "code",
   "execution_count": 16,
   "id": "bac51afa-0d70-4cd5-be0a-d23fdc07cf8b",
   "metadata": {},
   "outputs": [],
   "source": [
    "# create protein-only set\n",
    "# we combine this with the combined set to train olink-only models (this is just an easy way to create that set)\n",
    "\n",
    "# remove combined eid\n",
    "prot_only_eids = np.delete(prot_eids, prot_idx)\n",
    "\n",
    "# create 70/20/10 split in the protein only set\n",
    "# shuffle and split\n",
    "rng = np.random.default_rng(seed = 42)\n",
    "rng.shuffle(overlapping_ids)\n",
    "train_cutoff = math.floor(0.7 * len(prot_only_eids))\n",
    "val_cutoff = math.floor(0.9 * len(prot_only_eids))\n",
    "prot_only_train = prot_only_eids[:train_cutoff]\n",
    "prot_only_val = prot_only_eids[train_cutoff:val_cutoff]\n",
    "prot_only_test = prot_only_eids[val_cutoff:]"
   ]
  },
  {
   "cell_type": "code",
   "execution_count": 17,
   "id": "0bb1c99e-ab5a-4386-a6cf-2ae7b0262361",
   "metadata": {},
   "outputs": [],
   "source": [
    "# combine for full protein test/train/val sets\n",
    "full_train_eids = np.concatenate((prot_only_train, combined_train))\n",
    "full_test_eids = np.concatenate((prot_only_test, combined_test))\n",
    "full_val_eids = np.concatenate((prot_only_val, combined_val))"
   ]
  },
  {
   "cell_type": "code",
   "execution_count": 18,
   "id": "a707585a-8693-401a-b96b-68098feb8b79",
   "metadata": {},
   "outputs": [
    {
     "data": {
      "text/plain": [
       "(28487, 4071, 8138)"
      ]
     },
     "execution_count": 18,
     "metadata": {},
     "output_type": "execute_result"
    }
   ],
   "source": [
    "len(full_train_eids), len(full_test_eids), len(full_val_eids),"
   ]
  },
  {
   "cell_type": "code",
   "execution_count": 19,
   "id": "705f4c58-4fb2-4c67-beba-dbe5294d4a54",
   "metadata": {},
   "outputs": [],
   "source": [
    "# save subset eids\n",
    "# naming convention:\n",
    "# - full: combination of subsets with and without metabolites\n",
    "# - prot_only: subset without metabolites\n",
    "# - combined: subset with metabolites\n",
    "\n",
    "np.savetxt(\"full_train_eids.csv\", full_train_eids)\n",
    "np.savetxt(\"full_test_eids.csv\", full_test_eids)\n",
    "np.savetxt(\"full_val_eids.csv\", full_val_eids)\n",
    "\n",
    "np.savetxt(\"prot_only_train_eids.csv\", prot_only_train)\n",
    "np.savetxt(\"prot_only_test_eids.csv\", prot_only_test)\n",
    "np.savetxt(\"prot_only_val_eids.csv\", prot_only_val)\n",
    "\n",
    "np.savetxt(\"combined_train_eids.csv\", combined_train)\n",
    "np.savetxt(\"combined_test_eids.csv\", combined_test)\n",
    "np.savetxt(\"combined_val_eids.csv\", combined_val)\n"
   ]
  },
  {
   "cell_type": "code",
   "execution_count": 36,
   "id": "769c863c-33f9-4e3b-8864-90dff4b0da4c",
   "metadata": {},
   "outputs": [],
   "source": [
    "# load eids\n",
    "full_train_eids = np.genfromtxt(\"full_train_eids.csv\").astype(np.uint64)\n",
    "full_test_eids = np.genfromtxt(\"full_test_eids.csv\").astype(np.uint64)\n",
    "full_val_eids = np.genfromtxt(\"full_val_eids.csv\").astype(np.uint64)\n",
    "\n",
    "\n",
    "combined_train_eids = np.genfromtxt(\"combined_train_eids.csv\").astype(np.uint64)\n",
    "combined_test_eids = np.genfromtxt(\"combined_test_eids.csv\").astype(np.uint64)\n",
    "combined_val_eids = np.genfromtxt(\"combined_val_eids.csv\").astype(np.uint64)"
   ]
  },
  {
   "cell_type": "code",
   "execution_count": 37,
   "id": "a7611067-2384-4fbb-afe8-87fe6ac1542f",
   "metadata": {
    "scrolled": true
   },
   "outputs": [
    {
     "data": {
      "text/plain": [
       "1000041"
      ]
     },
     "execution_count": 37,
     "metadata": {},
     "output_type": "execute_result"
    }
   ],
   "source": [
    "full_train_eids[0]"
   ]
  },
  {
   "cell_type": "code",
   "execution_count": 35,
   "id": "3192825c-68cf-4b81-a779-ac15a080ec8f",
   "metadata": {
    "scrolled": true
   },
   "outputs": [
    {
     "data": {
      "text/plain": [
       "1000041"
      ]
     },
     "execution_count": 35,
     "metadata": {},
     "output_type": "execute_result"
    }
   ],
   "source": [
    "proteins_final_df.index[0]"
   ]
  },
  {
   "cell_type": "code",
   "execution_count": 33,
   "id": "7e1b1974-93eb-4530-b87f-fc4de5e645e7",
   "metadata": {},
   "outputs": [
    {
     "data": {
      "text/html": [
       "<div>\n",
       "<style scoped>\n",
       "    .dataframe tbody tr th:only-of-type {\n",
       "        vertical-align: middle;\n",
       "    }\n",
       "\n",
       "    .dataframe tbody tr th {\n",
       "        vertical-align: top;\n",
       "    }\n",
       "\n",
       "    .dataframe thead th {\n",
       "        text-align: right;\n",
       "    }\n",
       "</style>\n",
       "<table border=\"1\" class=\"dataframe\">\n",
       "  <thead>\n",
       "    <tr style=\"text-align: right;\">\n",
       "      <th></th>\n",
       "      <th>AARSD1</th>\n",
       "      <th>ABHD14B</th>\n",
       "      <th>ABL1</th>\n",
       "      <th>ACAA1</th>\n",
       "      <th>ACAN</th>\n",
       "      <th>ACE2</th>\n",
       "      <th>ACOX1</th>\n",
       "      <th>ACP5</th>\n",
       "      <th>ACP6</th>\n",
       "      <th>ACTA2</th>\n",
       "      <th>...</th>\n",
       "      <th>WNT9A</th>\n",
       "      <th>WWP2</th>\n",
       "      <th>XCL1</th>\n",
       "      <th>XG</th>\n",
       "      <th>XPNPEP2</th>\n",
       "      <th>XRCC4</th>\n",
       "      <th>YES1</th>\n",
       "      <th>YTHDF3</th>\n",
       "      <th>ZBTB16</th>\n",
       "      <th>ZBTB17</th>\n",
       "    </tr>\n",
       "    <tr>\n",
       "      <th>eid</th>\n",
       "      <th></th>\n",
       "      <th></th>\n",
       "      <th></th>\n",
       "      <th></th>\n",
       "      <th></th>\n",
       "      <th></th>\n",
       "      <th></th>\n",
       "      <th></th>\n",
       "      <th></th>\n",
       "      <th></th>\n",
       "      <th></th>\n",
       "      <th></th>\n",
       "      <th></th>\n",
       "      <th></th>\n",
       "      <th></th>\n",
       "      <th></th>\n",
       "      <th></th>\n",
       "      <th></th>\n",
       "      <th></th>\n",
       "      <th></th>\n",
       "      <th></th>\n",
       "    </tr>\n",
       "  </thead>\n",
       "  <tbody>\n",
       "    <tr>\n",
       "      <th>1000041</th>\n",
       "      <td>0.3476</td>\n",
       "      <td>-0.1879</td>\n",
       "      <td>-0.3896</td>\n",
       "      <td>0.1511</td>\n",
       "      <td>0.5124</td>\n",
       "      <td>-0.28310</td>\n",
       "      <td>0.2759</td>\n",
       "      <td>-0.3092</td>\n",
       "      <td>-0.2001</td>\n",
       "      <td>-0.3444</td>\n",
       "      <td>...</td>\n",
       "      <td>-0.1501</td>\n",
       "      <td>0.1150</td>\n",
       "      <td>-1.1485</td>\n",
       "      <td>-0.1583</td>\n",
       "      <td>1.0802</td>\n",
       "      <td>0.00705</td>\n",
       "      <td>-0.5165</td>\n",
       "      <td>-0.20180</td>\n",
       "      <td>-0.39815</td>\n",
       "      <td>-0.7475</td>\n",
       "    </tr>\n",
       "    <tr>\n",
       "      <th>1000059</th>\n",
       "      <td>0.4166</td>\n",
       "      <td>0.8393</td>\n",
       "      <td>2.0818</td>\n",
       "      <td>1.2678</td>\n",
       "      <td>-0.0384</td>\n",
       "      <td>-0.19625</td>\n",
       "      <td>1.0011</td>\n",
       "      <td>-0.3905</td>\n",
       "      <td>0.8287</td>\n",
       "      <td>1.1382</td>\n",
       "      <td>...</td>\n",
       "      <td>0.0244</td>\n",
       "      <td>1.3986</td>\n",
       "      <td>-0.5011</td>\n",
       "      <td>-0.1470</td>\n",
       "      <td>-2.0246</td>\n",
       "      <td>0.69135</td>\n",
       "      <td>2.9295</td>\n",
       "      <td>1.70705</td>\n",
       "      <td>2.09095</td>\n",
       "      <td>-0.0563</td>\n",
       "    </tr>\n",
       "    <tr>\n",
       "      <th>1000086</th>\n",
       "      <td>0.7667</td>\n",
       "      <td>0.1949</td>\n",
       "      <td>-0.5907</td>\n",
       "      <td>-2.0024</td>\n",
       "      <td>0.1910</td>\n",
       "      <td>0.05565</td>\n",
       "      <td>-0.5210</td>\n",
       "      <td>-0.0292</td>\n",
       "      <td>-0.3807</td>\n",
       "      <td>-0.3239</td>\n",
       "      <td>...</td>\n",
       "      <td>-0.1429</td>\n",
       "      <td>-0.4454</td>\n",
       "      <td>0.2656</td>\n",
       "      <td>-0.1033</td>\n",
       "      <td>1.5979</td>\n",
       "      <td>-0.83675</td>\n",
       "      <td>-1.1427</td>\n",
       "      <td>-1.48585</td>\n",
       "      <td>-0.55125</td>\n",
       "      <td>-0.0230</td>\n",
       "    </tr>\n",
       "    <tr>\n",
       "      <th>1000181</th>\n",
       "      <td>-0.4305</td>\n",
       "      <td>-0.3222</td>\n",
       "      <td>-0.3300</td>\n",
       "      <td>-0.5217</td>\n",
       "      <td>-0.4388</td>\n",
       "      <td>-0.33185</td>\n",
       "      <td>-0.3997</td>\n",
       "      <td>-0.4358</td>\n",
       "      <td>0.0848</td>\n",
       "      <td>0.0293</td>\n",
       "      <td>...</td>\n",
       "      <td>-0.0308</td>\n",
       "      <td>-0.0307</td>\n",
       "      <td>0.3940</td>\n",
       "      <td>0.1194</td>\n",
       "      <td>-0.8755</td>\n",
       "      <td>0.18495</td>\n",
       "      <td>-0.2938</td>\n",
       "      <td>-0.43035</td>\n",
       "      <td>-0.27505</td>\n",
       "      <td>-0.4865</td>\n",
       "    </tr>\n",
       "    <tr>\n",
       "      <th>1000345</th>\n",
       "      <td>0.3191</td>\n",
       "      <td>0.5591</td>\n",
       "      <td>0.4769</td>\n",
       "      <td>-0.2783</td>\n",
       "      <td>0.2849</td>\n",
       "      <td>0.16560</td>\n",
       "      <td>0.0844</td>\n",
       "      <td>-0.0938</td>\n",
       "      <td>0.0633</td>\n",
       "      <td>-0.0207</td>\n",
       "      <td>...</td>\n",
       "      <td>0.0618</td>\n",
       "      <td>0.3204</td>\n",
       "      <td>-0.3574</td>\n",
       "      <td>-0.5261</td>\n",
       "      <td>-0.3112</td>\n",
       "      <td>-0.18660</td>\n",
       "      <td>1.0092</td>\n",
       "      <td>0.96570</td>\n",
       "      <td>0.36930</td>\n",
       "      <td>0.3052</td>\n",
       "    </tr>\n",
       "  </tbody>\n",
       "</table>\n",
       "<p>5 rows × 1428 columns</p>\n",
       "</div>"
      ],
      "text/plain": [
       "         AARSD1  ABHD14B    ABL1   ACAA1    ACAN     ACE2   ACOX1    ACP5  \\\n",
       "eid                                                                         \n",
       "1000041  0.3476  -0.1879 -0.3896  0.1511  0.5124 -0.28310  0.2759 -0.3092   \n",
       "1000059  0.4166   0.8393  2.0818  1.2678 -0.0384 -0.19625  1.0011 -0.3905   \n",
       "1000086  0.7667   0.1949 -0.5907 -2.0024  0.1910  0.05565 -0.5210 -0.0292   \n",
       "1000181 -0.4305  -0.3222 -0.3300 -0.5217 -0.4388 -0.33185 -0.3997 -0.4358   \n",
       "1000345  0.3191   0.5591  0.4769 -0.2783  0.2849  0.16560  0.0844 -0.0938   \n",
       "\n",
       "           ACP6   ACTA2  ...   WNT9A    WWP2    XCL1      XG  XPNPEP2  \\\n",
       "eid                      ...                                            \n",
       "1000041 -0.2001 -0.3444  ... -0.1501  0.1150 -1.1485 -0.1583   1.0802   \n",
       "1000059  0.8287  1.1382  ...  0.0244  1.3986 -0.5011 -0.1470  -2.0246   \n",
       "1000086 -0.3807 -0.3239  ... -0.1429 -0.4454  0.2656 -0.1033   1.5979   \n",
       "1000181  0.0848  0.0293  ... -0.0308 -0.0307  0.3940  0.1194  -0.8755   \n",
       "1000345  0.0633 -0.0207  ...  0.0618  0.3204 -0.3574 -0.5261  -0.3112   \n",
       "\n",
       "           XRCC4    YES1   YTHDF3   ZBTB16  ZBTB17  \n",
       "eid                                                 \n",
       "1000041  0.00705 -0.5165 -0.20180 -0.39815 -0.7475  \n",
       "1000059  0.69135  2.9295  1.70705  2.09095 -0.0563  \n",
       "1000086 -0.83675 -1.1427 -1.48585 -0.55125 -0.0230  \n",
       "1000181  0.18495 -0.2938 -0.43035 -0.27505 -0.4865  \n",
       "1000345 -0.18660  1.0092  0.96570  0.36930  0.3052  \n",
       "\n",
       "[5 rows x 1428 columns]"
      ]
     },
     "execution_count": 33,
     "metadata": {},
     "output_type": "execute_result"
    }
   ],
   "source": [
    "proteins_final_df = pd.read_csv(\"proteins_UKBB_imputed.csv\", index_col = \"eid\")\n",
    "proteins_final_df.head()"
   ]
  },
  {
   "cell_type": "code",
   "execution_count": 39,
   "id": "01695ced-2fd3-4e17-9178-ce019d4c240d",
   "metadata": {},
   "outputs": [],
   "source": [
    "# use eids to create datasplits for protein data\n",
    "full_train_df = proteins_final_df.loc[full_train_eids]\n",
    "full_test_df = proteins_final_df.loc[full_test_eids]\n",
    "full_val_df = proteins_final_df.loc[full_val_eids]\n",
    "\n",
    "combined_train_df = proteins_final_df.loc[combined_train_eids]\n",
    "combined_test_df = proteins_final_df.loc[combined_test_eids]\n",
    "combined_val_df = proteins_final_df.loc[combined_val_eids]"
   ]
  },
  {
   "cell_type": "code",
   "execution_count": 46,
   "id": "561f867e-efdb-494a-ac34-018fee4ace08",
   "metadata": {
    "scrolled": true
   },
   "outputs": [
    {
     "data": {
      "text/html": [
       "<div>\n",
       "<style scoped>\n",
       "    .dataframe tbody tr th:only-of-type {\n",
       "        vertical-align: middle;\n",
       "    }\n",
       "\n",
       "    .dataframe tbody tr th {\n",
       "        vertical-align: top;\n",
       "    }\n",
       "\n",
       "    .dataframe thead th {\n",
       "        text-align: right;\n",
       "    }\n",
       "</style>\n",
       "<table border=\"1\" class=\"dataframe\">\n",
       "  <thead>\n",
       "    <tr style=\"text-align: right;\">\n",
       "      <th></th>\n",
       "      <th>eid</th>\n",
       "      <th>Assay</th>\n",
       "      <th>NPX</th>\n",
       "      <th>Panel</th>\n",
       "      <th>Panel_Lot_Nr</th>\n",
       "      <th>Assay_Version</th>\n",
       "      <th>PlateID</th>\n",
       "      <th>WellID</th>\n",
       "      <th>Batch</th>\n",
       "      <th>LOD</th>\n",
       "      <th>Processing_StartDate</th>\n",
       "      <th>Instance</th>\n",
       "    </tr>\n",
       "  </thead>\n",
       "  <tbody>\n",
       "    <tr>\n",
       "      <th>0</th>\n",
       "      <td>1000181</td>\n",
       "      <td>AARSD1</td>\n",
       "      <td>-0.4305</td>\n",
       "      <td>Oncology</td>\n",
       "      <td>B04412</td>\n",
       "      <td>1.0</td>\n",
       "      <td>8.900000e+11</td>\n",
       "      <td>D08</td>\n",
       "      <td>3.0</td>\n",
       "      <td>-5.1861</td>\n",
       "      <td>2021-08-26</td>\n",
       "      <td>0</td>\n",
       "    </tr>\n",
       "    <tr>\n",
       "      <th>1</th>\n",
       "      <td>1000181</td>\n",
       "      <td>ABHD14B</td>\n",
       "      <td>-0.3222</td>\n",
       "      <td>Neurology</td>\n",
       "      <td>B04414</td>\n",
       "      <td>1.0</td>\n",
       "      <td>8.900000e+11</td>\n",
       "      <td>D08</td>\n",
       "      <td>3.0</td>\n",
       "      <td>-4.1701</td>\n",
       "      <td>2021-08-26</td>\n",
       "      <td>0</td>\n",
       "    </tr>\n",
       "    <tr>\n",
       "      <th>2</th>\n",
       "      <td>1000181</td>\n",
       "      <td>ABL1</td>\n",
       "      <td>-0.3300</td>\n",
       "      <td>Oncology</td>\n",
       "      <td>B04412</td>\n",
       "      <td>1.0</td>\n",
       "      <td>8.900000e+11</td>\n",
       "      <td>D08</td>\n",
       "      <td>3.0</td>\n",
       "      <td>-4.3769</td>\n",
       "      <td>2021-08-26</td>\n",
       "      <td>0</td>\n",
       "    </tr>\n",
       "    <tr>\n",
       "      <th>3</th>\n",
       "      <td>1000181</td>\n",
       "      <td>ACAA1</td>\n",
       "      <td>-0.5217</td>\n",
       "      <td>Oncology</td>\n",
       "      <td>B04412</td>\n",
       "      <td>1.0</td>\n",
       "      <td>8.900000e+11</td>\n",
       "      <td>D08</td>\n",
       "      <td>3.0</td>\n",
       "      <td>-1.2737</td>\n",
       "      <td>2021-08-26</td>\n",
       "      <td>0</td>\n",
       "    </tr>\n",
       "    <tr>\n",
       "      <th>4</th>\n",
       "      <td>1000181</td>\n",
       "      <td>ACAN</td>\n",
       "      <td>-0.4388</td>\n",
       "      <td>Cardiometabolic</td>\n",
       "      <td>B04413</td>\n",
       "      <td>1.0</td>\n",
       "      <td>8.900000e+11</td>\n",
       "      <td>D08</td>\n",
       "      <td>3.0</td>\n",
       "      <td>-3.4464</td>\n",
       "      <td>2021-08-26</td>\n",
       "      <td>0</td>\n",
       "    </tr>\n",
       "  </tbody>\n",
       "</table>\n",
       "</div>"
      ],
      "text/plain": [
       "       eid    Assay     NPX            Panel Panel_Lot_Nr  Assay_Version  \\\n",
       "0  1000181   AARSD1 -0.4305         Oncology       B04412            1.0   \n",
       "1  1000181  ABHD14B -0.3222        Neurology       B04414            1.0   \n",
       "2  1000181     ABL1 -0.3300         Oncology       B04412            1.0   \n",
       "3  1000181    ACAA1 -0.5217         Oncology       B04412            1.0   \n",
       "4  1000181     ACAN -0.4388  Cardiometabolic       B04413            1.0   \n",
       "\n",
       "        PlateID WellID  Batch     LOD Processing_StartDate  Instance  \n",
       "0  8.900000e+11    D08    3.0 -5.1861           2021-08-26         0  \n",
       "1  8.900000e+11    D08    3.0 -4.1701           2021-08-26         0  \n",
       "2  8.900000e+11    D08    3.0 -4.3769           2021-08-26         0  \n",
       "3  8.900000e+11    D08    3.0 -1.2737           2021-08-26         0  \n",
       "4  8.900000e+11    D08    3.0 -3.4464           2021-08-26         0  "
      ]
     },
     "execution_count": 46,
     "metadata": {},
     "output_type": "execute_result"
    }
   ],
   "source": [
    "olink_i0.head()"
   ]
  },
  {
   "cell_type": "code",
   "execution_count": 42,
   "id": "643bb980-16a4-4930-96e3-dcad3aa2c861",
   "metadata": {},
   "outputs": [],
   "source": [
    "# determine olink proteins\n",
    "olink_prots = olink_i0.loc[olink_i0['Panel'] == \"Cardiometabolic\"]['Assay'].unique()"
   ]
  },
  {
   "cell_type": "code",
   "execution_count": 22,
   "id": "328901fe-2f25-4ce7-ae72-946fca3cb65f",
   "metadata": {},
   "outputs": [
    {
     "data": {
      "text/plain": [
       "366"
      ]
     },
     "execution_count": 22,
     "metadata": {},
     "output_type": "execute_result"
    }
   ],
   "source": [
    "len(olink_prots)"
   ]
  },
  {
   "cell_type": "code",
   "execution_count": 43,
   "id": "b15cd3f7-657d-4aa9-b47b-9b70c5ee0f50",
   "metadata": {},
   "outputs": [],
   "source": [
    "olink_prots_not_discarded = np.intersect1d(olink_prots, full_train_df.columns)"
   ]
  },
  {
   "cell_type": "code",
   "execution_count": 24,
   "id": "0026353c-c8d0-411b-8d81-b456e8e73674",
   "metadata": {},
   "outputs": [
    {
     "data": {
      "text/plain": [
       "344"
      ]
     },
     "execution_count": 24,
     "metadata": {},
     "output_type": "execute_result"
    }
   ],
   "source": [
    "len(olink_prots_not_discarded)"
   ]
  },
  {
   "cell_type": "code",
   "execution_count": 44,
   "id": "96ebf68f-a337-4cd1-9f19-afa8d295e01c",
   "metadata": {},
   "outputs": [],
   "source": [
    "# create different set with VOILA olink-only proteins\n",
    "full_train_cmb = full_train_df[olink_prots_not_discarded]\n",
    "full_test_cmb = full_test_df[olink_prots_not_discarded]\n",
    "full_val_cmb = full_val_df[olink_prots_not_discarded]\n",
    "\n",
    "combined_train_cmb = combined_train_df[olink_prots_not_discarded]\n",
    "combined_test_cmb = combined_test_df[olink_prots_not_discarded]\n",
    "combined_val_cmb = combined_val_df[olink_prots_not_discarded]"
   ]
  },
  {
   "cell_type": "code",
   "execution_count": 26,
   "id": "a0b50075-b6ca-448e-9cde-d988bad5884c",
   "metadata": {},
   "outputs": [
    {
     "data": {
      "text/plain": [
       "(28487, 344)"
      ]
     },
     "execution_count": 26,
     "metadata": {},
     "output_type": "execute_result"
    }
   ],
   "source": [
    "full_train_olink.shape"
   ]
  },
  {
   "cell_type": "code",
   "execution_count": 45,
   "id": "0db52d39-17f3-4179-b0e8-706ee846a008",
   "metadata": {},
   "outputs": [],
   "source": [
    "# save to csv\n",
    "full_train_df.to_csv(\"full_train.csv\")\n",
    "full_test_df.to_csv(\"full_test.csv\")\n",
    "full_val_df.to_csv(\"full_val.csv\")\n",
    "\n",
    "combined_train_df.to_csv(\"combined_train.csv\")\n",
    "combined_test_df.to_csv(\"combined_test.csv\")\n",
    "combined_val_df.to_csv(\"combined_val.csv\")"
   ]
  },
  {
   "cell_type": "code",
   "execution_count": 46,
   "id": "74165bc7-57d0-4a0b-a79f-db8fa2c3e9a0",
   "metadata": {},
   "outputs": [],
   "source": [
    "# save to csv\n",
    "full_train_cmb.to_csv(\"full_train_cmb.csv\")\n",
    "full_test_cmb.to_csv(\"full_test_cmb.csv\")\n",
    "full_val_cmb.to_csv(\"full_val_cmb.csv\")\n",
    "\n",
    "combined_train_cmb.to_csv(\"combined_train_cmb.csv\")\n",
    "combined_test_cmb.to_csv(\"combined_test_cmb.csv\")\n",
    "combined_val_cmb.to_csv(\"combined_val_cmb.csv\")"
   ]
  },
  {
   "cell_type": "code",
   "execution_count": 84,
   "id": "112267ad-f66e-4f5f-be48-4567dae5ff86",
   "metadata": {},
   "outputs": [
    {
     "data": {
      "text/plain": [
       "(28487, 344)"
      ]
     },
     "execution_count": 84,
     "metadata": {},
     "output_type": "execute_result"
    }
   ],
   "source": [
    "full_train_cmb.shape"
   ]
  },
  {
   "cell_type": "markdown",
   "id": "65ab4b1c-bf89-40dd-9250-45aec2111b43",
   "metadata": {},
   "source": [
    "### create CMB_met set 3"
   ]
  },
  {
   "cell_type": "code",
   "execution_count": 6,
   "id": "a5e6a51e-862e-4807-ad4d-44359c35795c",
   "metadata": {},
   "outputs": [],
   "source": [
    "# read in set3 proteins and metabolites\n",
    "set3_prots_df = pd.read_csv(\"Data/Processed/Combined/combined_test_cmb.csv\")\n",
    "metabolites = pd.read_csv(\"Data/NMR_NotDerived.csv\")"
   ]
  },
  {
   "cell_type": "code",
   "execution_count": 9,
   "id": "71523468-c2b2-4c29-ac55-a29d339d82ae",
   "metadata": {},
   "outputs": [],
   "source": [
    "full_set3_cmb_met = set3_prots_df.merge(metabolites, on = \"eid\")"
   ]
  },
  {
   "cell_type": "code",
   "execution_count": 10,
   "id": "b66ad3b9-4d4a-4df0-b43c-096919969976",
   "metadata": {},
   "outputs": [
    {
     "data": {
      "text/html": [
       "<div>\n",
       "<style scoped>\n",
       "    .dataframe tbody tr th:only-of-type {\n",
       "        vertical-align: middle;\n",
       "    }\n",
       "\n",
       "    .dataframe tbody tr th {\n",
       "        vertical-align: top;\n",
       "    }\n",
       "\n",
       "    .dataframe thead th {\n",
       "        text-align: right;\n",
       "    }\n",
       "</style>\n",
       "<table border=\"1\" class=\"dataframe\">\n",
       "  <thead>\n",
       "    <tr style=\"text-align: right;\">\n",
       "      <th></th>\n",
       "      <th>eid</th>\n",
       "      <th>ACAN</th>\n",
       "      <th>ACE2</th>\n",
       "      <th>ACOX1</th>\n",
       "      <th>ACP5</th>\n",
       "      <th>ACTA2</th>\n",
       "      <th>ACY1</th>\n",
       "      <th>ADA2</th>\n",
       "      <th>ADAM15</th>\n",
       "      <th>ADAMTS13</th>\n",
       "      <th>...</th>\n",
       "      <th>M_HDL_P</th>\n",
       "      <th>M_HDL_PL</th>\n",
       "      <th>M_HDL_CE</th>\n",
       "      <th>M_HDL_FC</th>\n",
       "      <th>M_HDL_TG</th>\n",
       "      <th>S_HDL_P</th>\n",
       "      <th>S_HDL_PL</th>\n",
       "      <th>S_HDL_CE</th>\n",
       "      <th>S_HDL_FC</th>\n",
       "      <th>S_HDL_TG</th>\n",
       "    </tr>\n",
       "  </thead>\n",
       "  <tbody>\n",
       "    <tr>\n",
       "      <th>0</th>\n",
       "      <td>4772956</td>\n",
       "      <td>-0.22300</td>\n",
       "      <td>-0.60865</td>\n",
       "      <td>-0.2074</td>\n",
       "      <td>-0.3371</td>\n",
       "      <td>1.02525</td>\n",
       "      <td>-0.24335</td>\n",
       "      <td>0.7321</td>\n",
       "      <td>0.15585</td>\n",
       "      <td>-0.21655</td>\n",
       "      <td>...</td>\n",
       "      <td>0.003750</td>\n",
       "      <td>0.46456</td>\n",
       "      <td>0.41729</td>\n",
       "      <td>0.086536</td>\n",
       "      <td>0.036401</td>\n",
       "      <td>0.010135</td>\n",
       "      <td>0.65020</td>\n",
       "      <td>0.35427</td>\n",
       "      <td>0.11872</td>\n",
       "      <td>0.041808</td>\n",
       "    </tr>\n",
       "    <tr>\n",
       "      <th>1</th>\n",
       "      <td>4005228</td>\n",
       "      <td>-0.45760</td>\n",
       "      <td>0.05955</td>\n",
       "      <td>0.0455</td>\n",
       "      <td>-0.0814</td>\n",
       "      <td>-0.44310</td>\n",
       "      <td>0.78030</td>\n",
       "      <td>-0.1580</td>\n",
       "      <td>0.32725</td>\n",
       "      <td>0.40135</td>\n",
       "      <td>...</td>\n",
       "      <td>0.003240</td>\n",
       "      <td>0.45024</td>\n",
       "      <td>0.30443</td>\n",
       "      <td>0.074768</td>\n",
       "      <td>0.077850</td>\n",
       "      <td>0.009592</td>\n",
       "      <td>0.68213</td>\n",
       "      <td>0.30126</td>\n",
       "      <td>0.12083</td>\n",
       "      <td>0.085760</td>\n",
       "    </tr>\n",
       "    <tr>\n",
       "      <th>2</th>\n",
       "      <td>3326876</td>\n",
       "      <td>0.58275</td>\n",
       "      <td>-0.07160</td>\n",
       "      <td>0.0768</td>\n",
       "      <td>0.2348</td>\n",
       "      <td>-0.00955</td>\n",
       "      <td>-0.04990</td>\n",
       "      <td>0.3341</td>\n",
       "      <td>-0.04225</td>\n",
       "      <td>-0.11285</td>\n",
       "      <td>...</td>\n",
       "      <td>0.003999</td>\n",
       "      <td>0.49894</td>\n",
       "      <td>0.38884</td>\n",
       "      <td>0.090639</td>\n",
       "      <td>0.083045</td>\n",
       "      <td>0.011009</td>\n",
       "      <td>0.75163</td>\n",
       "      <td>0.35703</td>\n",
       "      <td>0.13622</td>\n",
       "      <td>0.083487</td>\n",
       "    </tr>\n",
       "    <tr>\n",
       "      <th>3</th>\n",
       "      <td>4029114</td>\n",
       "      <td>-0.14660</td>\n",
       "      <td>0.78955</td>\n",
       "      <td>0.3804</td>\n",
       "      <td>-0.2721</td>\n",
       "      <td>1.70425</td>\n",
       "      <td>0.26795</td>\n",
       "      <td>-0.0137</td>\n",
       "      <td>0.25075</td>\n",
       "      <td>-0.44435</td>\n",
       "      <td>...</td>\n",
       "      <td>0.002909</td>\n",
       "      <td>0.39020</td>\n",
       "      <td>0.30857</td>\n",
       "      <td>0.057776</td>\n",
       "      <td>0.054382</td>\n",
       "      <td>0.009046</td>\n",
       "      <td>0.62288</td>\n",
       "      <td>0.30675</td>\n",
       "      <td>0.10122</td>\n",
       "      <td>0.060592</td>\n",
       "    </tr>\n",
       "    <tr>\n",
       "      <th>4</th>\n",
       "      <td>3669187</td>\n",
       "      <td>0.35520</td>\n",
       "      <td>-0.39615</td>\n",
       "      <td>-0.3088</td>\n",
       "      <td>-0.0844</td>\n",
       "      <td>0.43295</td>\n",
       "      <td>-0.90705</td>\n",
       "      <td>-0.2402</td>\n",
       "      <td>0.10675</td>\n",
       "      <td>0.09125</td>\n",
       "      <td>...</td>\n",
       "      <td>0.004980</td>\n",
       "      <td>0.58438</td>\n",
       "      <td>0.52185</td>\n",
       "      <td>0.118730</td>\n",
       "      <td>0.055923</td>\n",
       "      <td>0.009424</td>\n",
       "      <td>0.66612</td>\n",
       "      <td>0.31398</td>\n",
       "      <td>0.12127</td>\n",
       "      <td>0.041309</td>\n",
       "    </tr>\n",
       "  </tbody>\n",
       "</table>\n",
       "<p>5 rows × 452 columns</p>\n",
       "</div>"
      ],
      "text/plain": [
       "       eid     ACAN     ACE2   ACOX1    ACP5    ACTA2     ACY1    ADA2  \\\n",
       "0  4772956 -0.22300 -0.60865 -0.2074 -0.3371  1.02525 -0.24335  0.7321   \n",
       "1  4005228 -0.45760  0.05955  0.0455 -0.0814 -0.44310  0.78030 -0.1580   \n",
       "2  3326876  0.58275 -0.07160  0.0768  0.2348 -0.00955 -0.04990  0.3341   \n",
       "3  4029114 -0.14660  0.78955  0.3804 -0.2721  1.70425  0.26795 -0.0137   \n",
       "4  3669187  0.35520 -0.39615 -0.3088 -0.0844  0.43295 -0.90705 -0.2402   \n",
       "\n",
       "    ADAM15  ADAMTS13  ...   M_HDL_P  M_HDL_PL  M_HDL_CE  M_HDL_FC  M_HDL_TG  \\\n",
       "0  0.15585  -0.21655  ...  0.003750   0.46456   0.41729  0.086536  0.036401   \n",
       "1  0.32725   0.40135  ...  0.003240   0.45024   0.30443  0.074768  0.077850   \n",
       "2 -0.04225  -0.11285  ...  0.003999   0.49894   0.38884  0.090639  0.083045   \n",
       "3  0.25075  -0.44435  ...  0.002909   0.39020   0.30857  0.057776  0.054382   \n",
       "4  0.10675   0.09125  ...  0.004980   0.58438   0.52185  0.118730  0.055923   \n",
       "\n",
       "    S_HDL_P  S_HDL_PL  S_HDL_CE  S_HDL_FC  S_HDL_TG  \n",
       "0  0.010135   0.65020   0.35427   0.11872  0.041808  \n",
       "1  0.009592   0.68213   0.30126   0.12083  0.085760  \n",
       "2  0.011009   0.75163   0.35703   0.13622  0.083487  \n",
       "3  0.009046   0.62288   0.30675   0.10122  0.060592  \n",
       "4  0.009424   0.66612   0.31398   0.12127  0.041309  \n",
       "\n",
       "[5 rows x 452 columns]"
      ]
     },
     "execution_count": 10,
     "metadata": {},
     "output_type": "execute_result"
    }
   ],
   "source": [
    "full_set3_cmb_met.head()"
   ]
  },
  {
   "cell_type": "code",
   "execution_count": 11,
   "id": "74275de7-b3d0-4aa5-a277-529b31e99a05",
   "metadata": {},
   "outputs": [],
   "source": [
    "# verify ordering is the same\n",
    "set1_cmb_met = pd.read_csv(\"Data/proteins_metabolites_train.csv\")"
   ]
  },
  {
   "cell_type": "code",
   "execution_count": 12,
   "id": "b07507ab-4fd1-452c-8452-a4d9851c6d86",
   "metadata": {
    "scrolled": true
   },
   "outputs": [
    {
     "data": {
      "text/html": [
       "<div>\n",
       "<style scoped>\n",
       "    .dataframe tbody tr th:only-of-type {\n",
       "        vertical-align: middle;\n",
       "    }\n",
       "\n",
       "    .dataframe tbody tr th {\n",
       "        vertical-align: top;\n",
       "    }\n",
       "\n",
       "    .dataframe thead th {\n",
       "        text-align: right;\n",
       "    }\n",
       "</style>\n",
       "<table border=\"1\" class=\"dataframe\">\n",
       "  <thead>\n",
       "    <tr style=\"text-align: right;\">\n",
       "      <th></th>\n",
       "      <th>eid</th>\n",
       "      <th>ACAN</th>\n",
       "      <th>ACE2</th>\n",
       "      <th>ACOX1</th>\n",
       "      <th>ACP5</th>\n",
       "      <th>ACTA2</th>\n",
       "      <th>ACY1</th>\n",
       "      <th>ADA2</th>\n",
       "      <th>ADAM15</th>\n",
       "      <th>ADAMTS13</th>\n",
       "      <th>...</th>\n",
       "      <th>M_HDL_P</th>\n",
       "      <th>M_HDL_PL</th>\n",
       "      <th>M_HDL_CE</th>\n",
       "      <th>M_HDL_FC</th>\n",
       "      <th>M_HDL_TG</th>\n",
       "      <th>S_HDL_P</th>\n",
       "      <th>S_HDL_PL</th>\n",
       "      <th>S_HDL_CE</th>\n",
       "      <th>S_HDL_FC</th>\n",
       "      <th>S_HDL_TG</th>\n",
       "    </tr>\n",
       "  </thead>\n",
       "  <tbody>\n",
       "    <tr>\n",
       "      <th>0</th>\n",
       "      <td>1004826.0</td>\n",
       "      <td>0.26630</td>\n",
       "      <td>-0.64465</td>\n",
       "      <td>-0.1113</td>\n",
       "      <td>0.0438</td>\n",
       "      <td>-0.51390</td>\n",
       "      <td>-0.2660</td>\n",
       "      <td>-0.6083</td>\n",
       "      <td>-0.26415</td>\n",
       "      <td>0.46130</td>\n",
       "      <td>...</td>\n",
       "      <td>0.004819</td>\n",
       "      <td>0.55127</td>\n",
       "      <td>0.53284</td>\n",
       "      <td>0.117560</td>\n",
       "      <td>0.029189</td>\n",
       "      <td>0.010283</td>\n",
       "      <td>0.64859</td>\n",
       "      <td>0.35715</td>\n",
       "      <td>0.12610</td>\n",
       "      <td>0.028323</td>\n",
       "    </tr>\n",
       "    <tr>\n",
       "      <th>1</th>\n",
       "      <td>1008846.0</td>\n",
       "      <td>0.19890</td>\n",
       "      <td>-0.44540</td>\n",
       "      <td>0.3539</td>\n",
       "      <td>-0.3612</td>\n",
       "      <td>-0.80070</td>\n",
       "      <td>-0.2898</td>\n",
       "      <td>-0.3670</td>\n",
       "      <td>0.41385</td>\n",
       "      <td>-0.17045</td>\n",
       "      <td>...</td>\n",
       "      <td>0.003523</td>\n",
       "      <td>0.43707</td>\n",
       "      <td>0.39527</td>\n",
       "      <td>0.078925</td>\n",
       "      <td>0.033742</td>\n",
       "      <td>0.010482</td>\n",
       "      <td>0.65564</td>\n",
       "      <td>0.36992</td>\n",
       "      <td>0.11640</td>\n",
       "      <td>0.040201</td>\n",
       "    </tr>\n",
       "    <tr>\n",
       "      <th>2</th>\n",
       "      <td>1009759.0</td>\n",
       "      <td>0.47385</td>\n",
       "      <td>0.28980</td>\n",
       "      <td>0.5944</td>\n",
       "      <td>0.4084</td>\n",
       "      <td>0.14695</td>\n",
       "      <td>0.4389</td>\n",
       "      <td>-0.0251</td>\n",
       "      <td>0.48095</td>\n",
       "      <td>0.88205</td>\n",
       "      <td>...</td>\n",
       "      <td>0.007907</td>\n",
       "      <td>0.91127</td>\n",
       "      <td>0.82377</td>\n",
       "      <td>0.195110</td>\n",
       "      <td>0.071630</td>\n",
       "      <td>0.011788</td>\n",
       "      <td>0.89858</td>\n",
       "      <td>0.39433</td>\n",
       "      <td>0.15944</td>\n",
       "      <td>0.040196</td>\n",
       "    </tr>\n",
       "    <tr>\n",
       "      <th>3</th>\n",
       "      <td>1010092.0</td>\n",
       "      <td>0.69300</td>\n",
       "      <td>0.33035</td>\n",
       "      <td>-0.0867</td>\n",
       "      <td>0.1029</td>\n",
       "      <td>-0.21260</td>\n",
       "      <td>-0.9159</td>\n",
       "      <td>0.0941</td>\n",
       "      <td>0.32995</td>\n",
       "      <td>0.12015</td>\n",
       "      <td>...</td>\n",
       "      <td>0.003203</td>\n",
       "      <td>0.41960</td>\n",
       "      <td>0.36262</td>\n",
       "      <td>0.064616</td>\n",
       "      <td>0.040342</td>\n",
       "      <td>0.009473</td>\n",
       "      <td>0.63395</td>\n",
       "      <td>0.33853</td>\n",
       "      <td>0.10004</td>\n",
       "      <td>0.044015</td>\n",
       "    </tr>\n",
       "    <tr>\n",
       "      <th>4</th>\n",
       "      <td>1013849.0</td>\n",
       "      <td>-0.53495</td>\n",
       "      <td>0.00570</td>\n",
       "      <td>-0.1853</td>\n",
       "      <td>-0.6804</td>\n",
       "      <td>-0.49645</td>\n",
       "      <td>-0.0129</td>\n",
       "      <td>-0.5292</td>\n",
       "      <td>0.20735</td>\n",
       "      <td>0.08845</td>\n",
       "      <td>...</td>\n",
       "      <td>0.005755</td>\n",
       "      <td>0.66316</td>\n",
       "      <td>0.62677</td>\n",
       "      <td>0.136640</td>\n",
       "      <td>0.036597</td>\n",
       "      <td>0.009627</td>\n",
       "      <td>0.67864</td>\n",
       "      <td>0.33919</td>\n",
       "      <td>0.11918</td>\n",
       "      <td>0.022416</td>\n",
       "    </tr>\n",
       "  </tbody>\n",
       "</table>\n",
       "<p>5 rows × 452 columns</p>\n",
       "</div>"
      ],
      "text/plain": [
       "         eid     ACAN     ACE2   ACOX1    ACP5    ACTA2    ACY1    ADA2  \\\n",
       "0  1004826.0  0.26630 -0.64465 -0.1113  0.0438 -0.51390 -0.2660 -0.6083   \n",
       "1  1008846.0  0.19890 -0.44540  0.3539 -0.3612 -0.80070 -0.2898 -0.3670   \n",
       "2  1009759.0  0.47385  0.28980  0.5944  0.4084  0.14695  0.4389 -0.0251   \n",
       "3  1010092.0  0.69300  0.33035 -0.0867  0.1029 -0.21260 -0.9159  0.0941   \n",
       "4  1013849.0 -0.53495  0.00570 -0.1853 -0.6804 -0.49645 -0.0129 -0.5292   \n",
       "\n",
       "    ADAM15  ADAMTS13  ...   M_HDL_P  M_HDL_PL  M_HDL_CE  M_HDL_FC  M_HDL_TG  \\\n",
       "0 -0.26415   0.46130  ...  0.004819   0.55127   0.53284  0.117560  0.029189   \n",
       "1  0.41385  -0.17045  ...  0.003523   0.43707   0.39527  0.078925  0.033742   \n",
       "2  0.48095   0.88205  ...  0.007907   0.91127   0.82377  0.195110  0.071630   \n",
       "3  0.32995   0.12015  ...  0.003203   0.41960   0.36262  0.064616  0.040342   \n",
       "4  0.20735   0.08845  ...  0.005755   0.66316   0.62677  0.136640  0.036597   \n",
       "\n",
       "    S_HDL_P  S_HDL_PL  S_HDL_CE  S_HDL_FC  S_HDL_TG  \n",
       "0  0.010283   0.64859   0.35715   0.12610  0.028323  \n",
       "1  0.010482   0.65564   0.36992   0.11640  0.040201  \n",
       "2  0.011788   0.89858   0.39433   0.15944  0.040196  \n",
       "3  0.009473   0.63395   0.33853   0.10004  0.044015  \n",
       "4  0.009627   0.67864   0.33919   0.11918  0.022416  \n",
       "\n",
       "[5 rows x 452 columns]"
      ]
     },
     "execution_count": 12,
     "metadata": {},
     "output_type": "execute_result"
    }
   ],
   "source": [
    "set1_cmb_met.head()"
   ]
  },
  {
   "cell_type": "code",
   "execution_count": 18,
   "id": "aaf1e1c1-9075-4a87-8c18-62d07c53bb3a",
   "metadata": {},
   "outputs": [],
   "source": [
    "# save csv\n",
    "full_set3_cmb_met.to_csv(\"Data/proteins_metabolites_set3.csv\")"
   ]
  },
  {
   "cell_type": "markdown",
   "id": "72b4e194-fdf8-4f71-a2c2-19e858660bf2",
   "metadata": {},
   "source": [
    "## create outcome coupling with data splits"
   ]
  },
  {
   "cell_type": "code",
   "execution_count": null,
   "id": "fe8333dc-e307-4d27-ac46-e45498e0a11e",
   "metadata": {},
   "outputs": [],
   "source": []
  },
  {
   "cell_type": "code",
   "execution_count": 77,
   "id": "896d5b03-2e2e-448c-af8d-93ad6034ae82",
   "metadata": {},
   "outputs": [],
   "source": [
    "# read in full df including mort\n",
    "basic_info = pd.read_csv(\"Data/basicinfo_instance_0.csv\")"
   ]
  },
  {
   "cell_type": "code",
   "execution_count": 48,
   "id": "f431270f-bdf9-4d3c-ae29-2d06f2052b3f",
   "metadata": {},
   "outputs": [
    {
     "data": {
      "text/html": [
       "<div>\n",
       "<style scoped>\n",
       "    .dataframe tbody tr th:only-of-type {\n",
       "        vertical-align: middle;\n",
       "    }\n",
       "\n",
       "    .dataframe tbody tr th {\n",
       "        vertical-align: top;\n",
       "    }\n",
       "\n",
       "    .dataframe thead th {\n",
       "        text-align: right;\n",
       "    }\n",
       "</style>\n",
       "<table border=\"1\" class=\"dataframe\">\n",
       "  <thead>\n",
       "    <tr style=\"text-align: right;\">\n",
       "      <th></th>\n",
       "      <th>eid</th>\n",
       "      <th>sex</th>\n",
       "      <th>died</th>\n",
       "      <th>age_center.0.0</th>\n",
       "      <th>date_center.0.0</th>\n",
       "      <th>hbp.0.0</th>\n",
       "      <th>smoking.0.0</th>\n",
       "      <th>yearbirth</th>\n",
       "      <th>monthbirth</th>\n",
       "      <th>mortdate.0.0</th>\n",
       "      <th>followup</th>\n",
       "    </tr>\n",
       "  </thead>\n",
       "  <tbody>\n",
       "    <tr>\n",
       "      <th>0</th>\n",
       "      <td>1000014</td>\n",
       "      <td>0.0</td>\n",
       "      <td>0</td>\n",
       "      <td>63.0</td>\n",
       "      <td>2008-09-13</td>\n",
       "      <td>1</td>\n",
       "      <td>0.0</td>\n",
       "      <td>1945.0</td>\n",
       "      <td>5.0</td>\n",
       "      <td>NaN</td>\n",
       "      <td>14.264203</td>\n",
       "    </tr>\n",
       "    <tr>\n",
       "      <th>1</th>\n",
       "      <td>1000023</td>\n",
       "      <td>0.0</td>\n",
       "      <td>0</td>\n",
       "      <td>57.0</td>\n",
       "      <td>2010-05-12</td>\n",
       "      <td>0</td>\n",
       "      <td>1.0</td>\n",
       "      <td>1953.0</td>\n",
       "      <td>3.0</td>\n",
       "      <td>NaN</td>\n",
       "      <td>12.605065</td>\n",
       "    </tr>\n",
       "    <tr>\n",
       "      <th>2</th>\n",
       "      <td>1000030</td>\n",
       "      <td>1.0</td>\n",
       "      <td>0</td>\n",
       "      <td>40.0</td>\n",
       "      <td>2007-10-18</td>\n",
       "      <td>0</td>\n",
       "      <td>0.0</td>\n",
       "      <td>1967.0</td>\n",
       "      <td>1.0</td>\n",
       "      <td>NaN</td>\n",
       "      <td>15.170431</td>\n",
       "    </tr>\n",
       "    <tr>\n",
       "      <th>3</th>\n",
       "      <td>1000041</td>\n",
       "      <td>1.0</td>\n",
       "      <td>0</td>\n",
       "      <td>65.0</td>\n",
       "      <td>2010-04-15</td>\n",
       "      <td>1</td>\n",
       "      <td>0.0</td>\n",
       "      <td>1944.0</td>\n",
       "      <td>11.0</td>\n",
       "      <td>NaN</td>\n",
       "      <td>12.678987</td>\n",
       "    </tr>\n",
       "    <tr>\n",
       "      <th>4</th>\n",
       "      <td>1000059</td>\n",
       "      <td>1.0</td>\n",
       "      <td>0</td>\n",
       "      <td>50.0</td>\n",
       "      <td>2008-08-06</td>\n",
       "      <td>0</td>\n",
       "      <td>0.0</td>\n",
       "      <td>1958.0</td>\n",
       "      <td>7.0</td>\n",
       "      <td>NaN</td>\n",
       "      <td>14.368241</td>\n",
       "    </tr>\n",
       "  </tbody>\n",
       "</table>\n",
       "</div>"
      ],
      "text/plain": [
       "       eid  sex  died  age_center.0.0 date_center.0.0  hbp.0.0  smoking.0.0  \\\n",
       "0  1000014  0.0     0            63.0      2008-09-13        1          0.0   \n",
       "1  1000023  0.0     0            57.0      2010-05-12        0          1.0   \n",
       "2  1000030  1.0     0            40.0      2007-10-18        0          0.0   \n",
       "3  1000041  1.0     0            65.0      2010-04-15        1          0.0   \n",
       "4  1000059  1.0     0            50.0      2008-08-06        0          0.0   \n",
       "\n",
       "   yearbirth  monthbirth mortdate.0.0   followup  \n",
       "0     1945.0         5.0          NaN  14.264203  \n",
       "1     1953.0         3.0          NaN  12.605065  \n",
       "2     1967.0         1.0          NaN  15.170431  \n",
       "3     1944.0        11.0          NaN  12.678987  \n",
       "4     1958.0         7.0          NaN  14.368241  "
      ]
     },
     "execution_count": 48,
     "metadata": {},
     "output_type": "execute_result"
    }
   ],
   "source": [
    "basic_info.head()"
   ]
  },
  {
   "cell_type": "code",
   "execution_count": 49,
   "id": "b8cad29d-6b12-47d3-98c0-0aa3e6c2201a",
   "metadata": {},
   "outputs": [
    {
     "data": {
      "text/plain": [
       "(502486, 11)"
      ]
     },
     "execution_count": 49,
     "metadata": {},
     "output_type": "execute_result"
    }
   ],
   "source": [
    "basic_info.shape"
   ]
  },
  {
   "cell_type": "code",
   "execution_count": 58,
   "id": "dd453e6e-d095-4f11-9047-a2da2c099ff5",
   "metadata": {},
   "outputs": [],
   "source": [
    "# create left censored data (ignore this)\n",
    "def create_censor_data(x):\n",
    "    # print(x)\n",
    "    if x['died'] == True:\n",
    "        return (pd.to_datetime(x['mortdate.0.0']) - pd.to_datetime(x['date_center.0.0'])).days / 365.25 + x['age_center.0.0']\n",
    "    else:\n",
    "        return x['age_center.0.0'] + x['followup']\n",
    "\n",
    "basic_info['censorage'] = basic_info.apply(lambda x: create_censor_data(x), axis = 1)\n"
   ]
  },
  {
   "cell_type": "code",
   "execution_count": 59,
   "id": "4f7d20a1-22b0-460a-940b-6b8116c06b1a",
   "metadata": {},
   "outputs": [],
   "source": [
    "basic_info['censorage'] = basic_info['age_center.0.0'] + basic_info['followup']"
   ]
  },
  {
   "cell_type": "code",
   "execution_count": 60,
   "id": "2aae6546-bf4b-4f56-b393-c839f66f31c3",
   "metadata": {},
   "outputs": [
    {
     "data": {
      "text/plain": [
       "False"
      ]
     },
     "execution_count": 60,
     "metadata": {},
     "output_type": "execute_result"
    }
   ],
   "source": [
    "np.allclose(basic_info['censorage'].values, basic_info['censorage_alt'].values) "
   ]
  },
  {
   "cell_type": "code",
   "execution_count": 73,
   "id": "e9f3f929-03ef-471d-bede-9ab336dd70a1",
   "metadata": {},
   "outputs": [
    {
     "data": {
      "text/plain": [
       "array([116921])"
      ]
     },
     "execution_count": 73,
     "metadata": {},
     "output_type": "execute_result"
    }
   ],
   "source": [
    "inds = np.where(np.isclose(basic_info['censorage'].values, basic_info['censorage_alt'].values) == False)[0]\n",
    "inds"
   ]
  },
  {
   "cell_type": "code",
   "execution_count": 76,
   "id": "cf954d75-e001-4fc9-841f-d51b3d06ec3a",
   "metadata": {},
   "outputs": [
    {
     "data": {
      "text/html": [
       "<div>\n",
       "<style scoped>\n",
       "    .dataframe tbody tr th:only-of-type {\n",
       "        vertical-align: middle;\n",
       "    }\n",
       "\n",
       "    .dataframe tbody tr th {\n",
       "        vertical-align: top;\n",
       "    }\n",
       "\n",
       "    .dataframe thead th {\n",
       "        text-align: right;\n",
       "    }\n",
       "</style>\n",
       "<table border=\"1\" class=\"dataframe\">\n",
       "  <thead>\n",
       "    <tr style=\"text-align: right;\">\n",
       "      <th></th>\n",
       "      <th>eid</th>\n",
       "      <th>sex</th>\n",
       "      <th>died</th>\n",
       "      <th>age_center.0.0</th>\n",
       "      <th>date_center.0.0</th>\n",
       "      <th>hbp.0.0</th>\n",
       "      <th>smoking.0.0</th>\n",
       "      <th>yearbirth</th>\n",
       "      <th>monthbirth</th>\n",
       "      <th>mortdate.0.0</th>\n",
       "      <th>followup</th>\n",
       "      <th>censorage</th>\n",
       "      <th>censorage_alt</th>\n",
       "    </tr>\n",
       "  </thead>\n",
       "  <tbody>\n",
       "    <tr>\n",
       "      <th>116921</th>\n",
       "      <td>2169224</td>\n",
       "      <td>NaN</td>\n",
       "      <td>0</td>\n",
       "      <td>NaN</td>\n",
       "      <td>NaN</td>\n",
       "      <td>0</td>\n",
       "      <td>NaN</td>\n",
       "      <td>NaN</td>\n",
       "      <td>NaN</td>\n",
       "      <td>NaN</td>\n",
       "      <td>NaN</td>\n",
       "      <td>NaN</td>\n",
       "      <td>NaN</td>\n",
       "    </tr>\n",
       "  </tbody>\n",
       "</table>\n",
       "</div>"
      ],
      "text/plain": [
       "            eid  sex  died  age_center.0.0 date_center.0.0  hbp.0.0  \\\n",
       "116921  2169224  NaN     0             NaN             NaN        0   \n",
       "\n",
       "        smoking.0.0  yearbirth  monthbirth mortdate.0.0  followup  censorage  \\\n",
       "116921          NaN        NaN         NaN          NaN       NaN        NaN   \n",
       "\n",
       "        censorage_alt  \n",
       "116921            NaN  "
      ]
     },
     "execution_count": 76,
     "metadata": {},
     "output_type": "execute_result"
    }
   ],
   "source": [
    "basic_info.iloc[inds,:]"
   ]
  },
  {
   "cell_type": "code",
   "execution_count": 70,
   "id": "d3696cff-310b-488a-9750-3241bbf3a61d",
   "metadata": {
    "scrolled": true
   },
   "outputs": [
    {
     "data": {
      "text/html": [
       "<div>\n",
       "<style scoped>\n",
       "    .dataframe tbody tr th:only-of-type {\n",
       "        vertical-align: middle;\n",
       "    }\n",
       "\n",
       "    .dataframe tbody tr th {\n",
       "        vertical-align: top;\n",
       "    }\n",
       "\n",
       "    .dataframe thead th {\n",
       "        text-align: right;\n",
       "    }\n",
       "</style>\n",
       "<table border=\"1\" class=\"dataframe\">\n",
       "  <thead>\n",
       "    <tr style=\"text-align: right;\">\n",
       "      <th></th>\n",
       "      <th>eid</th>\n",
       "      <th>sex</th>\n",
       "      <th>died</th>\n",
       "      <th>age_center.0.0</th>\n",
       "      <th>date_center.0.0</th>\n",
       "      <th>hbp.0.0</th>\n",
       "      <th>smoking.0.0</th>\n",
       "      <th>yearbirth</th>\n",
       "      <th>monthbirth</th>\n",
       "      <th>mortdate.0.0</th>\n",
       "      <th>followup</th>\n",
       "      <th>censorage</th>\n",
       "      <th>censorage_alt</th>\n",
       "    </tr>\n",
       "  </thead>\n",
       "  <tbody>\n",
       "    <tr>\n",
       "      <th>25</th>\n",
       "      <td>1000264</td>\n",
       "      <td>1.0</td>\n",
       "      <td>1</td>\n",
       "      <td>69.0</td>\n",
       "      <td>2008-03-12</td>\n",
       "      <td>1</td>\n",
       "      <td>1.0</td>\n",
       "      <td>1939.0</td>\n",
       "      <td>2.0</td>\n",
       "      <td>2021-03-23</td>\n",
       "      <td>13.029432</td>\n",
       "      <td>82.029432</td>\n",
       "      <td>82.029432</td>\n",
       "    </tr>\n",
       "    <tr>\n",
       "      <th>37</th>\n",
       "      <td>1000380</td>\n",
       "      <td>1.0</td>\n",
       "      <td>1</td>\n",
       "      <td>61.0</td>\n",
       "      <td>2010-01-25</td>\n",
       "      <td>1</td>\n",
       "      <td>0.0</td>\n",
       "      <td>1948.0</td>\n",
       "      <td>11.0</td>\n",
       "      <td>2021-11-14</td>\n",
       "      <td>11.802875</td>\n",
       "      <td>72.802875</td>\n",
       "      <td>72.802875</td>\n",
       "    </tr>\n",
       "    <tr>\n",
       "      <th>40</th>\n",
       "      <td>1000410</td>\n",
       "      <td>0.0</td>\n",
       "      <td>1</td>\n",
       "      <td>64.0</td>\n",
       "      <td>2008-04-12</td>\n",
       "      <td>0</td>\n",
       "      <td>1.0</td>\n",
       "      <td>1943.0</td>\n",
       "      <td>12.0</td>\n",
       "      <td>2018-08-11</td>\n",
       "      <td>10.329911</td>\n",
       "      <td>74.329911</td>\n",
       "      <td>74.329911</td>\n",
       "    </tr>\n",
       "    <tr>\n",
       "      <th>50</th>\n",
       "      <td>1000511</td>\n",
       "      <td>0.0</td>\n",
       "      <td>1</td>\n",
       "      <td>64.0</td>\n",
       "      <td>2009-08-20</td>\n",
       "      <td>0</td>\n",
       "      <td>0.0</td>\n",
       "      <td>1944.0</td>\n",
       "      <td>9.0</td>\n",
       "      <td>2022-05-02</td>\n",
       "      <td>12.698152</td>\n",
       "      <td>76.698152</td>\n",
       "      <td>76.698152</td>\n",
       "    </tr>\n",
       "    <tr>\n",
       "      <th>98</th>\n",
       "      <td>1000993</td>\n",
       "      <td>1.0</td>\n",
       "      <td>1</td>\n",
       "      <td>69.0</td>\n",
       "      <td>2008-12-16</td>\n",
       "      <td>1</td>\n",
       "      <td>2.0</td>\n",
       "      <td>1939.0</td>\n",
       "      <td>7.0</td>\n",
       "      <td>2021-10-13</td>\n",
       "      <td>12.824093</td>\n",
       "      <td>81.824093</td>\n",
       "      <td>81.824093</td>\n",
       "    </tr>\n",
       "    <tr>\n",
       "      <th>111</th>\n",
       "      <td>1001122</td>\n",
       "      <td>1.0</td>\n",
       "      <td>1</td>\n",
       "      <td>69.0</td>\n",
       "      <td>2008-04-21</td>\n",
       "      <td>1</td>\n",
       "      <td>1.0</td>\n",
       "      <td>1938.0</td>\n",
       "      <td>11.0</td>\n",
       "      <td>2020-02-06</td>\n",
       "      <td>11.794661</td>\n",
       "      <td>80.794661</td>\n",
       "      <td>80.794661</td>\n",
       "    </tr>\n",
       "    <tr>\n",
       "      <th>138</th>\n",
       "      <td>1001390</td>\n",
       "      <td>1.0</td>\n",
       "      <td>1</td>\n",
       "      <td>62.0</td>\n",
       "      <td>2008-11-25</td>\n",
       "      <td>1</td>\n",
       "      <td>2.0</td>\n",
       "      <td>1946.0</td>\n",
       "      <td>1.0</td>\n",
       "      <td>2022-07-09</td>\n",
       "      <td>13.618070</td>\n",
       "      <td>75.618070</td>\n",
       "      <td>75.618070</td>\n",
       "    </tr>\n",
       "    <tr>\n",
       "      <th>142</th>\n",
       "      <td>1001432</td>\n",
       "      <td>0.0</td>\n",
       "      <td>1</td>\n",
       "      <td>68.0</td>\n",
       "      <td>2009-12-01</td>\n",
       "      <td>1</td>\n",
       "      <td>0.0</td>\n",
       "      <td>1941.0</td>\n",
       "      <td>4.0</td>\n",
       "      <td>2020-11-25</td>\n",
       "      <td>10.984257</td>\n",
       "      <td>78.984257</td>\n",
       "      <td>78.984257</td>\n",
       "    </tr>\n",
       "    <tr>\n",
       "      <th>160</th>\n",
       "      <td>1001615</td>\n",
       "      <td>1.0</td>\n",
       "      <td>1</td>\n",
       "      <td>66.0</td>\n",
       "      <td>2009-06-20</td>\n",
       "      <td>1</td>\n",
       "      <td>1.0</td>\n",
       "      <td>1943.0</td>\n",
       "      <td>2.0</td>\n",
       "      <td>2021-03-05</td>\n",
       "      <td>11.707050</td>\n",
       "      <td>77.707050</td>\n",
       "      <td>77.707050</td>\n",
       "    </tr>\n",
       "    <tr>\n",
       "      <th>162</th>\n",
       "      <td>1001631</td>\n",
       "      <td>0.0</td>\n",
       "      <td>1</td>\n",
       "      <td>54.0</td>\n",
       "      <td>2008-05-09</td>\n",
       "      <td>0</td>\n",
       "      <td>0.0</td>\n",
       "      <td>1953.0</td>\n",
       "      <td>6.0</td>\n",
       "      <td>2021-10-03</td>\n",
       "      <td>13.401780</td>\n",
       "      <td>67.401780</td>\n",
       "      <td>67.401780</td>\n",
       "    </tr>\n",
       "    <tr>\n",
       "      <th>172</th>\n",
       "      <td>1001733</td>\n",
       "      <td>0.0</td>\n",
       "      <td>1</td>\n",
       "      <td>67.0</td>\n",
       "      <td>2008-05-03</td>\n",
       "      <td>1</td>\n",
       "      <td>1.0</td>\n",
       "      <td>1941.0</td>\n",
       "      <td>4.0</td>\n",
       "      <td>2014-05-23</td>\n",
       "      <td>6.053388</td>\n",
       "      <td>73.053388</td>\n",
       "      <td>73.053388</td>\n",
       "    </tr>\n",
       "    <tr>\n",
       "      <th>175</th>\n",
       "      <td>1001766</td>\n",
       "      <td>1.0</td>\n",
       "      <td>1</td>\n",
       "      <td>48.0</td>\n",
       "      <td>2009-01-09</td>\n",
       "      <td>0</td>\n",
       "      <td>0.0</td>\n",
       "      <td>1960.0</td>\n",
       "      <td>2.0</td>\n",
       "      <td>2021-11-21</td>\n",
       "      <td>12.865161</td>\n",
       "      <td>60.865161</td>\n",
       "      <td>60.865161</td>\n",
       "    </tr>\n",
       "    <tr>\n",
       "      <th>178</th>\n",
       "      <td>1001792</td>\n",
       "      <td>1.0</td>\n",
       "      <td>1</td>\n",
       "      <td>69.0</td>\n",
       "      <td>2009-03-24</td>\n",
       "      <td>1</td>\n",
       "      <td>0.0</td>\n",
       "      <td>1940.0</td>\n",
       "      <td>2.0</td>\n",
       "      <td>2021-02-12</td>\n",
       "      <td>11.890486</td>\n",
       "      <td>80.890486</td>\n",
       "      <td>80.890486</td>\n",
       "    </tr>\n",
       "    <tr>\n",
       "      <th>212</th>\n",
       "      <td>1002139</td>\n",
       "      <td>1.0</td>\n",
       "      <td>1</td>\n",
       "      <td>50.0</td>\n",
       "      <td>2009-12-02</td>\n",
       "      <td>1</td>\n",
       "      <td>0.0</td>\n",
       "      <td>1959.0</td>\n",
       "      <td>2.0</td>\n",
       "      <td>2022-03-11</td>\n",
       "      <td>12.271047</td>\n",
       "      <td>62.271047</td>\n",
       "      <td>62.271047</td>\n",
       "    </tr>\n",
       "    <tr>\n",
       "      <th>226</th>\n",
       "      <td>1002272</td>\n",
       "      <td>0.0</td>\n",
       "      <td>1</td>\n",
       "      <td>58.0</td>\n",
       "      <td>2009-12-16</td>\n",
       "      <td>1</td>\n",
       "      <td>0.0</td>\n",
       "      <td>1951.0</td>\n",
       "      <td>11.0</td>\n",
       "      <td>2020-03-04</td>\n",
       "      <td>10.214921</td>\n",
       "      <td>68.214921</td>\n",
       "      <td>68.214921</td>\n",
       "    </tr>\n",
       "    <tr>\n",
       "      <th>231</th>\n",
       "      <td>1002323</td>\n",
       "      <td>0.0</td>\n",
       "      <td>1</td>\n",
       "      <td>66.0</td>\n",
       "      <td>2008-04-18</td>\n",
       "      <td>1</td>\n",
       "      <td>0.0</td>\n",
       "      <td>1942.0</td>\n",
       "      <td>3.0</td>\n",
       "      <td>2017-12-23</td>\n",
       "      <td>9.681040</td>\n",
       "      <td>75.681040</td>\n",
       "      <td>75.681040</td>\n",
       "    </tr>\n",
       "    <tr>\n",
       "      <th>241</th>\n",
       "      <td>1002420</td>\n",
       "      <td>0.0</td>\n",
       "      <td>1</td>\n",
       "      <td>64.0</td>\n",
       "      <td>2008-10-08</td>\n",
       "      <td>1</td>\n",
       "      <td>1.0</td>\n",
       "      <td>1944.0</td>\n",
       "      <td>2.0</td>\n",
       "      <td>2019-03-19</td>\n",
       "      <td>10.442163</td>\n",
       "      <td>74.442163</td>\n",
       "      <td>74.442163</td>\n",
       "    </tr>\n",
       "    <tr>\n",
       "      <th>249</th>\n",
       "      <td>1002502</td>\n",
       "      <td>1.0</td>\n",
       "      <td>1</td>\n",
       "      <td>65.0</td>\n",
       "      <td>2008-09-09</td>\n",
       "      <td>0</td>\n",
       "      <td>0.0</td>\n",
       "      <td>1943.0</td>\n",
       "      <td>4.0</td>\n",
       "      <td>2016-02-28</td>\n",
       "      <td>7.468857</td>\n",
       "      <td>72.468857</td>\n",
       "      <td>72.468857</td>\n",
       "    </tr>\n",
       "    <tr>\n",
       "      <th>262</th>\n",
       "      <td>1002634</td>\n",
       "      <td>1.0</td>\n",
       "      <td>1</td>\n",
       "      <td>60.0</td>\n",
       "      <td>2009-07-02</td>\n",
       "      <td>0</td>\n",
       "      <td>2.0</td>\n",
       "      <td>1948.0</td>\n",
       "      <td>10.0</td>\n",
       "      <td>2019-05-11</td>\n",
       "      <td>9.856263</td>\n",
       "      <td>69.856263</td>\n",
       "      <td>69.856263</td>\n",
       "    </tr>\n",
       "    <tr>\n",
       "      <th>275</th>\n",
       "      <td>1002769</td>\n",
       "      <td>1.0</td>\n",
       "      <td>1</td>\n",
       "      <td>60.0</td>\n",
       "      <td>2009-09-30</td>\n",
       "      <td>0</td>\n",
       "      <td>2.0</td>\n",
       "      <td>1949.0</td>\n",
       "      <td>3.0</td>\n",
       "      <td>2019-08-23</td>\n",
       "      <td>9.894593</td>\n",
       "      <td>69.894593</td>\n",
       "      <td>69.894593</td>\n",
       "    </tr>\n",
       "    <tr>\n",
       "      <th>280</th>\n",
       "      <td>1002819</td>\n",
       "      <td>0.0</td>\n",
       "      <td>1</td>\n",
       "      <td>66.0</td>\n",
       "      <td>2009-06-02</td>\n",
       "      <td>0</td>\n",
       "      <td>0.0</td>\n",
       "      <td>1943.0</td>\n",
       "      <td>3.0</td>\n",
       "      <td>2017-01-12</td>\n",
       "      <td>7.613963</td>\n",
       "      <td>73.613963</td>\n",
       "      <td>73.613963</td>\n",
       "    </tr>\n",
       "    <tr>\n",
       "      <th>283</th>\n",
       "      <td>1002848</td>\n",
       "      <td>0.0</td>\n",
       "      <td>1</td>\n",
       "      <td>54.0</td>\n",
       "      <td>2009-02-24</td>\n",
       "      <td>0</td>\n",
       "      <td>1.0</td>\n",
       "      <td>1954.0</td>\n",
       "      <td>5.0</td>\n",
       "      <td>2015-09-27</td>\n",
       "      <td>6.587269</td>\n",
       "      <td>60.587269</td>\n",
       "      <td>60.587269</td>\n",
       "    </tr>\n",
       "    <tr>\n",
       "      <th>284</th>\n",
       "      <td>1002854</td>\n",
       "      <td>0.0</td>\n",
       "      <td>1</td>\n",
       "      <td>60.0</td>\n",
       "      <td>2008-01-24</td>\n",
       "      <td>0</td>\n",
       "      <td>2.0</td>\n",
       "      <td>1948.0</td>\n",
       "      <td>1.0</td>\n",
       "      <td>2011-02-13</td>\n",
       "      <td>3.055441</td>\n",
       "      <td>63.055441</td>\n",
       "      <td>63.055441</td>\n",
       "    </tr>\n",
       "    <tr>\n",
       "      <th>296</th>\n",
       "      <td>1002970</td>\n",
       "      <td>1.0</td>\n",
       "      <td>1</td>\n",
       "      <td>67.0</td>\n",
       "      <td>2010-03-11</td>\n",
       "      <td>1</td>\n",
       "      <td>0.0</td>\n",
       "      <td>1942.0</td>\n",
       "      <td>10.0</td>\n",
       "      <td>2016-08-28</td>\n",
       "      <td>6.466804</td>\n",
       "      <td>73.466804</td>\n",
       "      <td>73.466804</td>\n",
       "    </tr>\n",
       "    <tr>\n",
       "      <th>298</th>\n",
       "      <td>1002992</td>\n",
       "      <td>1.0</td>\n",
       "      <td>1</td>\n",
       "      <td>60.0</td>\n",
       "      <td>2008-09-22</td>\n",
       "      <td>0</td>\n",
       "      <td>2.0</td>\n",
       "      <td>1948.0</td>\n",
       "      <td>8.0</td>\n",
       "      <td>2021-02-16</td>\n",
       "      <td>12.402464</td>\n",
       "      <td>72.402464</td>\n",
       "      <td>72.402464</td>\n",
       "    </tr>\n",
       "    <tr>\n",
       "      <th>300</th>\n",
       "      <td>1003016</td>\n",
       "      <td>1.0</td>\n",
       "      <td>1</td>\n",
       "      <td>65.0</td>\n",
       "      <td>2008-05-28</td>\n",
       "      <td>1</td>\n",
       "      <td>1.0</td>\n",
       "      <td>1943.0</td>\n",
       "      <td>2.0</td>\n",
       "      <td>2022-01-25</td>\n",
       "      <td>13.661875</td>\n",
       "      <td>78.661875</td>\n",
       "      <td>78.661875</td>\n",
       "    </tr>\n",
       "    <tr>\n",
       "      <th>302</th>\n",
       "      <td>1003037</td>\n",
       "      <td>0.0</td>\n",
       "      <td>1</td>\n",
       "      <td>61.0</td>\n",
       "      <td>2009-04-02</td>\n",
       "      <td>0</td>\n",
       "      <td>0.0</td>\n",
       "      <td>1947.0</td>\n",
       "      <td>7.0</td>\n",
       "      <td>2010-07-31</td>\n",
       "      <td>1.327858</td>\n",
       "      <td>62.327858</td>\n",
       "      <td>62.327858</td>\n",
       "    </tr>\n",
       "    <tr>\n",
       "      <th>310</th>\n",
       "      <td>1003110</td>\n",
       "      <td>1.0</td>\n",
       "      <td>1</td>\n",
       "      <td>59.0</td>\n",
       "      <td>2007-12-06</td>\n",
       "      <td>1</td>\n",
       "      <td>1.0</td>\n",
       "      <td>1948.0</td>\n",
       "      <td>1.0</td>\n",
       "      <td>2020-12-15</td>\n",
       "      <td>13.026694</td>\n",
       "      <td>72.026694</td>\n",
       "      <td>72.026694</td>\n",
       "    </tr>\n",
       "    <tr>\n",
       "      <th>316</th>\n",
       "      <td>1003178</td>\n",
       "      <td>1.0</td>\n",
       "      <td>1</td>\n",
       "      <td>66.0</td>\n",
       "      <td>2010-05-26</td>\n",
       "      <td>1</td>\n",
       "      <td>2.0</td>\n",
       "      <td>1943.0</td>\n",
       "      <td>9.0</td>\n",
       "      <td>2020-02-28</td>\n",
       "      <td>9.760438</td>\n",
       "      <td>75.760438</td>\n",
       "      <td>75.760438</td>\n",
       "    </tr>\n",
       "    <tr>\n",
       "      <th>322</th>\n",
       "      <td>1003233</td>\n",
       "      <td>1.0</td>\n",
       "      <td>1</td>\n",
       "      <td>67.0</td>\n",
       "      <td>2009-07-16</td>\n",
       "      <td>1</td>\n",
       "      <td>2.0</td>\n",
       "      <td>1942.0</td>\n",
       "      <td>5.0</td>\n",
       "      <td>2021-10-27</td>\n",
       "      <td>12.281999</td>\n",
       "      <td>79.281999</td>\n",
       "      <td>79.281999</td>\n",
       "    </tr>\n",
       "  </tbody>\n",
       "</table>\n",
       "</div>"
      ],
      "text/plain": [
       "         eid  sex  died  age_center.0.0 date_center.0.0  hbp.0.0  smoking.0.0  \\\n",
       "25   1000264  1.0     1            69.0      2008-03-12        1          1.0   \n",
       "37   1000380  1.0     1            61.0      2010-01-25        1          0.0   \n",
       "40   1000410  0.0     1            64.0      2008-04-12        0          1.0   \n",
       "50   1000511  0.0     1            64.0      2009-08-20        0          0.0   \n",
       "98   1000993  1.0     1            69.0      2008-12-16        1          2.0   \n",
       "111  1001122  1.0     1            69.0      2008-04-21        1          1.0   \n",
       "138  1001390  1.0     1            62.0      2008-11-25        1          2.0   \n",
       "142  1001432  0.0     1            68.0      2009-12-01        1          0.0   \n",
       "160  1001615  1.0     1            66.0      2009-06-20        1          1.0   \n",
       "162  1001631  0.0     1            54.0      2008-05-09        0          0.0   \n",
       "172  1001733  0.0     1            67.0      2008-05-03        1          1.0   \n",
       "175  1001766  1.0     1            48.0      2009-01-09        0          0.0   \n",
       "178  1001792  1.0     1            69.0      2009-03-24        1          0.0   \n",
       "212  1002139  1.0     1            50.0      2009-12-02        1          0.0   \n",
       "226  1002272  0.0     1            58.0      2009-12-16        1          0.0   \n",
       "231  1002323  0.0     1            66.0      2008-04-18        1          0.0   \n",
       "241  1002420  0.0     1            64.0      2008-10-08        1          1.0   \n",
       "249  1002502  1.0     1            65.0      2008-09-09        0          0.0   \n",
       "262  1002634  1.0     1            60.0      2009-07-02        0          2.0   \n",
       "275  1002769  1.0     1            60.0      2009-09-30        0          2.0   \n",
       "280  1002819  0.0     1            66.0      2009-06-02        0          0.0   \n",
       "283  1002848  0.0     1            54.0      2009-02-24        0          1.0   \n",
       "284  1002854  0.0     1            60.0      2008-01-24        0          2.0   \n",
       "296  1002970  1.0     1            67.0      2010-03-11        1          0.0   \n",
       "298  1002992  1.0     1            60.0      2008-09-22        0          2.0   \n",
       "300  1003016  1.0     1            65.0      2008-05-28        1          1.0   \n",
       "302  1003037  0.0     1            61.0      2009-04-02        0          0.0   \n",
       "310  1003110  1.0     1            59.0      2007-12-06        1          1.0   \n",
       "316  1003178  1.0     1            66.0      2010-05-26        1          2.0   \n",
       "322  1003233  1.0     1            67.0      2009-07-16        1          2.0   \n",
       "\n",
       "     yearbirth  monthbirth mortdate.0.0   followup  censorage  censorage_alt  \n",
       "25      1939.0         2.0   2021-03-23  13.029432  82.029432      82.029432  \n",
       "37      1948.0        11.0   2021-11-14  11.802875  72.802875      72.802875  \n",
       "40      1943.0        12.0   2018-08-11  10.329911  74.329911      74.329911  \n",
       "50      1944.0         9.0   2022-05-02  12.698152  76.698152      76.698152  \n",
       "98      1939.0         7.0   2021-10-13  12.824093  81.824093      81.824093  \n",
       "111     1938.0        11.0   2020-02-06  11.794661  80.794661      80.794661  \n",
       "138     1946.0         1.0   2022-07-09  13.618070  75.618070      75.618070  \n",
       "142     1941.0         4.0   2020-11-25  10.984257  78.984257      78.984257  \n",
       "160     1943.0         2.0   2021-03-05  11.707050  77.707050      77.707050  \n",
       "162     1953.0         6.0   2021-10-03  13.401780  67.401780      67.401780  \n",
       "172     1941.0         4.0   2014-05-23   6.053388  73.053388      73.053388  \n",
       "175     1960.0         2.0   2021-11-21  12.865161  60.865161      60.865161  \n",
       "178     1940.0         2.0   2021-02-12  11.890486  80.890486      80.890486  \n",
       "212     1959.0         2.0   2022-03-11  12.271047  62.271047      62.271047  \n",
       "226     1951.0        11.0   2020-03-04  10.214921  68.214921      68.214921  \n",
       "231     1942.0         3.0   2017-12-23   9.681040  75.681040      75.681040  \n",
       "241     1944.0         2.0   2019-03-19  10.442163  74.442163      74.442163  \n",
       "249     1943.0         4.0   2016-02-28   7.468857  72.468857      72.468857  \n",
       "262     1948.0        10.0   2019-05-11   9.856263  69.856263      69.856263  \n",
       "275     1949.0         3.0   2019-08-23   9.894593  69.894593      69.894593  \n",
       "280     1943.0         3.0   2017-01-12   7.613963  73.613963      73.613963  \n",
       "283     1954.0         5.0   2015-09-27   6.587269  60.587269      60.587269  \n",
       "284     1948.0         1.0   2011-02-13   3.055441  63.055441      63.055441  \n",
       "296     1942.0        10.0   2016-08-28   6.466804  73.466804      73.466804  \n",
       "298     1948.0         8.0   2021-02-16  12.402464  72.402464      72.402464  \n",
       "300     1943.0         2.0   2022-01-25  13.661875  78.661875      78.661875  \n",
       "302     1947.0         7.0   2010-07-31   1.327858  62.327858      62.327858  \n",
       "310     1948.0         1.0   2020-12-15  13.026694  72.026694      72.026694  \n",
       "316     1943.0         9.0   2020-02-28   9.760438  75.760438      75.760438  \n",
       "322     1942.0         5.0   2021-10-27  12.281999  79.281999      79.281999  "
      ]
     },
     "execution_count": 70,
     "metadata": {},
     "output_type": "execute_result"
    }
   ],
   "source": [
    "basic_info.loc[basic_info['died'] == 1].head(30)"
   ]
  },
  {
   "cell_type": "code",
   "execution_count": 78,
   "id": "d08e82fe-f190-4404-a0be-b1342008c831",
   "metadata": {},
   "outputs": [],
   "source": [
    "basic_info['censorage'] = basic_info['age_center.0.0'] + basic_info['followup']\n",
    "\n",
    "# select eids we're using (all participants)\n",
    "train_full_basic = basic_info.loc[basic_info['eid'].isin(full_train_eids)]\n",
    "test_full_basic = basic_info.loc[basic_info['eid'].isin(full_val_eids)]\n",
    "val_full_basic = basic_info.loc[basic_info['eid'].isin(full_test_eids)]\n",
    "\n",
    "# select eids we're using (participants w/ metabolites)\n",
    "train_combined_basic = basic_info.loc[basic_info['eid'].isin(combined_train_eids)]\n",
    "test_combined_basic = basic_info.loc[basic_info['eid'].isin(combined_val_eids)]\n",
    "val_combined_basic = basic_info.loc[basic_info['eid'].isin(combined_test_eids)]"
   ]
  },
  {
   "cell_type": "code",
   "execution_count": 85,
   "id": "1dba7eaa-e479-4450-9081-5a0737229379",
   "metadata": {},
   "outputs": [
    {
     "data": {
      "text/html": [
       "<div>\n",
       "<style scoped>\n",
       "    .dataframe tbody tr th:only-of-type {\n",
       "        vertical-align: middle;\n",
       "    }\n",
       "\n",
       "    .dataframe tbody tr th {\n",
       "        vertical-align: top;\n",
       "    }\n",
       "\n",
       "    .dataframe thead th {\n",
       "        text-align: right;\n",
       "    }\n",
       "</style>\n",
       "<table border=\"1\" class=\"dataframe\">\n",
       "  <thead>\n",
       "    <tr style=\"text-align: right;\">\n",
       "      <th></th>\n",
       "      <th>eid</th>\n",
       "      <th>sex</th>\n",
       "      <th>died</th>\n",
       "      <th>age_center.0.0</th>\n",
       "      <th>date_center.0.0</th>\n",
       "      <th>hbp.0.0</th>\n",
       "      <th>smoking.0.0</th>\n",
       "      <th>yearbirth</th>\n",
       "      <th>monthbirth</th>\n",
       "      <th>mortdate.0.0</th>\n",
       "      <th>followup</th>\n",
       "      <th>censorage</th>\n",
       "    </tr>\n",
       "  </thead>\n",
       "  <tbody>\n",
       "    <tr>\n",
       "      <th>4</th>\n",
       "      <td>1000059</td>\n",
       "      <td>1.0</td>\n",
       "      <td>0</td>\n",
       "      <td>50.0</td>\n",
       "      <td>2008-08-06</td>\n",
       "      <td>0</td>\n",
       "      <td>0.0</td>\n",
       "      <td>1958.0</td>\n",
       "      <td>7.0</td>\n",
       "      <td>NaN</td>\n",
       "      <td>14.368241</td>\n",
       "      <td>64.368241</td>\n",
       "    </tr>\n",
       "    <tr>\n",
       "      <th>109</th>\n",
       "      <td>1001109</td>\n",
       "      <td>0.0</td>\n",
       "      <td>0</td>\n",
       "      <td>45.0</td>\n",
       "      <td>2008-12-05</td>\n",
       "      <td>0</td>\n",
       "      <td>0.0</td>\n",
       "      <td>1963.0</td>\n",
       "      <td>5.0</td>\n",
       "      <td>NaN</td>\n",
       "      <td>14.036961</td>\n",
       "      <td>59.036961</td>\n",
       "    </tr>\n",
       "    <tr>\n",
       "      <th>122</th>\n",
       "      <td>1001230</td>\n",
       "      <td>1.0</td>\n",
       "      <td>0</td>\n",
       "      <td>63.0</td>\n",
       "      <td>2008-02-04</td>\n",
       "      <td>1</td>\n",
       "      <td>0.0</td>\n",
       "      <td>1944.0</td>\n",
       "      <td>3.0</td>\n",
       "      <td>NaN</td>\n",
       "      <td>14.872005</td>\n",
       "      <td>77.872005</td>\n",
       "    </tr>\n",
       "    <tr>\n",
       "      <th>133</th>\n",
       "      <td>1001344</td>\n",
       "      <td>0.0</td>\n",
       "      <td>0</td>\n",
       "      <td>54.0</td>\n",
       "      <td>2008-04-19</td>\n",
       "      <td>0</td>\n",
       "      <td>1.0</td>\n",
       "      <td>1953.0</td>\n",
       "      <td>9.0</td>\n",
       "      <td>NaN</td>\n",
       "      <td>14.666667</td>\n",
       "      <td>68.666667</td>\n",
       "    </tr>\n",
       "    <tr>\n",
       "      <th>137</th>\n",
       "      <td>1001389</td>\n",
       "      <td>0.0</td>\n",
       "      <td>0</td>\n",
       "      <td>63.0</td>\n",
       "      <td>2008-06-05</td>\n",
       "      <td>1</td>\n",
       "      <td>1.0</td>\n",
       "      <td>1945.0</td>\n",
       "      <td>3.0</td>\n",
       "      <td>NaN</td>\n",
       "      <td>14.537988</td>\n",
       "      <td>77.537988</td>\n",
       "    </tr>\n",
       "    <tr>\n",
       "      <th>...</th>\n",
       "      <td>...</td>\n",
       "      <td>...</td>\n",
       "      <td>...</td>\n",
       "      <td>...</td>\n",
       "      <td>...</td>\n",
       "      <td>...</td>\n",
       "      <td>...</td>\n",
       "      <td>...</td>\n",
       "      <td>...</td>\n",
       "      <td>...</td>\n",
       "      <td>...</td>\n",
       "      <td>...</td>\n",
       "    </tr>\n",
       "    <tr>\n",
       "      <th>502328</th>\n",
       "      <td>6023296</td>\n",
       "      <td>0.0</td>\n",
       "      <td>0</td>\n",
       "      <td>61.0</td>\n",
       "      <td>2009-04-04</td>\n",
       "      <td>1</td>\n",
       "      <td>0.0</td>\n",
       "      <td>1947.0</td>\n",
       "      <td>9.0</td>\n",
       "      <td>NaN</td>\n",
       "      <td>13.708419</td>\n",
       "      <td>74.708419</td>\n",
       "    </tr>\n",
       "    <tr>\n",
       "      <th>502361</th>\n",
       "      <td>6023620</td>\n",
       "      <td>1.0</td>\n",
       "      <td>0</td>\n",
       "      <td>50.0</td>\n",
       "      <td>2008-07-30</td>\n",
       "      <td>0</td>\n",
       "      <td>1.0</td>\n",
       "      <td>1958.0</td>\n",
       "      <td>1.0</td>\n",
       "      <td>NaN</td>\n",
       "      <td>14.387406</td>\n",
       "      <td>64.387406</td>\n",
       "    </tr>\n",
       "    <tr>\n",
       "      <th>502395</th>\n",
       "      <td>6023960</td>\n",
       "      <td>0.0</td>\n",
       "      <td>0</td>\n",
       "      <td>41.0</td>\n",
       "      <td>2008-11-22</td>\n",
       "      <td>0</td>\n",
       "      <td>1.0</td>\n",
       "      <td>1966.0</td>\n",
       "      <td>12.0</td>\n",
       "      <td>NaN</td>\n",
       "      <td>14.072553</td>\n",
       "      <td>55.072553</td>\n",
       "    </tr>\n",
       "    <tr>\n",
       "      <th>502409</th>\n",
       "      <td>6024105</td>\n",
       "      <td>1.0</td>\n",
       "      <td>1</td>\n",
       "      <td>58.0</td>\n",
       "      <td>2009-01-22</td>\n",
       "      <td>1</td>\n",
       "      <td>1.0</td>\n",
       "      <td>1950.0</td>\n",
       "      <td>5.0</td>\n",
       "      <td>2015-07-06</td>\n",
       "      <td>6.450376</td>\n",
       "      <td>64.450376</td>\n",
       "    </tr>\n",
       "    <tr>\n",
       "      <th>502473</th>\n",
       "      <td>6024745</td>\n",
       "      <td>0.0</td>\n",
       "      <td>0</td>\n",
       "      <td>42.0</td>\n",
       "      <td>2010-06-25</td>\n",
       "      <td>0</td>\n",
       "      <td>0.0</td>\n",
       "      <td>1968.0</td>\n",
       "      <td>3.0</td>\n",
       "      <td>NaN</td>\n",
       "      <td>12.484600</td>\n",
       "      <td>54.484600</td>\n",
       "    </tr>\n",
       "  </tbody>\n",
       "</table>\n",
       "<p>15458 rows × 12 columns</p>\n",
       "</div>"
      ],
      "text/plain": [
       "            eid  sex  died  age_center.0.0 date_center.0.0  hbp.0.0  \\\n",
       "4       1000059  1.0     0            50.0      2008-08-06        0   \n",
       "109     1001109  0.0     0            45.0      2008-12-05        0   \n",
       "122     1001230  1.0     0            63.0      2008-02-04        1   \n",
       "133     1001344  0.0     0            54.0      2008-04-19        0   \n",
       "137     1001389  0.0     0            63.0      2008-06-05        1   \n",
       "...         ...  ...   ...             ...             ...      ...   \n",
       "502328  6023296  0.0     0            61.0      2009-04-04        1   \n",
       "502361  6023620  1.0     0            50.0      2008-07-30        0   \n",
       "502395  6023960  0.0     0            41.0      2008-11-22        0   \n",
       "502409  6024105  1.0     1            58.0      2009-01-22        1   \n",
       "502473  6024745  0.0     0            42.0      2010-06-25        0   \n",
       "\n",
       "        smoking.0.0  yearbirth  monthbirth mortdate.0.0   followup  censorage  \n",
       "4               0.0     1958.0         7.0          NaN  14.368241  64.368241  \n",
       "109             0.0     1963.0         5.0          NaN  14.036961  59.036961  \n",
       "122             0.0     1944.0         3.0          NaN  14.872005  77.872005  \n",
       "133             1.0     1953.0         9.0          NaN  14.666667  68.666667  \n",
       "137             1.0     1945.0         3.0          NaN  14.537988  77.537988  \n",
       "...             ...        ...         ...          ...        ...        ...  \n",
       "502328          0.0     1947.0         9.0          NaN  13.708419  74.708419  \n",
       "502361          1.0     1958.0         1.0          NaN  14.387406  64.387406  \n",
       "502395          1.0     1966.0        12.0          NaN  14.072553  55.072553  \n",
       "502409          1.0     1950.0         5.0   2015-07-06   6.450376  64.450376  \n",
       "502473          0.0     1968.0         3.0          NaN  12.484600  54.484600  \n",
       "\n",
       "[15458 rows x 12 columns]"
      ]
     },
     "execution_count": 85,
     "metadata": {},
     "output_type": "execute_result"
    }
   ],
   "source": [
    "train_combined_basic"
   ]
  },
  {
   "cell_type": "code",
   "execution_count": 86,
   "id": "2dc4b1e5-3921-473c-b6ac-6d49efccbf85",
   "metadata": {},
   "outputs": [],
   "source": [
    "# save to csv\n",
    "train_full_basic[['eid', 'died', 'censorage', 'sex']].to_csv(\"mort_full_train.csv\")\n",
    "test_full_basic[['eid', 'died', 'censorage', 'sex']].to_csv(\"mort_full_test.csv\")\n",
    "val_full_basic[['eid', 'died', 'censorage', 'sex']].to_csv(\"mort_full_val.csv\")\n",
    "\n",
    "train_combined_basic[['eid', 'died', 'censorage', 'sex']].to_csv(\"mort_comb_train.csv\")\n",
    "test_combined_basic[['eid', 'died', 'censorage', 'sex']].to_csv(\"mort_comb_test.csv\")\n",
    "val_combined_basic[['eid', 'died', 'censorage', 'sex']].to_csv(\"mort_comb_val.csv\")"
   ]
  },
  {
   "cell_type": "code",
   "execution_count": null,
   "id": "b357c02c-4055-40e1-a88f-b197ace1738b",
   "metadata": {},
   "outputs": [],
   "source": []
  },
  {
   "cell_type": "code",
   "execution_count": 32,
   "id": "068f4cd9-75d4-4654-8215-caa60fb974f4",
   "metadata": {},
   "outputs": [
    {
     "data": {
      "text/plain": [
       "Assay\n",
       "AARSD1     0\n",
       "ABHD14B    0\n",
       "ABL1       0\n",
       "ACAA1      0\n",
       "ACAN       0\n",
       "          ..\n",
       "XRCC4      0\n",
       "YES1       0\n",
       "YTHDF3     0\n",
       "ZBTB16     0\n",
       "ZBTB17     0\n",
       "Length: 1459, dtype: int64"
      ]
     },
     "execution_count": 32,
     "metadata": {},
     "output_type": "execute_result"
    }
   ],
   "source": [
    "proteins_final_df.isna().sum()"
   ]
  },
  {
   "cell_type": "code",
   "execution_count": 130,
   "id": "97105112-bc26-479b-939e-86fa63855f4b",
   "metadata": {},
   "outputs": [],
   "source": [
    "proteins_final_df.to_csv(\"proteins_UKBB_imputed.csv\")"
   ]
  },
  {
   "cell_type": "markdown",
   "id": "d2d44142-5f04-412b-967f-945e0746884f",
   "metadata": {},
   "source": [
    "## Visualizations"
   ]
  },
  {
   "cell_type": "code",
   "execution_count": 31,
   "id": "79d219b8-7757-4941-b60a-257e5344717f",
   "metadata": {},
   "outputs": [],
   "source": [
    "i0_1pers = olink_i0_excl.loc[olink_i0_excl['eid'] == 1000181]\n",
    "protein_platform = i0_1pers.loc[i0_1pers['Assay'].isin(excluded_proteins)]"
   ]
  },
  {
   "cell_type": "code",
   "execution_count": 42,
   "id": "0391a9bc-433f-4ffc-bc1c-6f83dc4eaa76",
   "metadata": {},
   "outputs": [
    {
     "data": {
      "text/plain": [
       "<Axes: xlabel='Panel'>"
      ]
     },
     "execution_count": 42,
     "metadata": {},
     "output_type": "execute_result"
    },
    {
     "data": {
      "image/png": "[encoded data removed]",
      "text/plain": [
       "<Figure size 640x480 with 1 Axes>"
      ]
     },
     "metadata": {},
     "output_type": "display_data"
    }
   ],
   "source": [
    "protein_platform['Panel'].value_counts().plot.bar()"
   ]
  },
  {
   "cell_type": "code",
   "execution_count": null,
   "id": "d77bcc9b-2b97-4c99-82f6-6b04e367cf9a",
   "metadata": {},
   "outputs": [],
   "source": [
    "prot0 = olink_i0_ap"
   ]
  },
  {
   "cell_type": "code",
   "execution_count": 60,
   "id": "58eb0eeb-7687-4f02-98b1-b1b54876383f",
   "metadata": {},
   "outputs": [
    {
     "data": {
      "text/plain": [
       "(51494, 1463)"
      ]
     },
     "execution_count": 60,
     "metadata": {},
     "output_type": "execute_result"
    }
   ],
   "source": [
    "olink_i0_ap.shape"
   ]
  },
  {
   "cell_type": "code",
   "execution_count": 9,
   "id": "d2c184ae-5032-495e-9411-c5046e4b7d35",
   "metadata": {},
   "outputs": [
    {
     "data": {
      "text/plain": [
       "Text(0.5, 1.0, 'number of missing values per protein')"
      ]
     },
     "execution_count": 9,
     "metadata": {},
     "output_type": "execute_result"
    },
    {
     "data": {
      "image/png": "[encoded data removed]",
      "text/plain": [
       "<Figure size 640x480 with 1 Axes>"
      ]
     },
     "metadata": {},
     "output_type": "display_data"
    }
   ],
   "source": [
    "# nan100 = nan_prot.nlargest(50)\n",
    "nan_prot.plot.line()\n",
    "plt.ylabel(\"number of missing values\")\n",
    "plt.xlabel(\"protein\")\n",
    "plt.hlines(olink_i0_ap.shape[0] * 0.10, 0, nan_prot.shape[0], label = \">10%\", color = \"r\")\n",
    "plt.hlines(olink_i0_ap.shape[0] * 0.05, 0, nan_prot.shape[0], label = \">5%\", color = \"b\")\n",
    "plt.xticks(np.arange(0, nan_prot.shape[0], step=200), np.arange(0, nan_prot.shape[0], step=200))\n",
    "plt.legend()\n",
    "plt.grid()\n",
    "plt.title(\"number of missing values per protein\")\n",
    "# plt.bar(np.arange(100),  nan100.values())\n",
    "# plt.xlabel([np.arange(100),  nan100.keys()])"
   ]
  },
  {
   "cell_type": "code",
   "execution_count": 10,
   "id": "b150145e-8682-4d07-8cd6-387b35589e7b",
   "metadata": {},
   "outputs": [
    {
     "data": {
      "text/plain": [
       "Text(0.5, 1.0, 'number of missing values per protein')"
      ]
     },
     "execution_count": 10,
     "metadata": {},
     "output_type": "execute_result"
    },
    {
     "data": {
      "image/png": "[encoded data removed]",
      "text/plain": [
       "<Figure size 640x480 with 1 Axes>"
      ]
     },
     "metadata": {},
     "output_type": "display_data"
    }
   ],
   "source": [
    "nan100 = nan_prot.nlargest(50)\n",
    "nan100.plot.line()\n",
    "plt.ylabel(\"number of missing values\")\n",
    "plt.xlabel(\"protein\")\n",
    "plt.hlines(olink_i0_ap.shape[0] * 0.10, 0, nan100.shape[0], label = \">10%\", color = \"r\")\n",
    "plt.hlines(olink_i0_ap.shape[0] * 0.05, 0, nan100.shape[0], label = \">5%\", color = \"b\")\n",
    "plt.xticks(np.arange(0, nan100.shape[0], step=10), np.arange(0, nan100.shape[0], step=10))\n",
    "plt.legend()\n",
    "plt.grid()\n",
    "plt.title(\"number of missing values per protein\")\n",
    "# plt.bar(np.arange(100),  nan100.values())\n",
    "# plt.xlabel([np.arange(100),  nan100.keys()])"
   ]
  },
  {
   "cell_type": "code",
   "execution_count": 13,
   "id": "8e966ac0-5f2c-46e3-b445-1a8c236db306",
   "metadata": {},
   "outputs": [],
   "source": [
    "nan_part = olink_i0_ap.isna().sum(axis=1)\n",
    "nan_part = nan_part.sort_values(ascending=False)"
   ]
  },
  {
   "cell_type": "code",
   "execution_count": 65,
   "id": "695b6985-7ff3-44f8-a1f0-411e74c946a4",
   "metadata": {},
   "outputs": [
    {
     "data": {
      "text/plain": [
       "eid\n",
       "1424214    1388\n",
       "3789349    1358\n",
       "1733371    1292\n",
       "1462828    1286\n",
       "3572441    1286\n",
       "           ... \n",
       "4791011      74\n",
       "1795167      74\n",
       "2134254      74\n",
       "3450218      74\n",
       "5472819      74\n",
       "Length: 9531, dtype: int64"
      ]
     },
     "execution_count": 65,
     "metadata": {},
     "output_type": "execute_result"
    }
   ],
   "source": [
    "nan_part[nan_part > 0.05 * olink_i0_ap.shape[1]]"
   ]
  },
  {
   "cell_type": "code",
   "execution_count": 14,
   "id": "019fa247-0f7c-426c-9df5-7bb8a2882db9",
   "metadata": {},
   "outputs": [
    {
     "data": {
      "text/plain": [
       "<matplotlib.legend.Legend at 0x7f2b8820e2d0>"
      ]
     },
     "execution_count": 14,
     "metadata": {},
     "output_type": "execute_result"
    },
    {
     "data": {
      "image/png": "[encoded data removed]",
      "text/plain": [
       "<Figure size 640x480 with 1 Axes>"
      ]
     },
     "metadata": {},
     "output_type": "display_data"
    }
   ],
   "source": [
    "nan_part = olink_i0_ap.isna().sum(axis=1)\n",
    "nan_part = nan_part.sort_values(ascending=False)\n",
    "\n",
    "plt.plot(np.arange(len(nan_part)), nan_part.values)\n",
    "plt.xlabel(\"participant\")\n",
    "plt.ylabel(\"amount of missing data\")\n",
    "plt.grid()\n",
    "plt.hlines(olink_i0_ap.shape[1] * 0.10, 0, olink_i0_ap.shape[0], label = \">10%\", color = \"r\")\n",
    "plt.hlines(olink_i0_ap.shape[1] * 0.05, 0, olink_i0_ap.shape[0], label = \">5%\", color = \"b\")\n",
    "plt.hlines(olink_i0_ap.shape[1] * 0.02, 0, olink_i0_ap.shape[0], label = \">2%\", color = \"g\")\n",
    "plt.hlines(olink_i0_ap.shape[1] * 0.01, 0, olink_i0_ap.shape[0], label = \">2%\", color = \"y\")\n",
    "\n",
    "plt.legend()\n"
   ]
  },
  {
   "cell_type": "code",
   "execution_count": 108,
   "id": "c4d1fea3-1b3d-4047-9e92-6dacb4703b6a",
   "metadata": {},
   "outputs": [
    {
     "data": {
      "text/plain": [
       "Assay\n",
       "NPM1       38011\n",
       "PCOLCE     32624\n",
       "CTSS       11975\n",
       "TACSTD2     6924\n",
       "AMY2B       4632\n",
       "CTSD        4464\n",
       "KRT14       3899\n",
       "WFDC2       3643\n",
       "GKN1        3232\n",
       "AMY2A       3143\n",
       "dtype: int64"
      ]
     },
     "execution_count": 108,
     "metadata": {},
     "output_type": "execute_result"
    }
   ],
   "source": [
    "nan_prot.nlargest(10)"
   ]
  },
  {
   "cell_type": "code",
   "execution_count": 116,
   "id": "6dfed1e3-33d1-4a2a-b57b-d9b595af7135",
   "metadata": {},
   "outputs": [
    {
     "data": {
      "text/plain": [
       "(51494, 1459)"
      ]
     },
     "execution_count": 116,
     "metadata": {},
     "output_type": "execute_result"
    }
   ],
   "source": [
    "olink_i0_ap_na = olink_i0_ap.drop(columns = [\"NPM1\",  \"PCOLCE\",  \"CTSS\",  \"TACSTD2\"])#.dropna()\n",
    "olink_i0_ap_na.shape"
   ]
  },
  {
   "cell_type": "code",
   "execution_count": 119,
   "id": "b1de7275-4656-4ed2-8a59-c7b3f655432e",
   "metadata": {},
   "outputs": [
    {
     "data": {
      "text/plain": [
       "Assay\n",
       "AMY2B    4632\n",
       "CTSD     4464\n",
       "KRT14    3899\n",
       "WFDC2    3643\n",
       "GKN1     3232\n",
       "         ... \n",
       "GCG      2333\n",
       "GFER     2333\n",
       "GFOD2    2333\n",
       "GH2      2333\n",
       "GNE      2333\n",
       "Length: 100, dtype: int64"
      ]
     },
     "execution_count": 119,
     "metadata": {},
     "output_type": "execute_result"
    }
   ],
   "source": [
    "olink_i0_ap_na.isna().sum().nlargest(100)"
   ]
  },
  {
   "cell_type": "code",
   "execution_count": 91,
   "id": "6ee2033b-7b2a-425b-bdff-57692e2e5a4a",
   "metadata": {},
   "outputs": [],
   "source": [
    "olink_i0_mb = olink_i0_excl.loc[olink_i0_excl[Panel] == \"Cardiometabolic\"]\n",
    "olink_i0_mb = olink_i0_mb.pivot(columns = Assay,  values = \"NPX\",  index = \"eid\") "
   ]
  },
  {
   "cell_type": "code",
   "execution_count": 92,
   "id": "b70fd9c3-f185-405b-8d0e-6fcf134e2198",
   "metadata": {},
   "outputs": [
    {
     "data": {
      "text/plain": [
       "(51494, 366)"
      ]
     },
     "execution_count": 92,
     "metadata": {},
     "output_type": "execute_result"
    }
   ],
   "source": [
    "olink_i0_mb.shape"
   ]
  },
  {
   "cell_type": "code",
   "execution_count": 96,
   "id": "0e8050a5-91e8-410c-8128-352eac786bbd",
   "metadata": {},
   "outputs": [
    {
     "data": {
      "text/plain": [
       "(12544, 366)"
      ]
     },
     "execution_count": 96,
     "metadata": {},
     "output_type": "execute_result"
    }
   ],
   "source": [
    "olink_i0_mb_na = olink_i0_mb.dropna()\n",
    "olink_i0_mb_na.shape"
   ]
  },
  {
   "cell_type": "code",
   "execution_count": null,
   "id": "59551581-5ff0-4395-b542-a55460d6b0ba",
   "metadata": {},
   "outputs": [],
   "source": []
  },
  {
   "cell_type": "code",
   "execution_count": 94,
   "id": "ee67d961-2791-46e6-8598-18a5cdde9d3b",
   "metadata": {},
   "outputs": [
    {
     "data": {
      "text/plain": [
       "Assay\n",
       "ACAN      1616\n",
       "ACE2      2067\n",
       "ACOX1     1159\n",
       "ACP5       923\n",
       "ACTA2     2067\n",
       "          ... \n",
       "VSTM2L    2067\n",
       "VWF        535\n",
       "WASF1     2067\n",
       "XG         787\n",
       "ZBTB17    2067\n",
       "Length: 366, dtype: int64"
      ]
     },
     "execution_count": 94,
     "metadata": {},
     "output_type": "execute_result"
    }
   ],
   "source": [
    "olink_i0_mb.isna().sum()"
   ]
  },
  {
   "cell_type": "code",
   "execution_count": 64,
   "id": "eb2f9f1f-a2e8-4e80-8651-370dda54e175",
   "metadata": {
    "scrolled": true
   },
   "outputs": [
    {
     "data": {
      "text/plain": [
       "(51494,)"
      ]
     },
     "execution_count": 64,
     "metadata": {},
     "output_type": "execute_result"
    }
   ],
   "source": [
    "olink_i0_excl[eid].unique().shape"
   ]
  },
  {
   "cell_type": "code",
   "execution_count": 66,
   "id": "e65d40d8-2083-4927-9211-79e2e83dda71",
   "metadata": {},
   "outputs": [
    {
     "data": {
      "text/plain": [
       "(52704,)"
      ]
     },
     "execution_count": 66,
     "metadata": {},
     "output_type": "execute_result"
    }
   ],
   "source": [
    "olink_i0[eid].unique().shape"
   ]
  },
  {
   "cell_type": "code",
   "execution_count": 67,
   "id": "96e9e640-6220-4e0e-a066-6f13bb62f40a",
   "metadata": {},
   "outputs": [
    {
     "data": {
      "text/plain": [
       "51494"
      ]
     },
     "execution_count": 67,
     "metadata": {},
     "output_type": "execute_result"
    }
   ],
   "source": [
    "olink_i0[eid].unique().shape[0] - olink_i0i2_overlap.shape[0] - olink_i0i3_overlap.shape[0] + olink_i2i3_overlap.shape[0]"
   ]
  },
  {
   "cell_type": "code",
   "execution_count": 65,
   "id": "70001e9a-f781-4847-aee1-16ed655bafab",
   "metadata": {},
   "outputs": [
    {
     "data": {
      "text/plain": [
       "(1006,)"
      ]
     },
     "execution_count": 65,
     "metadata": {},
     "output_type": "execute_result"
    }
   ],
   "source": [
    "olink_i2i3_overlap.shape"
   ]
  },
  {
   "cell_type": "code",
   "execution_count": 5,
   "id": "c798e1d4-cec4-47f7-a721-d73a5e2690d8",
   "metadata": {},
   "outputs": [
    {
     "name": "stderr",
     "output_type": "stream",
     "text": [
      "/tmp/ipykernel_2271222/3816187023.py:1: DtypeWarning: Columns (15) have mixed types. Specify dtype option on import or set low_memory=False.\n",
      "  basic_info = pd.read_csv(\"Data/basicinfo.csv\")\n",
      "/tmp/ipykernel_2271222/3816187023.py:3: DtypeWarning: Columns (7,10) have mixed types. Specify dtype option on import or set low_memory=False.\n",
      "  olink = pd.read_csv(\"Data/Olink_UKBB_packageDataFreeze_19Jan2024/67864_olink_0_Instances0-2-3_all-info.tab\", sep = \"\\t\")\n"
     ]
    },
    {
     "data": {
      "text/html": [
       "<div>\n",
       "<style scoped>\n",
       "    .dataframe tbody tr th:only-of-type {\n",
       "        vertical-align: middle;\n",
       "    }\n",
       "\n",
       "    .dataframe tbody tr th {\n",
       "        vertical-align: top;\n",
       "    }\n",
       "\n",
       "    .dataframe thead th {\n",
       "        text-align: right;\n",
       "    }\n",
       "</style>\n",
       "<table border=\"1\" class=\"dataframe\">\n",
       "  <thead>\n",
       "    <tr style=\"text-align: right;\">\n",
       "      <th></th>\n",
       "      <th>eid</th>\n",
       "      <th>age_center.0.0</th>\n",
       "      <th>age_center.1.0</th>\n",
       "      <th>age_center.2.0</th>\n",
       "      <th>age_center.3.0</th>\n",
       "      <th>yearbirth</th>\n",
       "      <th>monthbirth</th>\n",
       "      <th>date_center.0.0</th>\n",
       "      <th>date_center.1.0</th>\n",
       "      <th>date_center.2.0</th>\n",
       "      <th>...</th>\n",
       "      <th>hbp.0.0</th>\n",
       "      <th>hbp.1.0</th>\n",
       "      <th>hbp.2.0</th>\n",
       "      <th>mortdate.0.0</th>\n",
       "      <th>mortdate.1.0</th>\n",
       "      <th>sex</th>\n",
       "      <th>smoking.0.0</th>\n",
       "      <th>smoking.1.0</th>\n",
       "      <th>smoking.2.0</th>\n",
       "      <th>smoking.3.0</th>\n",
       "    </tr>\n",
       "  </thead>\n",
       "  <tbody>\n",
       "    <tr>\n",
       "      <th>0</th>\n",
       "      <td>1000014</td>\n",
       "      <td>63.0</td>\n",
       "      <td>NaN</td>\n",
       "      <td>NaN</td>\n",
       "      <td>NaN</td>\n",
       "      <td>1945.0</td>\n",
       "      <td>5.0</td>\n",
       "      <td>2008-09-13</td>\n",
       "      <td>NaN</td>\n",
       "      <td>NaN</td>\n",
       "      <td>...</td>\n",
       "      <td>1</td>\n",
       "      <td>0</td>\n",
       "      <td>0</td>\n",
       "      <td>NaN</td>\n",
       "      <td>NaN</td>\n",
       "      <td>0.0</td>\n",
       "      <td>0.0</td>\n",
       "      <td>NaN</td>\n",
       "      <td>NaN</td>\n",
       "      <td>NaN</td>\n",
       "    </tr>\n",
       "    <tr>\n",
       "      <th>1</th>\n",
       "      <td>1000023</td>\n",
       "      <td>57.0</td>\n",
       "      <td>NaN</td>\n",
       "      <td>NaN</td>\n",
       "      <td>NaN</td>\n",
       "      <td>1953.0</td>\n",
       "      <td>3.0</td>\n",
       "      <td>2010-05-12</td>\n",
       "      <td>NaN</td>\n",
       "      <td>NaN</td>\n",
       "      <td>...</td>\n",
       "      <td>0</td>\n",
       "      <td>0</td>\n",
       "      <td>0</td>\n",
       "      <td>NaN</td>\n",
       "      <td>NaN</td>\n",
       "      <td>0.0</td>\n",
       "      <td>1.0</td>\n",
       "      <td>NaN</td>\n",
       "      <td>NaN</td>\n",
       "      <td>NaN</td>\n",
       "    </tr>\n",
       "    <tr>\n",
       "      <th>2</th>\n",
       "      <td>1000030</td>\n",
       "      <td>40.0</td>\n",
       "      <td>NaN</td>\n",
       "      <td>NaN</td>\n",
       "      <td>NaN</td>\n",
       "      <td>1967.0</td>\n",
       "      <td>1.0</td>\n",
       "      <td>2007-10-18</td>\n",
       "      <td>NaN</td>\n",
       "      <td>NaN</td>\n",
       "      <td>...</td>\n",
       "      <td>0</td>\n",
       "      <td>0</td>\n",
       "      <td>0</td>\n",
       "      <td>NaN</td>\n",
       "      <td>NaN</td>\n",
       "      <td>1.0</td>\n",
       "      <td>0.0</td>\n",
       "      <td>NaN</td>\n",
       "      <td>NaN</td>\n",
       "      <td>NaN</td>\n",
       "    </tr>\n",
       "    <tr>\n",
       "      <th>3</th>\n",
       "      <td>1000041</td>\n",
       "      <td>65.0</td>\n",
       "      <td>NaN</td>\n",
       "      <td>NaN</td>\n",
       "      <td>NaN</td>\n",
       "      <td>1944.0</td>\n",
       "      <td>11.0</td>\n",
       "      <td>2010-04-15</td>\n",
       "      <td>NaN</td>\n",
       "      <td>NaN</td>\n",
       "      <td>...</td>\n",
       "      <td>1</td>\n",
       "      <td>0</td>\n",
       "      <td>0</td>\n",
       "      <td>NaN</td>\n",
       "      <td>NaN</td>\n",
       "      <td>1.0</td>\n",
       "      <td>0.0</td>\n",
       "      <td>NaN</td>\n",
       "      <td>NaN</td>\n",
       "      <td>NaN</td>\n",
       "    </tr>\n",
       "    <tr>\n",
       "      <th>4</th>\n",
       "      <td>1000059</td>\n",
       "      <td>50.0</td>\n",
       "      <td>NaN</td>\n",
       "      <td>NaN</td>\n",
       "      <td>NaN</td>\n",
       "      <td>1958.0</td>\n",
       "      <td>7.0</td>\n",
       "      <td>2008-08-06</td>\n",
       "      <td>NaN</td>\n",
       "      <td>NaN</td>\n",
       "      <td>...</td>\n",
       "      <td>0</td>\n",
       "      <td>0</td>\n",
       "      <td>0</td>\n",
       "      <td>NaN</td>\n",
       "      <td>NaN</td>\n",
       "      <td>1.0</td>\n",
       "      <td>0.0</td>\n",
       "      <td>NaN</td>\n",
       "      <td>NaN</td>\n",
       "      <td>NaN</td>\n",
       "    </tr>\n",
       "  </tbody>\n",
       "</table>\n",
       "<p>5 rows × 21 columns</p>\n",
       "</div>"
      ],
      "text/plain": [
       "       eid  age_center.0.0  age_center.1.0  age_center.2.0  age_center.3.0  \\\n",
       "0  1000014            63.0             NaN             NaN             NaN   \n",
       "1  1000023            57.0             NaN             NaN             NaN   \n",
       "2  1000030            40.0             NaN             NaN             NaN   \n",
       "3  1000041            65.0             NaN             NaN             NaN   \n",
       "4  1000059            50.0             NaN             NaN             NaN   \n",
       "\n",
       "   yearbirth  monthbirth date_center.0.0 date_center.1.0 date_center.2.0  ...  \\\n",
       "0     1945.0         5.0      2008-09-13             NaN             NaN  ...   \n",
       "1     1953.0         3.0      2010-05-12             NaN             NaN  ...   \n",
       "2     1967.0         1.0      2007-10-18             NaN             NaN  ...   \n",
       "3     1944.0        11.0      2010-04-15             NaN             NaN  ...   \n",
       "4     1958.0         7.0      2008-08-06             NaN             NaN  ...   \n",
       "\n",
       "  hbp.0.0  hbp.1.0  hbp.2.0  mortdate.0.0 mortdate.1.0  sex  smoking.0.0  \\\n",
       "0       1        0        0           NaN          NaN  0.0          0.0   \n",
       "1       0        0        0           NaN          NaN  0.0          1.0   \n",
       "2       0        0        0           NaN          NaN  1.0          0.0   \n",
       "3       1        0        0           NaN          NaN  1.0          0.0   \n",
       "4       0        0        0           NaN          NaN  1.0          0.0   \n",
       "\n",
       "   smoking.1.0  smoking.2.0  smoking.3.0  \n",
       "0          NaN          NaN          NaN  \n",
       "1          NaN          NaN          NaN  \n",
       "2          NaN          NaN          NaN  \n",
       "3          NaN          NaN          NaN  \n",
       "4          NaN          NaN          NaN  \n",
       "\n",
       "[5 rows x 21 columns]"
      ]
     },
     "execution_count": 5,
     "metadata": {},
     "output_type": "execute_result"
    }
   ],
   "source": [
    "basic_info = pd.read_csv(\"Data/basicinfo.csv\")\n",
    "frailty_index = pd.read_csv(\"Data/UKB_FIscores.csv\")\n",
    "olink = pd.read_csv(\"Data/Olink_UKBB_packageDataFreeze_19Jan2024/67864_olink_0_Instances0-2-3_all-info.tab\",  sep = \"\\t\")\n",
    "\n",
    "basic_info.head()\n"
   ]
  },
  {
   "cell_type": "code",
   "execution_count": 122,
   "id": "990b6f73-d0f5-42e0-885d-da0b6f46fd78",
   "metadata": {},
   "outputs": [
    {
     "data": {
      "text/plain": [
       "(52704, 21)"
      ]
     },
     "execution_count": 122,
     "metadata": {},
     "output_type": "execute_result"
    }
   ],
   "source": [
    "basic_info_filt = basic_info.loc[basic_info[eid].isin(olink_i0[eid].unique())]\n",
    "basic_info_filt.shape"
   ]
  },
  {
   "cell_type": "code",
   "execution_count": 123,
   "id": "5c3c2c14-608f-496f-97d0-15cb405595fc",
   "metadata": {
    "scrolled": true
   },
   "outputs": [
    {
     "ename": "KeyboardInterrupt",
     "evalue": "",
     "output_type": "error",
     "traceback": [
      "\u001b[0;31m---------------------------------------------------------------------------\u001b[0m",
      "\u001b[0;31mKeyboardInterrupt\u001b[0m                         Traceback (most recent call last)",
      "Cell \u001b[0;32mIn[123], line 1\u001b[0m\n\u001b[0;32m----> 1\u001b[0m \u001b[43mbasic_info_filt\u001b[49m\u001b[43m[\u001b[49m\u001b[38;5;124;43m'\u001b[39;49m\u001b[38;5;124;43mage_center.0.0\u001b[39;49m\u001b[38;5;124;43m'\u001b[39;49m\u001b[43m]\u001b[49m\u001b[38;5;241;43m.\u001b[39;49m\u001b[43mplot\u001b[49m\u001b[38;5;241;43m.\u001b[39;49m\u001b[43mbar\u001b[49m\u001b[43m(\u001b[49m\u001b[43m)\u001b[49m\n",
      "File \u001b[0;32m~/miniconda3/envs/olink/lib/python3.12/site-packages/pandas/plotting/_core.py:1192\u001b[0m, in \u001b[0;36mPlotAccessor.bar\u001b[0;34m(self, x, y, **kwargs)\u001b[0m\n\u001b[1;32m   1102\u001b[0m \u001b[38;5;129m@Appender\u001b[39m(\n\u001b[1;32m   1103\u001b[0m \u001b[38;5;250m    \u001b[39m\u001b[38;5;124;03m\"\"\"\u001b[39;00m\n\u001b[1;32m   1104\u001b[0m \u001b[38;5;124;03m    See Also\u001b[39;00m\n\u001b[0;32m   (...)\u001b[0m\n\u001b[1;32m   1181\u001b[0m     \u001b[38;5;28mself\u001b[39m, x: Hashable \u001b[38;5;241m|\u001b[39m \u001b[38;5;28;01mNone\u001b[39;00m \u001b[38;5;241m=\u001b[39m \u001b[38;5;28;01mNone\u001b[39;00m, y: Hashable \u001b[38;5;241m|\u001b[39m \u001b[38;5;28;01mNone\u001b[39;00m \u001b[38;5;241m=\u001b[39m \u001b[38;5;28;01mNone\u001b[39;00m, \u001b[38;5;241m*\u001b[39m\u001b[38;5;241m*\u001b[39mkwargs\n\u001b[1;32m   1182\u001b[0m ) \u001b[38;5;241m-\u001b[39m\u001b[38;5;241m>\u001b[39m PlotAccessor:\n\u001b[1;32m   1183\u001b[0m \u001b[38;5;250m    \u001b[39m\u001b[38;5;124;03m\"\"\"\u001b[39;00m\n\u001b[1;32m   1184\u001b[0m \u001b[38;5;124;03m    Vertical bar plot.\u001b[39;00m\n\u001b[1;32m   1185\u001b[0m \n\u001b[0;32m   (...)\u001b[0m\n\u001b[1;32m   1190\u001b[0m \u001b[38;5;124;03m    other axis represents a measured value.\u001b[39;00m\n\u001b[1;32m   1191\u001b[0m \u001b[38;5;124;03m    \"\"\"\u001b[39;00m\n\u001b[0;32m-> 1192\u001b[0m     \u001b[38;5;28;01mreturn\u001b[39;00m \u001b[38;5;28;43mself\u001b[39;49m\u001b[43m(\u001b[49m\u001b[43mkind\u001b[49m\u001b[38;5;241;43m=\u001b[39;49m\u001b[38;5;124;43m\"\u001b[39;49m\u001b[38;5;124;43mbar\u001b[39;49m\u001b[38;5;124;43m\"\u001b[39;49m\u001b[43m,\u001b[49m\u001b[43m \u001b[49m\u001b[43mx\u001b[49m\u001b[38;5;241;43m=\u001b[39;49m\u001b[43mx\u001b[49m\u001b[43m,\u001b[49m\u001b[43m \u001b[49m\u001b[43my\u001b[49m\u001b[38;5;241;43m=\u001b[39;49m\u001b[43my\u001b[49m\u001b[43m,\u001b[49m\u001b[43m \u001b[49m\u001b[38;5;241;43m*\u001b[39;49m\u001b[38;5;241;43m*\u001b[39;49m\u001b[43mkwargs\u001b[49m\u001b[43m)\u001b[49m\n",
      "File \u001b[0;32m~/miniconda3/envs/olink/lib/python3.12/site-packages/pandas/plotting/_core.py:1030\u001b[0m, in \u001b[0;36mPlotAccessor.__call__\u001b[0;34m(self, *args, **kwargs)\u001b[0m\n\u001b[1;32m   1027\u001b[0m             label_name \u001b[38;5;241m=\u001b[39m label_kw \u001b[38;5;129;01mor\u001b[39;00m data\u001b[38;5;241m.\u001b[39mcolumns\n\u001b[1;32m   1028\u001b[0m             data\u001b[38;5;241m.\u001b[39mcolumns \u001b[38;5;241m=\u001b[39m label_name\n\u001b[0;32m-> 1030\u001b[0m \u001b[38;5;28;01mreturn\u001b[39;00m \u001b[43mplot_backend\u001b[49m\u001b[38;5;241;43m.\u001b[39;49m\u001b[43mplot\u001b[49m\u001b[43m(\u001b[49m\u001b[43mdata\u001b[49m\u001b[43m,\u001b[49m\u001b[43m \u001b[49m\u001b[43mkind\u001b[49m\u001b[38;5;241;43m=\u001b[39;49m\u001b[43mkind\u001b[49m\u001b[43m,\u001b[49m\u001b[43m \u001b[49m\u001b[38;5;241;43m*\u001b[39;49m\u001b[38;5;241;43m*\u001b[39;49m\u001b[43mkwargs\u001b[49m\u001b[43m)\u001b[49m\n",
      "File \u001b[0;32m~/miniconda3/envs/olink/lib/python3.12/site-packages/pandas/plotting/_matplotlib/__init__.py:71\u001b[0m, in \u001b[0;36mplot\u001b[0;34m(data, kind, **kwargs)\u001b[0m\n\u001b[1;32m     69\u001b[0m         kwargs[\u001b[38;5;124m\"\u001b[39m\u001b[38;5;124max\u001b[39m\u001b[38;5;124m\"\u001b[39m] \u001b[38;5;241m=\u001b[39m \u001b[38;5;28mgetattr\u001b[39m(ax, \u001b[38;5;124m\"\u001b[39m\u001b[38;5;124mleft_ax\u001b[39m\u001b[38;5;124m\"\u001b[39m, ax)\n\u001b[1;32m     70\u001b[0m plot_obj \u001b[38;5;241m=\u001b[39m PLOT_CLASSES[kind](data, \u001b[38;5;241m*\u001b[39m\u001b[38;5;241m*\u001b[39mkwargs)\n\u001b[0;32m---> 71\u001b[0m \u001b[43mplot_obj\u001b[49m\u001b[38;5;241;43m.\u001b[39;49m\u001b[43mgenerate\u001b[49m\u001b[43m(\u001b[49m\u001b[43m)\u001b[49m\n\u001b[1;32m     72\u001b[0m plot_obj\u001b[38;5;241m.\u001b[39mdraw()\n\u001b[1;32m     73\u001b[0m \u001b[38;5;28;01mreturn\u001b[39;00m plot_obj\u001b[38;5;241m.\u001b[39mresult\n",
      "File \u001b[0;32m~/miniconda3/envs/olink/lib/python3.12/site-packages/pandas/plotting/_matplotlib/core.py:508\u001b[0m, in \u001b[0;36mMPLPlot.generate\u001b[0;34m(self)\u001b[0m\n\u001b[1;32m    506\u001b[0m \u001b[38;5;28;01mfor\u001b[39;00m ax \u001b[38;5;129;01min\u001b[39;00m \u001b[38;5;28mself\u001b[39m\u001b[38;5;241m.\u001b[39maxes:\n\u001b[1;32m    507\u001b[0m     \u001b[38;5;28mself\u001b[39m\u001b[38;5;241m.\u001b[39m_post_plot_logic_common(ax)\n\u001b[0;32m--> 508\u001b[0m     \u001b[38;5;28;43mself\u001b[39;49m\u001b[38;5;241;43m.\u001b[39;49m\u001b[43m_post_plot_logic\u001b[49m\u001b[43m(\u001b[49m\u001b[43max\u001b[49m\u001b[43m,\u001b[49m\u001b[43m \u001b[49m\u001b[38;5;28;43mself\u001b[39;49m\u001b[38;5;241;43m.\u001b[39;49m\u001b[43mdata\u001b[49m\u001b[43m)\u001b[49m\n",
      "File \u001b[0;32m~/miniconda3/envs/olink/lib/python3.12/site-packages/pandas/plotting/_matplotlib/core.py:1969\u001b[0m, in \u001b[0;36mBarPlot._post_plot_logic\u001b[0;34m(self, ax, data)\u001b[0m\n\u001b[1;32m   1966\u001b[0m s_edge \u001b[38;5;241m=\u001b[39m \u001b[38;5;28mself\u001b[39m\u001b[38;5;241m.\u001b[39max_pos[\u001b[38;5;241m0\u001b[39m] \u001b[38;5;241m-\u001b[39m \u001b[38;5;241m0.25\u001b[39m \u001b[38;5;241m+\u001b[39m \u001b[38;5;28mself\u001b[39m\u001b[38;5;241m.\u001b[39mlim_offset\n\u001b[1;32m   1967\u001b[0m e_edge \u001b[38;5;241m=\u001b[39m \u001b[38;5;28mself\u001b[39m\u001b[38;5;241m.\u001b[39max_pos[\u001b[38;5;241m-\u001b[39m\u001b[38;5;241m1\u001b[39m] \u001b[38;5;241m+\u001b[39m \u001b[38;5;241m0.25\u001b[39m \u001b[38;5;241m+\u001b[39m \u001b[38;5;28mself\u001b[39m\u001b[38;5;241m.\u001b[39mbar_width \u001b[38;5;241m+\u001b[39m \u001b[38;5;28mself\u001b[39m\u001b[38;5;241m.\u001b[39mlim_offset\n\u001b[0;32m-> 1969\u001b[0m \u001b[38;5;28;43mself\u001b[39;49m\u001b[38;5;241;43m.\u001b[39;49m\u001b[43m_decorate_ticks\u001b[49m\u001b[43m(\u001b[49m\u001b[43max\u001b[49m\u001b[43m,\u001b[49m\u001b[43m \u001b[49m\u001b[38;5;28;43mself\u001b[39;49m\u001b[38;5;241;43m.\u001b[39;49m\u001b[43m_get_index_name\u001b[49m\u001b[43m(\u001b[49m\u001b[43m)\u001b[49m\u001b[43m,\u001b[49m\u001b[43m \u001b[49m\u001b[43mstr_index\u001b[49m\u001b[43m,\u001b[49m\u001b[43m \u001b[49m\u001b[43ms_edge\u001b[49m\u001b[43m,\u001b[49m\u001b[43m \u001b[49m\u001b[43me_edge\u001b[49m\u001b[43m)\u001b[49m\n",
      "File \u001b[0;32m~/miniconda3/envs/olink/lib/python3.12/site-packages/pandas/plotting/_matplotlib/core.py:1984\u001b[0m, in \u001b[0;36mBarPlot._decorate_ticks\u001b[0;34m(self, ax, name, ticklabels, start_edge, end_edge)\u001b[0m\n\u001b[1;32m   1982\u001b[0m     ax\u001b[38;5;241m.\u001b[39mset_xticks(np\u001b[38;5;241m.\u001b[39marray(\u001b[38;5;28mself\u001b[39m\u001b[38;5;241m.\u001b[39mxticks))\n\u001b[1;32m   1983\u001b[0m \u001b[38;5;28;01melse\u001b[39;00m:\n\u001b[0;32m-> 1984\u001b[0m     \u001b[43max\u001b[49m\u001b[38;5;241;43m.\u001b[39;49m\u001b[43mset_xticks\u001b[49m\u001b[43m(\u001b[49m\u001b[38;5;28;43mself\u001b[39;49m\u001b[38;5;241;43m.\u001b[39;49m\u001b[43mtick_pos\u001b[49m\u001b[43m)\u001b[49m\n\u001b[1;32m   1985\u001b[0m     ax\u001b[38;5;241m.\u001b[39mset_xticklabels(ticklabels)\n\u001b[1;32m   1987\u001b[0m \u001b[38;5;28;01mif\u001b[39;00m name \u001b[38;5;129;01mis\u001b[39;00m \u001b[38;5;129;01mnot\u001b[39;00m \u001b[38;5;28;01mNone\u001b[39;00m \u001b[38;5;129;01mand\u001b[39;00m \u001b[38;5;28mself\u001b[39m\u001b[38;5;241m.\u001b[39muse_index:\n",
      "File \u001b[0;32m~/miniconda3/envs/olink/lib/python3.12/site-packages/matplotlib/axes/_base.py:73\u001b[0m, in \u001b[0;36m_axis_method_wrapper.__set_name__.<locals>.wrapper\u001b[0;34m(self, *args, **kwargs)\u001b[0m\n\u001b[1;32m     72\u001b[0m \u001b[38;5;28;01mdef\u001b[39;00m \u001b[38;5;21mwrapper\u001b[39m(\u001b[38;5;28mself\u001b[39m, \u001b[38;5;241m*\u001b[39margs, \u001b[38;5;241m*\u001b[39m\u001b[38;5;241m*\u001b[39mkwargs):\n\u001b[0;32m---> 73\u001b[0m     \u001b[38;5;28;01mreturn\u001b[39;00m \u001b[43mget_method\u001b[49m\u001b[43m(\u001b[49m\u001b[38;5;28;43mself\u001b[39;49m\u001b[43m)\u001b[49m\u001b[43m(\u001b[49m\u001b[38;5;241;43m*\u001b[39;49m\u001b[43margs\u001b[49m\u001b[43m,\u001b[49m\u001b[43m \u001b[49m\u001b[38;5;241;43m*\u001b[39;49m\u001b[38;5;241;43m*\u001b[39;49m\u001b[43mkwargs\u001b[49m\u001b[43m)\u001b[49m\n",
      "File \u001b[0;32m~/miniconda3/envs/olink/lib/python3.12/site-packages/matplotlib/axis.py:2138\u001b[0m, in \u001b[0;36mAxis.set_ticks\u001b[0;34m(self, ticks, labels, minor, **kwargs)\u001b[0m\n\u001b[1;32m   2133\u001b[0m     first_key \u001b[38;5;241m=\u001b[39m \u001b[38;5;28mnext\u001b[39m(\u001b[38;5;28miter\u001b[39m(kwargs))\n\u001b[1;32m   2134\u001b[0m     \u001b[38;5;28;01mraise\u001b[39;00m \u001b[38;5;167;01mValueError\u001b[39;00m(\n\u001b[1;32m   2135\u001b[0m         \u001b[38;5;124mf\u001b[39m\u001b[38;5;124m\"\u001b[39m\u001b[38;5;124mIncorrect use of keyword argument \u001b[39m\u001b[38;5;132;01m{\u001b[39;00mfirst_key\u001b[38;5;132;01m!r}\u001b[39;00m\u001b[38;5;124m. Keyword arguments \u001b[39m\u001b[38;5;124m\"\u001b[39m\n\u001b[1;32m   2136\u001b[0m         \u001b[38;5;124m\"\u001b[39m\u001b[38;5;124mother than \u001b[39m\u001b[38;5;124m'\u001b[39m\u001b[38;5;124mminor\u001b[39m\u001b[38;5;124m'\u001b[39m\u001b[38;5;124m modify the text labels and can only be used if \u001b[39m\u001b[38;5;124m\"\u001b[39m\n\u001b[1;32m   2137\u001b[0m         \u001b[38;5;124m\"\u001b[39m\u001b[38;5;124m'\u001b[39m\u001b[38;5;124mlabels\u001b[39m\u001b[38;5;124m'\u001b[39m\u001b[38;5;124m are passed as well.\u001b[39m\u001b[38;5;124m\"\u001b[39m)\n\u001b[0;32m-> 2138\u001b[0m result \u001b[38;5;241m=\u001b[39m \u001b[38;5;28;43mself\u001b[39;49m\u001b[38;5;241;43m.\u001b[39;49m\u001b[43m_set_tick_locations\u001b[49m\u001b[43m(\u001b[49m\u001b[43mticks\u001b[49m\u001b[43m,\u001b[49m\u001b[43m \u001b[49m\u001b[43mminor\u001b[49m\u001b[38;5;241;43m=\u001b[39;49m\u001b[43mminor\u001b[49m\u001b[43m)\u001b[49m\n\u001b[1;32m   2139\u001b[0m \u001b[38;5;28;01mif\u001b[39;00m labels \u001b[38;5;129;01mis\u001b[39;00m \u001b[38;5;129;01mnot\u001b[39;00m \u001b[38;5;28;01mNone\u001b[39;00m:\n\u001b[1;32m   2140\u001b[0m     \u001b[38;5;28mself\u001b[39m\u001b[38;5;241m.\u001b[39mset_ticklabels(labels, minor\u001b[38;5;241m=\u001b[39mminor, \u001b[38;5;241m*\u001b[39m\u001b[38;5;241m*\u001b[39mkwargs)\n",
      "File \u001b[0;32m~/miniconda3/envs/olink/lib/python3.12/site-packages/matplotlib/axis.py:2089\u001b[0m, in \u001b[0;36mAxis._set_tick_locations\u001b[0;34m(self, ticks, minor)\u001b[0m\n\u001b[1;32m   2087\u001b[0m \u001b[38;5;28;01melse\u001b[39;00m:\n\u001b[1;32m   2088\u001b[0m     \u001b[38;5;28mself\u001b[39m\u001b[38;5;241m.\u001b[39mset_major_locator(locator)\n\u001b[0;32m-> 2089\u001b[0m     \u001b[38;5;28;01mreturn\u001b[39;00m \u001b[38;5;28;43mself\u001b[39;49m\u001b[38;5;241;43m.\u001b[39;49m\u001b[43mget_major_ticks\u001b[49m\u001b[43m(\u001b[49m\u001b[38;5;28;43mlen\u001b[39;49m\u001b[43m(\u001b[49m\u001b[43mticks\u001b[49m\u001b[43m)\u001b[49m\u001b[43m)\u001b[49m\n",
      "File \u001b[0;32m~/miniconda3/envs/olink/lib/python3.12/site-packages/matplotlib/axis.py:1626\u001b[0m, in \u001b[0;36mAxis.get_major_ticks\u001b[0;34m(self, numticks)\u001b[0m\n\u001b[1;32m   1622\u001b[0m     numticks \u001b[38;5;241m=\u001b[39m \u001b[38;5;28mlen\u001b[39m(\u001b[38;5;28mself\u001b[39m\u001b[38;5;241m.\u001b[39mget_majorticklocs())\n\u001b[1;32m   1624\u001b[0m \u001b[38;5;28;01mwhile\u001b[39;00m \u001b[38;5;28mlen\u001b[39m(\u001b[38;5;28mself\u001b[39m\u001b[38;5;241m.\u001b[39mmajorTicks) \u001b[38;5;241m<\u001b[39m numticks:\n\u001b[1;32m   1625\u001b[0m     \u001b[38;5;66;03m# Update the new tick label properties from the old.\u001b[39;00m\n\u001b[0;32m-> 1626\u001b[0m     tick \u001b[38;5;241m=\u001b[39m \u001b[38;5;28;43mself\u001b[39;49m\u001b[38;5;241;43m.\u001b[39;49m\u001b[43m_get_tick\u001b[49m\u001b[43m(\u001b[49m\u001b[43mmajor\u001b[49m\u001b[38;5;241;43m=\u001b[39;49m\u001b[38;5;28;43;01mTrue\u001b[39;49;00m\u001b[43m)\u001b[49m\n\u001b[1;32m   1627\u001b[0m     \u001b[38;5;28mself\u001b[39m\u001b[38;5;241m.\u001b[39mmajorTicks\u001b[38;5;241m.\u001b[39mappend(tick)\n\u001b[1;32m   1628\u001b[0m     \u001b[38;5;28mself\u001b[39m\u001b[38;5;241m.\u001b[39m_copy_tick_props(\u001b[38;5;28mself\u001b[39m\u001b[38;5;241m.\u001b[39mmajorTicks[\u001b[38;5;241m0\u001b[39m], tick)\n",
      "File \u001b[0;32m~/miniconda3/envs/olink/lib/python3.12/site-packages/matplotlib/axis.py:1562\u001b[0m, in \u001b[0;36mAxis._get_tick\u001b[0;34m(self, major)\u001b[0m\n\u001b[1;32m   1558\u001b[0m     \u001b[38;5;28;01mraise\u001b[39;00m \u001b[38;5;167;01mNotImplementedError\u001b[39;00m(\n\u001b[1;32m   1559\u001b[0m         \u001b[38;5;124mf\u001b[39m\u001b[38;5;124m\"\u001b[39m\u001b[38;5;124mThe Axis subclass \u001b[39m\u001b[38;5;132;01m{\u001b[39;00m\u001b[38;5;28mself\u001b[39m\u001b[38;5;241m.\u001b[39m\u001b[38;5;18m__class__\u001b[39m\u001b[38;5;241m.\u001b[39m\u001b[38;5;18m__name__\u001b[39m\u001b[38;5;132;01m}\u001b[39;00m\u001b[38;5;124m must define \u001b[39m\u001b[38;5;124m\"\u001b[39m\n\u001b[1;32m   1560\u001b[0m         \u001b[38;5;124m\"\u001b[39m\u001b[38;5;124m_tick_class or reimplement _get_tick()\u001b[39m\u001b[38;5;124m\"\u001b[39m)\n\u001b[1;32m   1561\u001b[0m tick_kw \u001b[38;5;241m=\u001b[39m \u001b[38;5;28mself\u001b[39m\u001b[38;5;241m.\u001b[39m_major_tick_kw \u001b[38;5;28;01mif\u001b[39;00m major \u001b[38;5;28;01melse\u001b[39;00m \u001b[38;5;28mself\u001b[39m\u001b[38;5;241m.\u001b[39m_minor_tick_kw\n\u001b[0;32m-> 1562\u001b[0m \u001b[38;5;28;01mreturn\u001b[39;00m \u001b[38;5;28;43mself\u001b[39;49m\u001b[38;5;241;43m.\u001b[39;49m\u001b[43m_tick_class\u001b[49m\u001b[43m(\u001b[49m\u001b[38;5;28;43mself\u001b[39;49m\u001b[38;5;241;43m.\u001b[39;49m\u001b[43maxes\u001b[49m\u001b[43m,\u001b[49m\u001b[43m \u001b[49m\u001b[38;5;241;43m0\u001b[39;49m\u001b[43m,\u001b[49m\u001b[43m \u001b[49m\u001b[43mmajor\u001b[49m\u001b[38;5;241;43m=\u001b[39;49m\u001b[43mmajor\u001b[49m\u001b[43m,\u001b[49m\u001b[43m \u001b[49m\u001b[38;5;241;43m*\u001b[39;49m\u001b[38;5;241;43m*\u001b[39;49m\u001b[43mtick_kw\u001b[49m\u001b[43m)\u001b[49m\n",
      "File \u001b[0;32m~/miniconda3/envs/olink/lib/python3.12/site-packages/matplotlib/axis.py:413\u001b[0m, in \u001b[0;36mXTick.__init__\u001b[0;34m(self, *args, **kwargs)\u001b[0m\n\u001b[1;32m    412\u001b[0m \u001b[38;5;28;01mdef\u001b[39;00m \u001b[38;5;21m__init__\u001b[39m(\u001b[38;5;28mself\u001b[39m, \u001b[38;5;241m*\u001b[39margs, \u001b[38;5;241m*\u001b[39m\u001b[38;5;241m*\u001b[39mkwargs):\n\u001b[0;32m--> 413\u001b[0m     \u001b[38;5;28;43msuper\u001b[39;49m\u001b[43m(\u001b[49m\u001b[43m)\u001b[49m\u001b[38;5;241;43m.\u001b[39;49m\u001b[38;5;21;43m__init__\u001b[39;49m\u001b[43m(\u001b[49m\u001b[38;5;241;43m*\u001b[39;49m\u001b[43margs\u001b[49m\u001b[43m,\u001b[49m\u001b[43m \u001b[49m\u001b[38;5;241;43m*\u001b[39;49m\u001b[38;5;241;43m*\u001b[39;49m\u001b[43mkwargs\u001b[49m\u001b[43m)\u001b[49m\n\u001b[1;32m    414\u001b[0m     \u001b[38;5;66;03m# x in data coords, y in axes coords\u001b[39;00m\n\u001b[1;32m    415\u001b[0m     ax \u001b[38;5;241m=\u001b[39m \u001b[38;5;28mself\u001b[39m\u001b[38;5;241m.\u001b[39maxes\n",
      "File \u001b[0;32m~/miniconda3/envs/olink/lib/python3.12/site-packages/matplotlib/axis.py:160\u001b[0m, in \u001b[0;36mTick.__init__\u001b[0;34m(self, axes, loc, size, width, color, tickdir, pad, labelsize, labelcolor, labelfontfamily, zorder, gridOn, tick1On, tick2On, label1On, label2On, major, labelrotation, grid_color, grid_linestyle, grid_linewidth, grid_alpha, **kwargs)\u001b[0m\n\u001b[1;32m    157\u001b[0m     grid_alpha \u001b[38;5;241m=\u001b[39m mpl\u001b[38;5;241m.\u001b[39mrcParams[\u001b[38;5;124m\"\u001b[39m\u001b[38;5;124mgrid.alpha\u001b[39m\u001b[38;5;124m\"\u001b[39m]\n\u001b[1;32m    158\u001b[0m grid_kw \u001b[38;5;241m=\u001b[39m {k[\u001b[38;5;241m5\u001b[39m:]: v \u001b[38;5;28;01mfor\u001b[39;00m k, v \u001b[38;5;129;01min\u001b[39;00m kwargs\u001b[38;5;241m.\u001b[39mitems()}\n\u001b[0;32m--> 160\u001b[0m \u001b[38;5;28mself\u001b[39m\u001b[38;5;241m.\u001b[39mtick1line \u001b[38;5;241m=\u001b[39m \u001b[43mmlines\u001b[49m\u001b[38;5;241;43m.\u001b[39;49m\u001b[43mLine2D\u001b[49m\u001b[43m(\u001b[49m\n\u001b[1;32m    161\u001b[0m \u001b[43m    \u001b[49m\u001b[43m[\u001b[49m\u001b[43m]\u001b[49m\u001b[43m,\u001b[49m\u001b[43m \u001b[49m\u001b[43m[\u001b[49m\u001b[43m]\u001b[49m\u001b[43m,\u001b[49m\n\u001b[1;32m    162\u001b[0m \u001b[43m    \u001b[49m\u001b[43mcolor\u001b[49m\u001b[38;5;241;43m=\u001b[39;49m\u001b[43mcolor\u001b[49m\u001b[43m,\u001b[49m\u001b[43m \u001b[49m\u001b[43mlinestyle\u001b[49m\u001b[38;5;241;43m=\u001b[39;49m\u001b[38;5;124;43m\"\u001b[39;49m\u001b[38;5;124;43mnone\u001b[39;49m\u001b[38;5;124;43m\"\u001b[39;49m\u001b[43m,\u001b[49m\u001b[43m \u001b[49m\u001b[43mzorder\u001b[49m\u001b[38;5;241;43m=\u001b[39;49m\u001b[43mzorder\u001b[49m\u001b[43m,\u001b[49m\u001b[43m \u001b[49m\u001b[43mvisible\u001b[49m\u001b[38;5;241;43m=\u001b[39;49m\u001b[43mtick1On\u001b[49m\u001b[43m,\u001b[49m\n\u001b[1;32m    163\u001b[0m \u001b[43m    \u001b[49m\u001b[43mmarkeredgecolor\u001b[49m\u001b[38;5;241;43m=\u001b[39;49m\u001b[43mcolor\u001b[49m\u001b[43m,\u001b[49m\u001b[43m \u001b[49m\u001b[43mmarkersize\u001b[49m\u001b[38;5;241;43m=\u001b[39;49m\u001b[43msize\u001b[49m\u001b[43m,\u001b[49m\u001b[43m \u001b[49m\u001b[43mmarkeredgewidth\u001b[49m\u001b[38;5;241;43m=\u001b[39;49m\u001b[43mwidth\u001b[49m\u001b[43m,\u001b[49m\n\u001b[1;32m    164\u001b[0m \u001b[43m\u001b[49m\u001b[43m)\u001b[49m\n\u001b[1;32m    165\u001b[0m \u001b[38;5;28mself\u001b[39m\u001b[38;5;241m.\u001b[39mtick2line \u001b[38;5;241m=\u001b[39m mlines\u001b[38;5;241m.\u001b[39mLine2D(\n\u001b[1;32m    166\u001b[0m     [], [],\n\u001b[1;32m    167\u001b[0m     color\u001b[38;5;241m=\u001b[39mcolor, linestyle\u001b[38;5;241m=\u001b[39m\u001b[38;5;124m\"\u001b[39m\u001b[38;5;124mnone\u001b[39m\u001b[38;5;124m\"\u001b[39m, zorder\u001b[38;5;241m=\u001b[39mzorder, visible\u001b[38;5;241m=\u001b[39mtick2On,\n\u001b[1;32m    168\u001b[0m     markeredgecolor\u001b[38;5;241m=\u001b[39mcolor, markersize\u001b[38;5;241m=\u001b[39msize, markeredgewidth\u001b[38;5;241m=\u001b[39mwidth,\n\u001b[1;32m    169\u001b[0m )\n\u001b[1;32m    170\u001b[0m \u001b[38;5;28mself\u001b[39m\u001b[38;5;241m.\u001b[39mgridline \u001b[38;5;241m=\u001b[39m mlines\u001b[38;5;241m.\u001b[39mLine2D(\n\u001b[1;32m    171\u001b[0m     [], [],\n\u001b[1;32m    172\u001b[0m     color\u001b[38;5;241m=\u001b[39mgrid_color, alpha\u001b[38;5;241m=\u001b[39mgrid_alpha, visible\u001b[38;5;241m=\u001b[39mgridOn,\n\u001b[1;32m    173\u001b[0m     linestyle\u001b[38;5;241m=\u001b[39mgrid_linestyle, linewidth\u001b[38;5;241m=\u001b[39mgrid_linewidth, marker\u001b[38;5;241m=\u001b[39m\u001b[38;5;124m\"\u001b[39m\u001b[38;5;124m\"\u001b[39m,\n\u001b[1;32m    174\u001b[0m     \u001b[38;5;241m*\u001b[39m\u001b[38;5;241m*\u001b[39mgrid_kw,\n\u001b[1;32m    175\u001b[0m )\n",
      "File \u001b[0;32m~/miniconda3/envs/olink/lib/python3.12/site-packages/matplotlib/lines.py:287\u001b[0m, in \u001b[0;36mLine2D.__init__\u001b[0;34m(self, xdata, ydata, linewidth, linestyle, color, gapcolor, marker, markersize, markeredgewidth, markeredgecolor, markerfacecolor, markerfacecoloralt, fillstyle, antialiased, dash_capstyle, solid_capstyle, dash_joinstyle, solid_joinstyle, pickradius, drawstyle, markevery, **kwargs)\u001b[0m\n\u001b[1;32m    283\u001b[0m     \u001b[38;5;28;01melse\u001b[39;00m:\n\u001b[1;32m    284\u001b[0m         \u001b[38;5;28;01mreturn\u001b[39;00m \u001b[38;5;124m\"\u001b[39m\u001b[38;5;124mLine2D(\u001b[39m\u001b[38;5;132;01m%s\u001b[39;00m\u001b[38;5;124m)\u001b[39m\u001b[38;5;124m\"\u001b[39m \u001b[38;5;241m%\u001b[39m \u001b[38;5;124m\"\u001b[39m\u001b[38;5;124m,\u001b[39m\u001b[38;5;124m\"\u001b[39m\u001b[38;5;241m.\u001b[39mjoin(\n\u001b[1;32m    285\u001b[0m             \u001b[38;5;28mmap\u001b[39m(\u001b[38;5;124m\"\u001b[39m\u001b[38;5;124m(\u001b[39m\u001b[38;5;132;01m{:g}\u001b[39;00m\u001b[38;5;124m,\u001b[39m\u001b[38;5;132;01m{:g}\u001b[39;00m\u001b[38;5;124m)\u001b[39m\u001b[38;5;124m\"\u001b[39m\u001b[38;5;241m.\u001b[39mformat, \u001b[38;5;28mself\u001b[39m\u001b[38;5;241m.\u001b[39m_x, \u001b[38;5;28mself\u001b[39m\u001b[38;5;241m.\u001b[39m_y))\n\u001b[0;32m--> 287\u001b[0m \u001b[38;5;28;01mdef\u001b[39;00m \u001b[38;5;21m__init__\u001b[39m(\u001b[38;5;28mself\u001b[39m, xdata, ydata, \u001b[38;5;241m*\u001b[39m,\n\u001b[1;32m    288\u001b[0m              linewidth\u001b[38;5;241m=\u001b[39m\u001b[38;5;28;01mNone\u001b[39;00m,  \u001b[38;5;66;03m# all Nones default to rc\u001b[39;00m\n\u001b[1;32m    289\u001b[0m              linestyle\u001b[38;5;241m=\u001b[39m\u001b[38;5;28;01mNone\u001b[39;00m,\n\u001b[1;32m    290\u001b[0m              color\u001b[38;5;241m=\u001b[39m\u001b[38;5;28;01mNone\u001b[39;00m,\n\u001b[1;32m    291\u001b[0m              gapcolor\u001b[38;5;241m=\u001b[39m\u001b[38;5;28;01mNone\u001b[39;00m,\n\u001b[1;32m    292\u001b[0m              marker\u001b[38;5;241m=\u001b[39m\u001b[38;5;28;01mNone\u001b[39;00m,\n\u001b[1;32m    293\u001b[0m              markersize\u001b[38;5;241m=\u001b[39m\u001b[38;5;28;01mNone\u001b[39;00m,\n\u001b[1;32m    294\u001b[0m              markeredgewidth\u001b[38;5;241m=\u001b[39m\u001b[38;5;28;01mNone\u001b[39;00m,\n\u001b[1;32m    295\u001b[0m              markeredgecolor\u001b[38;5;241m=\u001b[39m\u001b[38;5;28;01mNone\u001b[39;00m,\n\u001b[1;32m    296\u001b[0m              markerfacecolor\u001b[38;5;241m=\u001b[39m\u001b[38;5;28;01mNone\u001b[39;00m,\n\u001b[1;32m    297\u001b[0m              markerfacecoloralt\u001b[38;5;241m=\u001b[39m\u001b[38;5;124m'\u001b[39m\u001b[38;5;124mnone\u001b[39m\u001b[38;5;124m'\u001b[39m,\n\u001b[1;32m    298\u001b[0m              fillstyle\u001b[38;5;241m=\u001b[39m\u001b[38;5;28;01mNone\u001b[39;00m,\n\u001b[1;32m    299\u001b[0m              antialiased\u001b[38;5;241m=\u001b[39m\u001b[38;5;28;01mNone\u001b[39;00m,\n\u001b[1;32m    300\u001b[0m              dash_capstyle\u001b[38;5;241m=\u001b[39m\u001b[38;5;28;01mNone\u001b[39;00m,\n\u001b[1;32m    301\u001b[0m              solid_capstyle\u001b[38;5;241m=\u001b[39m\u001b[38;5;28;01mNone\u001b[39;00m,\n\u001b[1;32m    302\u001b[0m              dash_joinstyle\u001b[38;5;241m=\u001b[39m\u001b[38;5;28;01mNone\u001b[39;00m,\n\u001b[1;32m    303\u001b[0m              solid_joinstyle\u001b[38;5;241m=\u001b[39m\u001b[38;5;28;01mNone\u001b[39;00m,\n\u001b[1;32m    304\u001b[0m              pickradius\u001b[38;5;241m=\u001b[39m\u001b[38;5;241m5\u001b[39m,\n\u001b[1;32m    305\u001b[0m              drawstyle\u001b[38;5;241m=\u001b[39m\u001b[38;5;28;01mNone\u001b[39;00m,\n\u001b[1;32m    306\u001b[0m              markevery\u001b[38;5;241m=\u001b[39m\u001b[38;5;28;01mNone\u001b[39;00m,\n\u001b[1;32m    307\u001b[0m              \u001b[38;5;241m*\u001b[39m\u001b[38;5;241m*\u001b[39mkwargs\n\u001b[1;32m    308\u001b[0m              ):\n\u001b[1;32m    309\u001b[0m \u001b[38;5;250m    \u001b[39m\u001b[38;5;124;03m\"\"\"\u001b[39;00m\n\u001b[1;32m    310\u001b[0m \u001b[38;5;124;03m    Create a `.Line2D` instance with *x* and *y* data in sequences of\u001b[39;00m\n\u001b[1;32m    311\u001b[0m \u001b[38;5;124;03m    *xdata*, *ydata*.\u001b[39;00m\n\u001b[0;32m   (...)\u001b[0m\n\u001b[1;32m    320\u001b[0m \n\u001b[1;32m    321\u001b[0m \u001b[38;5;124;03m    \"\"\"\u001b[39;00m\n\u001b[1;32m    322\u001b[0m     \u001b[38;5;28msuper\u001b[39m()\u001b[38;5;241m.\u001b[39m\u001b[38;5;21m__init__\u001b[39m()\n",
      "\u001b[0;31mKeyboardInterrupt\u001b[0m: "
     ]
    },
    {
     "name": "stdout",
     "output_type": "stream",
     "text": [
      "Error in callback <function _draw_all_if_interactive at 0x7f78bbd67060> (for post_execute), with arguments args (),kwargs {}:\n"
     ]
    },
    {
     "ename": "KeyboardInterrupt",
     "evalue": "",
     "output_type": "error",
     "traceback": [
      "\u001b[0;31m---------------------------------------------------------------------------\u001b[0m",
      "\u001b[0;31mKeyboardInterrupt\u001b[0m                         Traceback (most recent call last)",
      "File \u001b[0;32m~/miniconda3/envs/olink/lib/python3.12/site-packages/matplotlib/pyplot.py:197\u001b[0m, in \u001b[0;36m_draw_all_if_interactive\u001b[0;34m()\u001b[0m\n\u001b[1;32m    195\u001b[0m \u001b[38;5;28;01mdef\u001b[39;00m \u001b[38;5;21m_draw_all_if_interactive\u001b[39m() \u001b[38;5;241m-\u001b[39m\u001b[38;5;241m>\u001b[39m \u001b[38;5;28;01mNone\u001b[39;00m:\n\u001b[1;32m    196\u001b[0m     \u001b[38;5;28;01mif\u001b[39;00m matplotlib\u001b[38;5;241m.\u001b[39mis_interactive():\n\u001b[0;32m--> 197\u001b[0m         \u001b[43mdraw_all\u001b[49m\u001b[43m(\u001b[49m\u001b[43m)\u001b[49m\n",
      "File \u001b[0;32m~/miniconda3/envs/olink/lib/python3.12/site-packages/matplotlib/_pylab_helpers.py:132\u001b[0m, in \u001b[0;36mGcf.draw_all\u001b[0;34m(cls, force)\u001b[0m\n\u001b[1;32m    130\u001b[0m \u001b[38;5;28;01mfor\u001b[39;00m manager \u001b[38;5;129;01min\u001b[39;00m \u001b[38;5;28mcls\u001b[39m\u001b[38;5;241m.\u001b[39mget_all_fig_managers():\n\u001b[1;32m    131\u001b[0m     \u001b[38;5;28;01mif\u001b[39;00m force \u001b[38;5;129;01mor\u001b[39;00m manager\u001b[38;5;241m.\u001b[39mcanvas\u001b[38;5;241m.\u001b[39mfigure\u001b[38;5;241m.\u001b[39mstale:\n\u001b[0;32m--> 132\u001b[0m         \u001b[43mmanager\u001b[49m\u001b[38;5;241;43m.\u001b[39;49m\u001b[43mcanvas\u001b[49m\u001b[38;5;241;43m.\u001b[39;49m\u001b[43mdraw_idle\u001b[49m\u001b[43m(\u001b[49m\u001b[43m)\u001b[49m\n",
      "File \u001b[0;32m~/miniconda3/envs/olink/lib/python3.12/site-packages/matplotlib/backend_bases.py:1893\u001b[0m, in \u001b[0;36mFigureCanvasBase.draw_idle\u001b[0;34m(self, *args, **kwargs)\u001b[0m\n\u001b[1;32m   1891\u001b[0m \u001b[38;5;28;01mif\u001b[39;00m \u001b[38;5;129;01mnot\u001b[39;00m \u001b[38;5;28mself\u001b[39m\u001b[38;5;241m.\u001b[39m_is_idle_drawing:\n\u001b[1;32m   1892\u001b[0m     \u001b[38;5;28;01mwith\u001b[39;00m \u001b[38;5;28mself\u001b[39m\u001b[38;5;241m.\u001b[39m_idle_draw_cntx():\n\u001b[0;32m-> 1893\u001b[0m         \u001b[38;5;28;43mself\u001b[39;49m\u001b[38;5;241;43m.\u001b[39;49m\u001b[43mdraw\u001b[49m\u001b[43m(\u001b[49m\u001b[38;5;241;43m*\u001b[39;49m\u001b[43margs\u001b[49m\u001b[43m,\u001b[49m\u001b[43m \u001b[49m\u001b[38;5;241;43m*\u001b[39;49m\u001b[38;5;241;43m*\u001b[39;49m\u001b[43mkwargs\u001b[49m\u001b[43m)\u001b[49m\n",
      "File \u001b[0;32m~/miniconda3/envs/olink/lib/python3.12/site-packages/matplotlib/backends/backend_agg.py:388\u001b[0m, in \u001b[0;36mFigureCanvasAgg.draw\u001b[0;34m(self)\u001b[0m\n\u001b[1;32m    385\u001b[0m \u001b[38;5;66;03m# Acquire a lock on the shared font cache.\u001b[39;00m\n\u001b[1;32m    386\u001b[0m \u001b[38;5;28;01mwith\u001b[39;00m (\u001b[38;5;28mself\u001b[39m\u001b[38;5;241m.\u001b[39mtoolbar\u001b[38;5;241m.\u001b[39m_wait_cursor_for_draw_cm() \u001b[38;5;28;01mif\u001b[39;00m \u001b[38;5;28mself\u001b[39m\u001b[38;5;241m.\u001b[39mtoolbar\n\u001b[1;32m    387\u001b[0m       \u001b[38;5;28;01melse\u001b[39;00m nullcontext()):\n\u001b[0;32m--> 388\u001b[0m     \u001b[38;5;28;43mself\u001b[39;49m\u001b[38;5;241;43m.\u001b[39;49m\u001b[43mfigure\u001b[49m\u001b[38;5;241;43m.\u001b[39;49m\u001b[43mdraw\u001b[49m\u001b[43m(\u001b[49m\u001b[38;5;28;43mself\u001b[39;49m\u001b[38;5;241;43m.\u001b[39;49m\u001b[43mrenderer\u001b[49m\u001b[43m)\u001b[49m\n\u001b[1;32m    389\u001b[0m     \u001b[38;5;66;03m# A GUI class may be need to update a window using this draw, so\u001b[39;00m\n\u001b[1;32m    390\u001b[0m     \u001b[38;5;66;03m# don't forget to call the superclass.\u001b[39;00m\n\u001b[1;32m    391\u001b[0m     \u001b[38;5;28msuper\u001b[39m()\u001b[38;5;241m.\u001b[39mdraw()\n",
      "File \u001b[0;32m~/miniconda3/envs/olink/lib/python3.12/site-packages/matplotlib/artist.py:95\u001b[0m, in \u001b[0;36m_finalize_rasterization.<locals>.draw_wrapper\u001b[0;34m(artist, renderer, *args, **kwargs)\u001b[0m\n\u001b[1;32m     93\u001b[0m \u001b[38;5;129m@wraps\u001b[39m(draw)\n\u001b[1;32m     94\u001b[0m \u001b[38;5;28;01mdef\u001b[39;00m \u001b[38;5;21mdraw_wrapper\u001b[39m(artist, renderer, \u001b[38;5;241m*\u001b[39margs, \u001b[38;5;241m*\u001b[39m\u001b[38;5;241m*\u001b[39mkwargs):\n\u001b[0;32m---> 95\u001b[0m     result \u001b[38;5;241m=\u001b[39m \u001b[43mdraw\u001b[49m\u001b[43m(\u001b[49m\u001b[43martist\u001b[49m\u001b[43m,\u001b[49m\u001b[43m \u001b[49m\u001b[43mrenderer\u001b[49m\u001b[43m,\u001b[49m\u001b[43m \u001b[49m\u001b[38;5;241;43m*\u001b[39;49m\u001b[43margs\u001b[49m\u001b[43m,\u001b[49m\u001b[43m \u001b[49m\u001b[38;5;241;43m*\u001b[39;49m\u001b[38;5;241;43m*\u001b[39;49m\u001b[43mkwargs\u001b[49m\u001b[43m)\u001b[49m\n\u001b[1;32m     96\u001b[0m     \u001b[38;5;28;01mif\u001b[39;00m renderer\u001b[38;5;241m.\u001b[39m_rasterizing:\n\u001b[1;32m     97\u001b[0m         renderer\u001b[38;5;241m.\u001b[39mstop_rasterizing()\n",
      "File \u001b[0;32m~/miniconda3/envs/olink/lib/python3.12/site-packages/matplotlib/artist.py:72\u001b[0m, in \u001b[0;36mallow_rasterization.<locals>.draw_wrapper\u001b[0;34m(artist, renderer)\u001b[0m\n\u001b[1;32m     69\u001b[0m     \u001b[38;5;28;01mif\u001b[39;00m artist\u001b[38;5;241m.\u001b[39mget_agg_filter() \u001b[38;5;129;01mis\u001b[39;00m \u001b[38;5;129;01mnot\u001b[39;00m \u001b[38;5;28;01mNone\u001b[39;00m:\n\u001b[1;32m     70\u001b[0m         renderer\u001b[38;5;241m.\u001b[39mstart_filter()\n\u001b[0;32m---> 72\u001b[0m     \u001b[38;5;28;01mreturn\u001b[39;00m \u001b[43mdraw\u001b[49m\u001b[43m(\u001b[49m\u001b[43martist\u001b[49m\u001b[43m,\u001b[49m\u001b[43m \u001b[49m\u001b[43mrenderer\u001b[49m\u001b[43m)\u001b[49m\n\u001b[1;32m     73\u001b[0m \u001b[38;5;28;01mfinally\u001b[39;00m:\n\u001b[1;32m     74\u001b[0m     \u001b[38;5;28;01mif\u001b[39;00m artist\u001b[38;5;241m.\u001b[39mget_agg_filter() \u001b[38;5;129;01mis\u001b[39;00m \u001b[38;5;129;01mnot\u001b[39;00m \u001b[38;5;28;01mNone\u001b[39;00m:\n",
      "File \u001b[0;32m~/miniconda3/envs/olink/lib/python3.12/site-packages/matplotlib/figure.py:3154\u001b[0m, in \u001b[0;36mFigure.draw\u001b[0;34m(self, renderer)\u001b[0m\n\u001b[1;32m   3151\u001b[0m         \u001b[38;5;66;03m# ValueError can occur when resizing a window.\u001b[39;00m\n\u001b[1;32m   3153\u001b[0m \u001b[38;5;28mself\u001b[39m\u001b[38;5;241m.\u001b[39mpatch\u001b[38;5;241m.\u001b[39mdraw(renderer)\n\u001b[0;32m-> 3154\u001b[0m \u001b[43mmimage\u001b[49m\u001b[38;5;241;43m.\u001b[39;49m\u001b[43m_draw_list_compositing_images\u001b[49m\u001b[43m(\u001b[49m\n\u001b[1;32m   3155\u001b[0m \u001b[43m    \u001b[49m\u001b[43mrenderer\u001b[49m\u001b[43m,\u001b[49m\u001b[43m \u001b[49m\u001b[38;5;28;43mself\u001b[39;49m\u001b[43m,\u001b[49m\u001b[43m \u001b[49m\u001b[43martists\u001b[49m\u001b[43m,\u001b[49m\u001b[43m \u001b[49m\u001b[38;5;28;43mself\u001b[39;49m\u001b[38;5;241;43m.\u001b[39;49m\u001b[43msuppressComposite\u001b[49m\u001b[43m)\u001b[49m\n\u001b[1;32m   3157\u001b[0m \u001b[38;5;28;01mfor\u001b[39;00m sfig \u001b[38;5;129;01min\u001b[39;00m \u001b[38;5;28mself\u001b[39m\u001b[38;5;241m.\u001b[39msubfigs:\n\u001b[1;32m   3158\u001b[0m     sfig\u001b[38;5;241m.\u001b[39mdraw(renderer)\n",
      "File \u001b[0;32m~/miniconda3/envs/olink/lib/python3.12/site-packages/matplotlib/image.py:132\u001b[0m, in \u001b[0;36m_draw_list_compositing_images\u001b[0;34m(renderer, parent, artists, suppress_composite)\u001b[0m\n\u001b[1;32m    130\u001b[0m \u001b[38;5;28;01mif\u001b[39;00m not_composite \u001b[38;5;129;01mor\u001b[39;00m \u001b[38;5;129;01mnot\u001b[39;00m has_images:\n\u001b[1;32m    131\u001b[0m     \u001b[38;5;28;01mfor\u001b[39;00m a \u001b[38;5;129;01min\u001b[39;00m artists:\n\u001b[0;32m--> 132\u001b[0m         \u001b[43ma\u001b[49m\u001b[38;5;241;43m.\u001b[39;49m\u001b[43mdraw\u001b[49m\u001b[43m(\u001b[49m\u001b[43mrenderer\u001b[49m\u001b[43m)\u001b[49m\n\u001b[1;32m    133\u001b[0m \u001b[38;5;28;01melse\u001b[39;00m:\n\u001b[1;32m    134\u001b[0m     \u001b[38;5;66;03m# Composite any adjacent images together\u001b[39;00m\n\u001b[1;32m    135\u001b[0m     image_group \u001b[38;5;241m=\u001b[39m []\n",
      "File \u001b[0;32m~/miniconda3/envs/olink/lib/python3.12/site-packages/matplotlib/artist.py:72\u001b[0m, in \u001b[0;36mallow_rasterization.<locals>.draw_wrapper\u001b[0;34m(artist, renderer)\u001b[0m\n\u001b[1;32m     69\u001b[0m     \u001b[38;5;28;01mif\u001b[39;00m artist\u001b[38;5;241m.\u001b[39mget_agg_filter() \u001b[38;5;129;01mis\u001b[39;00m \u001b[38;5;129;01mnot\u001b[39;00m \u001b[38;5;28;01mNone\u001b[39;00m:\n\u001b[1;32m     70\u001b[0m         renderer\u001b[38;5;241m.\u001b[39mstart_filter()\n\u001b[0;32m---> 72\u001b[0m     \u001b[38;5;28;01mreturn\u001b[39;00m \u001b[43mdraw\u001b[49m\u001b[43m(\u001b[49m\u001b[43martist\u001b[49m\u001b[43m,\u001b[49m\u001b[43m \u001b[49m\u001b[43mrenderer\u001b[49m\u001b[43m)\u001b[49m\n\u001b[1;32m     73\u001b[0m \u001b[38;5;28;01mfinally\u001b[39;00m:\n\u001b[1;32m     74\u001b[0m     \u001b[38;5;28;01mif\u001b[39;00m artist\u001b[38;5;241m.\u001b[39mget_agg_filter() \u001b[38;5;129;01mis\u001b[39;00m \u001b[38;5;129;01mnot\u001b[39;00m \u001b[38;5;28;01mNone\u001b[39;00m:\n",
      "File \u001b[0;32m~/miniconda3/envs/olink/lib/python3.12/site-packages/matplotlib/axes/_base.py:3070\u001b[0m, in \u001b[0;36m_AxesBase.draw\u001b[0;34m(self, renderer)\u001b[0m\n\u001b[1;32m   3067\u001b[0m \u001b[38;5;28;01mif\u001b[39;00m artists_rasterized:\n\u001b[1;32m   3068\u001b[0m     _draw_rasterized(\u001b[38;5;28mself\u001b[39m\u001b[38;5;241m.\u001b[39mfigure, artists_rasterized, renderer)\n\u001b[0;32m-> 3070\u001b[0m \u001b[43mmimage\u001b[49m\u001b[38;5;241;43m.\u001b[39;49m\u001b[43m_draw_list_compositing_images\u001b[49m\u001b[43m(\u001b[49m\n\u001b[1;32m   3071\u001b[0m \u001b[43m    \u001b[49m\u001b[43mrenderer\u001b[49m\u001b[43m,\u001b[49m\u001b[43m \u001b[49m\u001b[38;5;28;43mself\u001b[39;49m\u001b[43m,\u001b[49m\u001b[43m \u001b[49m\u001b[43martists\u001b[49m\u001b[43m,\u001b[49m\u001b[43m \u001b[49m\u001b[38;5;28;43mself\u001b[39;49m\u001b[38;5;241;43m.\u001b[39;49m\u001b[43mfigure\u001b[49m\u001b[38;5;241;43m.\u001b[39;49m\u001b[43msuppressComposite\u001b[49m\u001b[43m)\u001b[49m\n\u001b[1;32m   3073\u001b[0m renderer\u001b[38;5;241m.\u001b[39mclose_group(\u001b[38;5;124m'\u001b[39m\u001b[38;5;124maxes\u001b[39m\u001b[38;5;124m'\u001b[39m)\n\u001b[1;32m   3074\u001b[0m \u001b[38;5;28mself\u001b[39m\u001b[38;5;241m.\u001b[39mstale \u001b[38;5;241m=\u001b[39m \u001b[38;5;28;01mFalse\u001b[39;00m\n",
      "File \u001b[0;32m~/miniconda3/envs/olink/lib/python3.12/site-packages/matplotlib/image.py:132\u001b[0m, in \u001b[0;36m_draw_list_compositing_images\u001b[0;34m(renderer, parent, artists, suppress_composite)\u001b[0m\n\u001b[1;32m    130\u001b[0m \u001b[38;5;28;01mif\u001b[39;00m not_composite \u001b[38;5;129;01mor\u001b[39;00m \u001b[38;5;129;01mnot\u001b[39;00m has_images:\n\u001b[1;32m    131\u001b[0m     \u001b[38;5;28;01mfor\u001b[39;00m a \u001b[38;5;129;01min\u001b[39;00m artists:\n\u001b[0;32m--> 132\u001b[0m         \u001b[43ma\u001b[49m\u001b[38;5;241;43m.\u001b[39;49m\u001b[43mdraw\u001b[49m\u001b[43m(\u001b[49m\u001b[43mrenderer\u001b[49m\u001b[43m)\u001b[49m\n\u001b[1;32m    133\u001b[0m \u001b[38;5;28;01melse\u001b[39;00m:\n\u001b[1;32m    134\u001b[0m     \u001b[38;5;66;03m# Composite any adjacent images together\u001b[39;00m\n\u001b[1;32m    135\u001b[0m     image_group \u001b[38;5;241m=\u001b[39m []\n",
      "File \u001b[0;32m~/miniconda3/envs/olink/lib/python3.12/site-packages/matplotlib/artist.py:72\u001b[0m, in \u001b[0;36mallow_rasterization.<locals>.draw_wrapper\u001b[0;34m(artist, renderer)\u001b[0m\n\u001b[1;32m     69\u001b[0m     \u001b[38;5;28;01mif\u001b[39;00m artist\u001b[38;5;241m.\u001b[39mget_agg_filter() \u001b[38;5;129;01mis\u001b[39;00m \u001b[38;5;129;01mnot\u001b[39;00m \u001b[38;5;28;01mNone\u001b[39;00m:\n\u001b[1;32m     70\u001b[0m         renderer\u001b[38;5;241m.\u001b[39mstart_filter()\n\u001b[0;32m---> 72\u001b[0m     \u001b[38;5;28;01mreturn\u001b[39;00m \u001b[43mdraw\u001b[49m\u001b[43m(\u001b[49m\u001b[43martist\u001b[49m\u001b[43m,\u001b[49m\u001b[43m \u001b[49m\u001b[43mrenderer\u001b[49m\u001b[43m)\u001b[49m\n\u001b[1;32m     73\u001b[0m \u001b[38;5;28;01mfinally\u001b[39;00m:\n\u001b[1;32m     74\u001b[0m     \u001b[38;5;28;01mif\u001b[39;00m artist\u001b[38;5;241m.\u001b[39mget_agg_filter() \u001b[38;5;129;01mis\u001b[39;00m \u001b[38;5;129;01mnot\u001b[39;00m \u001b[38;5;28;01mNone\u001b[39;00m:\n",
      "File \u001b[0;32m~/miniconda3/envs/olink/lib/python3.12/site-packages/matplotlib/axis.py:1391\u001b[0m, in \u001b[0;36mAxis.draw\u001b[0;34m(self, renderer, *args, **kwargs)\u001b[0m\n\u001b[1;32m   1388\u001b[0m tlb1, tlb2 \u001b[38;5;241m=\u001b[39m \u001b[38;5;28mself\u001b[39m\u001b[38;5;241m.\u001b[39m_get_ticklabel_bboxes(ticks_to_draw, renderer)\n\u001b[1;32m   1390\u001b[0m \u001b[38;5;28;01mfor\u001b[39;00m tick \u001b[38;5;129;01min\u001b[39;00m ticks_to_draw:\n\u001b[0;32m-> 1391\u001b[0m     \u001b[43mtick\u001b[49m\u001b[38;5;241;43m.\u001b[39;49m\u001b[43mdraw\u001b[49m\u001b[43m(\u001b[49m\u001b[43mrenderer\u001b[49m\u001b[43m)\u001b[49m\n\u001b[1;32m   1393\u001b[0m \u001b[38;5;66;03m# Shift label away from axes to avoid overlapping ticklabels.\u001b[39;00m\n\u001b[1;32m   1394\u001b[0m \u001b[38;5;28mself\u001b[39m\u001b[38;5;241m.\u001b[39m_update_label_position(renderer)\n",
      "File \u001b[0;32m~/miniconda3/envs/olink/lib/python3.12/site-packages/matplotlib/artist.py:72\u001b[0m, in \u001b[0;36mallow_rasterization.<locals>.draw_wrapper\u001b[0;34m(artist, renderer)\u001b[0m\n\u001b[1;32m     69\u001b[0m     \u001b[38;5;28;01mif\u001b[39;00m artist\u001b[38;5;241m.\u001b[39mget_agg_filter() \u001b[38;5;129;01mis\u001b[39;00m \u001b[38;5;129;01mnot\u001b[39;00m \u001b[38;5;28;01mNone\u001b[39;00m:\n\u001b[1;32m     70\u001b[0m         renderer\u001b[38;5;241m.\u001b[39mstart_filter()\n\u001b[0;32m---> 72\u001b[0m     \u001b[38;5;28;01mreturn\u001b[39;00m \u001b[43mdraw\u001b[49m\u001b[43m(\u001b[49m\u001b[43martist\u001b[49m\u001b[43m,\u001b[49m\u001b[43m \u001b[49m\u001b[43mrenderer\u001b[49m\u001b[43m)\u001b[49m\n\u001b[1;32m     73\u001b[0m \u001b[38;5;28;01mfinally\u001b[39;00m:\n\u001b[1;32m     74\u001b[0m     \u001b[38;5;28;01mif\u001b[39;00m artist\u001b[38;5;241m.\u001b[39mget_agg_filter() \u001b[38;5;129;01mis\u001b[39;00m \u001b[38;5;129;01mnot\u001b[39;00m \u001b[38;5;28;01mNone\u001b[39;00m:\n",
      "File \u001b[0;32m~/miniconda3/envs/olink/lib/python3.12/site-packages/matplotlib/axis.py:295\u001b[0m, in \u001b[0;36mTick.draw\u001b[0;34m(self, renderer)\u001b[0m\n\u001b[1;32m    292\u001b[0m renderer\u001b[38;5;241m.\u001b[39mopen_group(\u001b[38;5;28mself\u001b[39m\u001b[38;5;241m.\u001b[39m\u001b[38;5;18m__name__\u001b[39m, gid\u001b[38;5;241m=\u001b[39m\u001b[38;5;28mself\u001b[39m\u001b[38;5;241m.\u001b[39mget_gid())\n\u001b[1;32m    293\u001b[0m \u001b[38;5;28;01mfor\u001b[39;00m artist \u001b[38;5;129;01min\u001b[39;00m [\u001b[38;5;28mself\u001b[39m\u001b[38;5;241m.\u001b[39mgridline, \u001b[38;5;28mself\u001b[39m\u001b[38;5;241m.\u001b[39mtick1line, \u001b[38;5;28mself\u001b[39m\u001b[38;5;241m.\u001b[39mtick2line,\n\u001b[1;32m    294\u001b[0m                \u001b[38;5;28mself\u001b[39m\u001b[38;5;241m.\u001b[39mlabel1, \u001b[38;5;28mself\u001b[39m\u001b[38;5;241m.\u001b[39mlabel2]:\n\u001b[0;32m--> 295\u001b[0m     \u001b[43martist\u001b[49m\u001b[38;5;241;43m.\u001b[39;49m\u001b[43mdraw\u001b[49m\u001b[43m(\u001b[49m\u001b[43mrenderer\u001b[49m\u001b[43m)\u001b[49m\n\u001b[1;32m    296\u001b[0m renderer\u001b[38;5;241m.\u001b[39mclose_group(\u001b[38;5;28mself\u001b[39m\u001b[38;5;241m.\u001b[39m\u001b[38;5;18m__name__\u001b[39m)\n\u001b[1;32m    297\u001b[0m \u001b[38;5;28mself\u001b[39m\u001b[38;5;241m.\u001b[39mstale \u001b[38;5;241m=\u001b[39m \u001b[38;5;28;01mFalse\u001b[39;00m\n",
      "File \u001b[0;32m~/miniconda3/envs/olink/lib/python3.12/site-packages/matplotlib/artist.py:72\u001b[0m, in \u001b[0;36mallow_rasterization.<locals>.draw_wrapper\u001b[0;34m(artist, renderer)\u001b[0m\n\u001b[1;32m     69\u001b[0m     \u001b[38;5;28;01mif\u001b[39;00m artist\u001b[38;5;241m.\u001b[39mget_agg_filter() \u001b[38;5;129;01mis\u001b[39;00m \u001b[38;5;129;01mnot\u001b[39;00m \u001b[38;5;28;01mNone\u001b[39;00m:\n\u001b[1;32m     70\u001b[0m         renderer\u001b[38;5;241m.\u001b[39mstart_filter()\n\u001b[0;32m---> 72\u001b[0m     \u001b[38;5;28;01mreturn\u001b[39;00m \u001b[43mdraw\u001b[49m\u001b[43m(\u001b[49m\u001b[43martist\u001b[49m\u001b[43m,\u001b[49m\u001b[43m \u001b[49m\u001b[43mrenderer\u001b[49m\u001b[43m)\u001b[49m\n\u001b[1;32m     73\u001b[0m \u001b[38;5;28;01mfinally\u001b[39;00m:\n\u001b[1;32m     74\u001b[0m     \u001b[38;5;28;01mif\u001b[39;00m artist\u001b[38;5;241m.\u001b[39mget_agg_filter() \u001b[38;5;129;01mis\u001b[39;00m \u001b[38;5;129;01mnot\u001b[39;00m \u001b[38;5;28;01mNone\u001b[39;00m:\n",
      "File \u001b[0;32m~/miniconda3/envs/olink/lib/python3.12/site-packages/matplotlib/text.py:748\u001b[0m, in \u001b[0;36mText.draw\u001b[0;34m(self, renderer)\u001b[0m\n\u001b[1;32m    745\u001b[0m renderer\u001b[38;5;241m.\u001b[39mopen_group(\u001b[38;5;124m'\u001b[39m\u001b[38;5;124mtext\u001b[39m\u001b[38;5;124m'\u001b[39m, \u001b[38;5;28mself\u001b[39m\u001b[38;5;241m.\u001b[39mget_gid())\n\u001b[1;32m    747\u001b[0m \u001b[38;5;28;01mwith\u001b[39;00m \u001b[38;5;28mself\u001b[39m\u001b[38;5;241m.\u001b[39m_cm_set(text\u001b[38;5;241m=\u001b[39m\u001b[38;5;28mself\u001b[39m\u001b[38;5;241m.\u001b[39m_get_wrapped_text()):\n\u001b[0;32m--> 748\u001b[0m     bbox, info, descent \u001b[38;5;241m=\u001b[39m \u001b[38;5;28;43mself\u001b[39;49m\u001b[38;5;241;43m.\u001b[39;49m\u001b[43m_get_layout\u001b[49m\u001b[43m(\u001b[49m\u001b[43mrenderer\u001b[49m\u001b[43m)\u001b[49m\n\u001b[1;32m    749\u001b[0m     trans \u001b[38;5;241m=\u001b[39m \u001b[38;5;28mself\u001b[39m\u001b[38;5;241m.\u001b[39mget_transform()\n\u001b[1;32m    751\u001b[0m     \u001b[38;5;66;03m# don't use self.get_position here, which refers to text\u001b[39;00m\n\u001b[1;32m    752\u001b[0m     \u001b[38;5;66;03m# position in Text:\u001b[39;00m\n",
      "File \u001b[0;32m~/miniconda3/envs/olink/lib/python3.12/site-packages/matplotlib/text.py:381\u001b[0m, in \u001b[0;36mText._get_layout\u001b[0;34m(self, renderer)\u001b[0m\n\u001b[1;32m    379\u001b[0m clean_line, ismath \u001b[38;5;241m=\u001b[39m \u001b[38;5;28mself\u001b[39m\u001b[38;5;241m.\u001b[39m_preprocess_math(line)\n\u001b[1;32m    380\u001b[0m \u001b[38;5;28;01mif\u001b[39;00m clean_line:\n\u001b[0;32m--> 381\u001b[0m     w, h, d \u001b[38;5;241m=\u001b[39m \u001b[43m_get_text_metrics_with_cache\u001b[49m\u001b[43m(\u001b[49m\n\u001b[1;32m    382\u001b[0m \u001b[43m        \u001b[49m\u001b[43mrenderer\u001b[49m\u001b[43m,\u001b[49m\u001b[43m \u001b[49m\u001b[43mclean_line\u001b[49m\u001b[43m,\u001b[49m\u001b[43m \u001b[49m\u001b[38;5;28;43mself\u001b[39;49m\u001b[38;5;241;43m.\u001b[39;49m\u001b[43m_fontproperties\u001b[49m\u001b[43m,\u001b[49m\n\u001b[1;32m    383\u001b[0m \u001b[43m        \u001b[49m\u001b[43mismath\u001b[49m\u001b[38;5;241;43m=\u001b[39;49m\u001b[43mismath\u001b[49m\u001b[43m,\u001b[49m\u001b[43m \u001b[49m\u001b[43mdpi\u001b[49m\u001b[38;5;241;43m=\u001b[39;49m\u001b[38;5;28;43mself\u001b[39;49m\u001b[38;5;241;43m.\u001b[39;49m\u001b[43mfigure\u001b[49m\u001b[38;5;241;43m.\u001b[39;49m\u001b[43mdpi\u001b[49m\u001b[43m)\u001b[49m\n\u001b[1;32m    384\u001b[0m \u001b[38;5;28;01melse\u001b[39;00m:\n\u001b[1;32m    385\u001b[0m     w \u001b[38;5;241m=\u001b[39m h \u001b[38;5;241m=\u001b[39m d \u001b[38;5;241m=\u001b[39m \u001b[38;5;241m0\u001b[39m\n",
      "File \u001b[0;32m~/miniconda3/envs/olink/lib/python3.12/site-packages/matplotlib/text.py:69\u001b[0m, in \u001b[0;36m_get_text_metrics_with_cache\u001b[0;34m(renderer, text, fontprop, ismath, dpi)\u001b[0m\n\u001b[1;32m     66\u001b[0m \u001b[38;5;250m\u001b[39m\u001b[38;5;124;03m\"\"\"Call ``renderer.get_text_width_height_descent``, caching the results.\"\"\"\u001b[39;00m\n\u001b[1;32m     67\u001b[0m \u001b[38;5;66;03m# Cached based on a copy of fontprop so that later in-place mutations of\u001b[39;00m\n\u001b[1;32m     68\u001b[0m \u001b[38;5;66;03m# the passed-in argument do not mess up the cache.\u001b[39;00m\n\u001b[0;32m---> 69\u001b[0m \u001b[38;5;28;01mreturn\u001b[39;00m \u001b[43m_get_text_metrics_with_cache_impl\u001b[49m\u001b[43m(\u001b[49m\n\u001b[1;32m     70\u001b[0m \u001b[43m    \u001b[49m\u001b[43mweakref\u001b[49m\u001b[38;5;241;43m.\u001b[39;49m\u001b[43mref\u001b[49m\u001b[43m(\u001b[49m\u001b[43mrenderer\u001b[49m\u001b[43m)\u001b[49m\u001b[43m,\u001b[49m\u001b[43m \u001b[49m\u001b[43mtext\u001b[49m\u001b[43m,\u001b[49m\u001b[43m \u001b[49m\u001b[43mfontprop\u001b[49m\u001b[38;5;241;43m.\u001b[39;49m\u001b[43mcopy\u001b[49m\u001b[43m(\u001b[49m\u001b[43m)\u001b[49m\u001b[43m,\u001b[49m\u001b[43m \u001b[49m\u001b[43mismath\u001b[49m\u001b[43m,\u001b[49m\u001b[43m \u001b[49m\u001b[43mdpi\u001b[49m\u001b[43m)\u001b[49m\n",
      "File \u001b[0;32m~/miniconda3/envs/olink/lib/python3.12/site-packages/matplotlib/text.py:77\u001b[0m, in \u001b[0;36m_get_text_metrics_with_cache_impl\u001b[0;34m(renderer_ref, text, fontprop, ismath, dpi)\u001b[0m\n\u001b[1;32m     73\u001b[0m \u001b[38;5;129m@functools\u001b[39m\u001b[38;5;241m.\u001b[39mlru_cache(\u001b[38;5;241m4096\u001b[39m)\n\u001b[1;32m     74\u001b[0m \u001b[38;5;28;01mdef\u001b[39;00m \u001b[38;5;21m_get_text_metrics_with_cache_impl\u001b[39m(\n\u001b[1;32m     75\u001b[0m         renderer_ref, text, fontprop, ismath, dpi):\n\u001b[1;32m     76\u001b[0m     \u001b[38;5;66;03m# dpi is unused, but participates in cache invalidation (via the renderer).\u001b[39;00m\n\u001b[0;32m---> 77\u001b[0m     \u001b[38;5;28;01mreturn\u001b[39;00m \u001b[43mrenderer_ref\u001b[49m\u001b[43m(\u001b[49m\u001b[43m)\u001b[49m\u001b[38;5;241;43m.\u001b[39;49m\u001b[43mget_text_width_height_descent\u001b[49m\u001b[43m(\u001b[49m\u001b[43mtext\u001b[49m\u001b[43m,\u001b[49m\u001b[43m \u001b[49m\u001b[43mfontprop\u001b[49m\u001b[43m,\u001b[49m\u001b[43m \u001b[49m\u001b[43mismath\u001b[49m\u001b[43m)\u001b[49m\n",
      "File \u001b[0;32m~/miniconda3/envs/olink/lib/python3.12/site-packages/matplotlib/backends/backend_agg.py:221\u001b[0m, in \u001b[0;36mRendererAgg.get_text_width_height_descent\u001b[0;34m(self, s, prop, ismath)\u001b[0m\n\u001b[1;32m    218\u001b[0m     \u001b[38;5;28;01mreturn\u001b[39;00m width, height, descent\n\u001b[1;32m    220\u001b[0m font \u001b[38;5;241m=\u001b[39m \u001b[38;5;28mself\u001b[39m\u001b[38;5;241m.\u001b[39m_prepare_font(prop)\n\u001b[0;32m--> 221\u001b[0m \u001b[43mfont\u001b[49m\u001b[38;5;241;43m.\u001b[39;49m\u001b[43mset_text\u001b[49m\u001b[43m(\u001b[49m\u001b[43ms\u001b[49m\u001b[43m,\u001b[49m\u001b[43m \u001b[49m\u001b[38;5;241;43m0.0\u001b[39;49m\u001b[43m,\u001b[49m\u001b[43m \u001b[49m\u001b[43mflags\u001b[49m\u001b[38;5;241;43m=\u001b[39;49m\u001b[43mget_hinting_flag\u001b[49m\u001b[43m(\u001b[49m\u001b[43m)\u001b[49m\u001b[43m)\u001b[49m\n\u001b[1;32m    222\u001b[0m w, h \u001b[38;5;241m=\u001b[39m font\u001b[38;5;241m.\u001b[39mget_width_height()  \u001b[38;5;66;03m# width and height of unrotated string\u001b[39;00m\n\u001b[1;32m    223\u001b[0m d \u001b[38;5;241m=\u001b[39m font\u001b[38;5;241m.\u001b[39mget_descent()\n",
      "\u001b[0;31mKeyboardInterrupt\u001b[0m: "
     ]
    },
    {
     "name": "stdout",
     "output_type": "stream",
     "text": [
      "Error in callback <function flush_figures at 0x7f78ba248ae0> (for post_execute), with arguments args (),kwargs {}:\n"
     ]
    },
    {
     "ename": "KeyboardInterrupt",
     "evalue": "",
     "output_type": "error",
     "traceback": [
      "\u001b[0;31m---------------------------------------------------------------------------\u001b[0m",
      "\u001b[0;31mKeyboardInterrupt\u001b[0m                         Traceback (most recent call last)",
      "File \u001b[0;32m~/miniconda3/envs/olink/lib/python3.12/site-packages/matplotlib_inline/backend_inline.py:126\u001b[0m, in \u001b[0;36mflush_figures\u001b[0;34m()\u001b[0m\n\u001b[1;32m    123\u001b[0m \u001b[38;5;28;01mif\u001b[39;00m InlineBackend\u001b[38;5;241m.\u001b[39minstance()\u001b[38;5;241m.\u001b[39mclose_figures:\n\u001b[1;32m    124\u001b[0m     \u001b[38;5;66;03m# ignore the tracking, just draw and close all figures\u001b[39;00m\n\u001b[1;32m    125\u001b[0m     \u001b[38;5;28;01mtry\u001b[39;00m:\n\u001b[0;32m--> 126\u001b[0m         \u001b[38;5;28;01mreturn\u001b[39;00m \u001b[43mshow\u001b[49m\u001b[43m(\u001b[49m\u001b[38;5;28;43;01mTrue\u001b[39;49;00m\u001b[43m)\u001b[49m\n\u001b[1;32m    127\u001b[0m     \u001b[38;5;28;01mexcept\u001b[39;00m \u001b[38;5;167;01mException\u001b[39;00m \u001b[38;5;28;01mas\u001b[39;00m e:\n\u001b[1;32m    128\u001b[0m         \u001b[38;5;66;03m# safely show traceback if in IPython, else raise\u001b[39;00m\n\u001b[1;32m    129\u001b[0m         ip \u001b[38;5;241m=\u001b[39m get_ipython()\n",
      "File \u001b[0;32m~/miniconda3/envs/olink/lib/python3.12/site-packages/matplotlib_inline/backend_inline.py:90\u001b[0m, in \u001b[0;36mshow\u001b[0;34m(close, block)\u001b[0m\n\u001b[1;32m     88\u001b[0m \u001b[38;5;28;01mtry\u001b[39;00m:\n\u001b[1;32m     89\u001b[0m     \u001b[38;5;28;01mfor\u001b[39;00m figure_manager \u001b[38;5;129;01min\u001b[39;00m Gcf\u001b[38;5;241m.\u001b[39mget_all_fig_managers():\n\u001b[0;32m---> 90\u001b[0m         \u001b[43mdisplay\u001b[49m\u001b[43m(\u001b[49m\n\u001b[1;32m     91\u001b[0m \u001b[43m            \u001b[49m\u001b[43mfigure_manager\u001b[49m\u001b[38;5;241;43m.\u001b[39;49m\u001b[43mcanvas\u001b[49m\u001b[38;5;241;43m.\u001b[39;49m\u001b[43mfigure\u001b[49m\u001b[43m,\u001b[49m\n\u001b[1;32m     92\u001b[0m \u001b[43m            \u001b[49m\u001b[43mmetadata\u001b[49m\u001b[38;5;241;43m=\u001b[39;49m\u001b[43m_fetch_figure_metadata\u001b[49m\u001b[43m(\u001b[49m\u001b[43mfigure_manager\u001b[49m\u001b[38;5;241;43m.\u001b[39;49m\u001b[43mcanvas\u001b[49m\u001b[38;5;241;43m.\u001b[39;49m\u001b[43mfigure\u001b[49m\u001b[43m)\u001b[49m\n\u001b[1;32m     93\u001b[0m \u001b[43m        \u001b[49m\u001b[43m)\u001b[49m\n\u001b[1;32m     94\u001b[0m \u001b[38;5;28;01mfinally\u001b[39;00m:\n\u001b[1;32m     95\u001b[0m     show\u001b[38;5;241m.\u001b[39m_to_draw \u001b[38;5;241m=\u001b[39m []\n",
      "File \u001b[0;32m~/miniconda3/envs/olink/lib/python3.12/site-packages/IPython/core/display_functions.py:298\u001b[0m, in \u001b[0;36mdisplay\u001b[0;34m(include, exclude, metadata, transient, display_id, raw, clear, *objs, **kwargs)\u001b[0m\n\u001b[1;32m    296\u001b[0m     publish_display_data(data\u001b[38;5;241m=\u001b[39mobj, metadata\u001b[38;5;241m=\u001b[39mmetadata, \u001b[38;5;241m*\u001b[39m\u001b[38;5;241m*\u001b[39mkwargs)\n\u001b[1;32m    297\u001b[0m \u001b[38;5;28;01melse\u001b[39;00m:\n\u001b[0;32m--> 298\u001b[0m     format_dict, md_dict \u001b[38;5;241m=\u001b[39m \u001b[38;5;28;43mformat\u001b[39;49m\u001b[43m(\u001b[49m\u001b[43mobj\u001b[49m\u001b[43m,\u001b[49m\u001b[43m \u001b[49m\u001b[43minclude\u001b[49m\u001b[38;5;241;43m=\u001b[39;49m\u001b[43minclude\u001b[49m\u001b[43m,\u001b[49m\u001b[43m \u001b[49m\u001b[43mexclude\u001b[49m\u001b[38;5;241;43m=\u001b[39;49m\u001b[43mexclude\u001b[49m\u001b[43m)\u001b[49m\n\u001b[1;32m    299\u001b[0m     \u001b[38;5;28;01mif\u001b[39;00m \u001b[38;5;129;01mnot\u001b[39;00m format_dict:\n\u001b[1;32m    300\u001b[0m         \u001b[38;5;66;03m# nothing to display (e.g. _ipython_display_ took over)\u001b[39;00m\n\u001b[1;32m    301\u001b[0m         \u001b[38;5;28;01mcontinue\u001b[39;00m\n",
      "File \u001b[0;32m~/miniconda3/envs/olink/lib/python3.12/site-packages/IPython/core/formatters.py:179\u001b[0m, in \u001b[0;36mDisplayFormatter.format\u001b[0;34m(self, obj, include, exclude)\u001b[0m\n\u001b[1;32m    177\u001b[0m md \u001b[38;5;241m=\u001b[39m \u001b[38;5;28;01mNone\u001b[39;00m\n\u001b[1;32m    178\u001b[0m \u001b[38;5;28;01mtry\u001b[39;00m:\n\u001b[0;32m--> 179\u001b[0m     data \u001b[38;5;241m=\u001b[39m \u001b[43mformatter\u001b[49m\u001b[43m(\u001b[49m\u001b[43mobj\u001b[49m\u001b[43m)\u001b[49m\n\u001b[1;32m    180\u001b[0m \u001b[38;5;28;01mexcept\u001b[39;00m:\n\u001b[1;32m    181\u001b[0m     \u001b[38;5;66;03m# FIXME: log the exception\u001b[39;00m\n\u001b[1;32m    182\u001b[0m     \u001b[38;5;28;01mraise\u001b[39;00m\n",
      "File \u001b[0;32m~/miniconda3/envs/olink/lib/python3.12/site-packages/decorator.py:232\u001b[0m, in \u001b[0;36mdecorate.<locals>.fun\u001b[0;34m(*args, **kw)\u001b[0m\n\u001b[1;32m    230\u001b[0m \u001b[38;5;28;01mif\u001b[39;00m \u001b[38;5;129;01mnot\u001b[39;00m kwsyntax:\n\u001b[1;32m    231\u001b[0m     args, kw \u001b[38;5;241m=\u001b[39m fix(args, kw, sig)\n\u001b[0;32m--> 232\u001b[0m \u001b[38;5;28;01mreturn\u001b[39;00m \u001b[43mcaller\u001b[49m\u001b[43m(\u001b[49m\u001b[43mfunc\u001b[49m\u001b[43m,\u001b[49m\u001b[43m \u001b[49m\u001b[38;5;241;43m*\u001b[39;49m\u001b[43m(\u001b[49m\u001b[43mextras\u001b[49m\u001b[43m \u001b[49m\u001b[38;5;241;43m+\u001b[39;49m\u001b[43m \u001b[49m\u001b[43margs\u001b[49m\u001b[43m)\u001b[49m\u001b[43m,\u001b[49m\u001b[43m \u001b[49m\u001b[38;5;241;43m*\u001b[39;49m\u001b[38;5;241;43m*\u001b[39;49m\u001b[43mkw\u001b[49m\u001b[43m)\u001b[49m\n",
      "File \u001b[0;32m~/miniconda3/envs/olink/lib/python3.12/site-packages/IPython/core/formatters.py:223\u001b[0m, in \u001b[0;36mcatch_format_error\u001b[0;34m(method, self, *args, **kwargs)\u001b[0m\n\u001b[1;32m    221\u001b[0m \u001b[38;5;250m\u001b[39m\u001b[38;5;124;03m\"\"\"show traceback on failed format call\"\"\"\u001b[39;00m\n\u001b[1;32m    222\u001b[0m \u001b[38;5;28;01mtry\u001b[39;00m:\n\u001b[0;32m--> 223\u001b[0m     r \u001b[38;5;241m=\u001b[39m \u001b[43mmethod\u001b[49m\u001b[43m(\u001b[49m\u001b[38;5;28;43mself\u001b[39;49m\u001b[43m,\u001b[49m\u001b[43m \u001b[49m\u001b[38;5;241;43m*\u001b[39;49m\u001b[43margs\u001b[49m\u001b[43m,\u001b[49m\u001b[43m \u001b[49m\u001b[38;5;241;43m*\u001b[39;49m\u001b[38;5;241;43m*\u001b[39;49m\u001b[43mkwargs\u001b[49m\u001b[43m)\u001b[49m\n\u001b[1;32m    224\u001b[0m \u001b[38;5;28;01mexcept\u001b[39;00m \u001b[38;5;167;01mNotImplementedError\u001b[39;00m:\n\u001b[1;32m    225\u001b[0m     \u001b[38;5;66;03m# don't warn on NotImplementedErrors\u001b[39;00m\n\u001b[1;32m    226\u001b[0m     \u001b[38;5;28;01mreturn\u001b[39;00m \u001b[38;5;28mself\u001b[39m\u001b[38;5;241m.\u001b[39m_check_return(\u001b[38;5;28;01mNone\u001b[39;00m, args[\u001b[38;5;241m0\u001b[39m])\n",
      "File \u001b[0;32m~/miniconda3/envs/olink/lib/python3.12/site-packages/IPython/core/formatters.py:340\u001b[0m, in \u001b[0;36mBaseFormatter.__call__\u001b[0;34m(self, obj)\u001b[0m\n\u001b[1;32m    338\u001b[0m     \u001b[38;5;28;01mpass\u001b[39;00m\n\u001b[1;32m    339\u001b[0m \u001b[38;5;28;01melse\u001b[39;00m:\n\u001b[0;32m--> 340\u001b[0m     \u001b[38;5;28;01mreturn\u001b[39;00m \u001b[43mprinter\u001b[49m\u001b[43m(\u001b[49m\u001b[43mobj\u001b[49m\u001b[43m)\u001b[49m\n\u001b[1;32m    341\u001b[0m \u001b[38;5;66;03m# Finally look for special method names\u001b[39;00m\n\u001b[1;32m    342\u001b[0m method \u001b[38;5;241m=\u001b[39m get_real_method(obj, \u001b[38;5;28mself\u001b[39m\u001b[38;5;241m.\u001b[39mprint_method)\n",
      "File \u001b[0;32m~/miniconda3/envs/olink/lib/python3.12/site-packages/IPython/core/pylabtools.py:152\u001b[0m, in \u001b[0;36mprint_figure\u001b[0;34m(fig, fmt, bbox_inches, base64, **kwargs)\u001b[0m\n\u001b[1;32m    149\u001b[0m     \u001b[38;5;28;01mfrom\u001b[39;00m \u001b[38;5;21;01mmatplotlib\u001b[39;00m\u001b[38;5;21;01m.\u001b[39;00m\u001b[38;5;21;01mbackend_bases\u001b[39;00m \u001b[38;5;28;01mimport\u001b[39;00m FigureCanvasBase\n\u001b[1;32m    150\u001b[0m     FigureCanvasBase(fig)\n\u001b[0;32m--> 152\u001b[0m \u001b[43mfig\u001b[49m\u001b[38;5;241;43m.\u001b[39;49m\u001b[43mcanvas\u001b[49m\u001b[38;5;241;43m.\u001b[39;49m\u001b[43mprint_figure\u001b[49m\u001b[43m(\u001b[49m\u001b[43mbytes_io\u001b[49m\u001b[43m,\u001b[49m\u001b[43m \u001b[49m\u001b[38;5;241;43m*\u001b[39;49m\u001b[38;5;241;43m*\u001b[39;49m\u001b[43mkw\u001b[49m\u001b[43m)\u001b[49m\n\u001b[1;32m    153\u001b[0m data \u001b[38;5;241m=\u001b[39m bytes_io\u001b[38;5;241m.\u001b[39mgetvalue()\n\u001b[1;32m    154\u001b[0m \u001b[38;5;28;01mif\u001b[39;00m fmt \u001b[38;5;241m==\u001b[39m \u001b[38;5;124m'\u001b[39m\u001b[38;5;124msvg\u001b[39m\u001b[38;5;124m'\u001b[39m:\n",
      "File \u001b[0;32m~/miniconda3/envs/olink/lib/python3.12/site-packages/matplotlib/backend_bases.py:2167\u001b[0m, in \u001b[0;36mFigureCanvasBase.print_figure\u001b[0;34m(self, filename, dpi, facecolor, edgecolor, orientation, format, bbox_inches, pad_inches, bbox_extra_artists, backend, **kwargs)\u001b[0m\n\u001b[1;32m   2165\u001b[0m \u001b[38;5;28;01mif\u001b[39;00m bbox_inches:\n\u001b[1;32m   2166\u001b[0m     \u001b[38;5;28;01mif\u001b[39;00m bbox_inches \u001b[38;5;241m==\u001b[39m \u001b[38;5;124m\"\u001b[39m\u001b[38;5;124mtight\u001b[39m\u001b[38;5;124m\"\u001b[39m:\n\u001b[0;32m-> 2167\u001b[0m         bbox_inches \u001b[38;5;241m=\u001b[39m \u001b[38;5;28;43mself\u001b[39;49m\u001b[38;5;241;43m.\u001b[39;49m\u001b[43mfigure\u001b[49m\u001b[38;5;241;43m.\u001b[39;49m\u001b[43mget_tightbbox\u001b[49m\u001b[43m(\u001b[49m\n\u001b[1;32m   2168\u001b[0m \u001b[43m            \u001b[49m\u001b[43mrenderer\u001b[49m\u001b[43m,\u001b[49m\u001b[43m \u001b[49m\u001b[43mbbox_extra_artists\u001b[49m\u001b[38;5;241;43m=\u001b[39;49m\u001b[43mbbox_extra_artists\u001b[49m\u001b[43m)\u001b[49m\n\u001b[1;32m   2169\u001b[0m         \u001b[38;5;28;01mif\u001b[39;00m (\u001b[38;5;28misinstance\u001b[39m(layout_engine, ConstrainedLayoutEngine) \u001b[38;5;129;01mand\u001b[39;00m\n\u001b[1;32m   2170\u001b[0m                 pad_inches \u001b[38;5;241m==\u001b[39m \u001b[38;5;124m\"\u001b[39m\u001b[38;5;124mlayout\u001b[39m\u001b[38;5;124m\"\u001b[39m):\n\u001b[1;32m   2171\u001b[0m             h_pad \u001b[38;5;241m=\u001b[39m layout_engine\u001b[38;5;241m.\u001b[39mget()[\u001b[38;5;124m\"\u001b[39m\u001b[38;5;124mh_pad\u001b[39m\u001b[38;5;124m\"\u001b[39m]\n",
      "File \u001b[0;32m~/miniconda3/envs/olink/lib/python3.12/site-packages/matplotlib/_api/deprecation.py:454\u001b[0m, in \u001b[0;36mmake_keyword_only.<locals>.wrapper\u001b[0;34m(*args, **kwargs)\u001b[0m\n\u001b[1;32m    448\u001b[0m \u001b[38;5;28;01mif\u001b[39;00m \u001b[38;5;28mlen\u001b[39m(args) \u001b[38;5;241m>\u001b[39m name_idx:\n\u001b[1;32m    449\u001b[0m     warn_deprecated(\n\u001b[1;32m    450\u001b[0m         since, message\u001b[38;5;241m=\u001b[39m\u001b[38;5;124m\"\u001b[39m\u001b[38;5;124mPassing the \u001b[39m\u001b[38;5;132;01m%(name)s\u001b[39;00m\u001b[38;5;124m \u001b[39m\u001b[38;5;132;01m%(obj_type)s\u001b[39;00m\u001b[38;5;124m \u001b[39m\u001b[38;5;124m\"\u001b[39m\n\u001b[1;32m    451\u001b[0m         \u001b[38;5;124m\"\u001b[39m\u001b[38;5;124mpositionally is deprecated since Matplotlib \u001b[39m\u001b[38;5;132;01m%(since)s\u001b[39;00m\u001b[38;5;124m; the \u001b[39m\u001b[38;5;124m\"\u001b[39m\n\u001b[1;32m    452\u001b[0m         \u001b[38;5;124m\"\u001b[39m\u001b[38;5;124mparameter will become keyword-only \u001b[39m\u001b[38;5;132;01m%(removal)s\u001b[39;00m\u001b[38;5;124m.\u001b[39m\u001b[38;5;124m\"\u001b[39m,\n\u001b[1;32m    453\u001b[0m         name\u001b[38;5;241m=\u001b[39mname, obj_type\u001b[38;5;241m=\u001b[39m\u001b[38;5;124mf\u001b[39m\u001b[38;5;124m\"\u001b[39m\u001b[38;5;124mparameter of \u001b[39m\u001b[38;5;132;01m{\u001b[39;00mfunc\u001b[38;5;241m.\u001b[39m\u001b[38;5;18m__name__\u001b[39m\u001b[38;5;132;01m}\u001b[39;00m\u001b[38;5;124m()\u001b[39m\u001b[38;5;124m\"\u001b[39m)\n\u001b[0;32m--> 454\u001b[0m \u001b[38;5;28;01mreturn\u001b[39;00m \u001b[43mfunc\u001b[49m\u001b[43m(\u001b[49m\u001b[38;5;241;43m*\u001b[39;49m\u001b[43margs\u001b[49m\u001b[43m,\u001b[49m\u001b[43m \u001b[49m\u001b[38;5;241;43m*\u001b[39;49m\u001b[38;5;241;43m*\u001b[39;49m\u001b[43mkwargs\u001b[49m\u001b[43m)\u001b[49m\n",
      "File \u001b[0;32m~/miniconda3/envs/olink/lib/python3.12/site-packages/matplotlib/figure.py:1774\u001b[0m, in \u001b[0;36mFigureBase.get_tightbbox\u001b[0;34m(self, renderer, bbox_extra_artists)\u001b[0m\n\u001b[1;32m   1771\u001b[0m     artists \u001b[38;5;241m=\u001b[39m bbox_extra_artists\n\u001b[1;32m   1773\u001b[0m \u001b[38;5;28;01mfor\u001b[39;00m a \u001b[38;5;129;01min\u001b[39;00m artists:\n\u001b[0;32m-> 1774\u001b[0m     bbox \u001b[38;5;241m=\u001b[39m \u001b[43ma\u001b[49m\u001b[38;5;241;43m.\u001b[39;49m\u001b[43mget_tightbbox\u001b[49m\u001b[43m(\u001b[49m\u001b[43mrenderer\u001b[49m\u001b[43m)\u001b[49m\n\u001b[1;32m   1775\u001b[0m     \u001b[38;5;28;01mif\u001b[39;00m bbox \u001b[38;5;129;01mis\u001b[39;00m \u001b[38;5;129;01mnot\u001b[39;00m \u001b[38;5;28;01mNone\u001b[39;00m:\n\u001b[1;32m   1776\u001b[0m         bb\u001b[38;5;241m.\u001b[39mappend(bbox)\n",
      "File \u001b[0;32m~/miniconda3/envs/olink/lib/python3.12/site-packages/matplotlib/_api/deprecation.py:454\u001b[0m, in \u001b[0;36mmake_keyword_only.<locals>.wrapper\u001b[0;34m(*args, **kwargs)\u001b[0m\n\u001b[1;32m    448\u001b[0m \u001b[38;5;28;01mif\u001b[39;00m \u001b[38;5;28mlen\u001b[39m(args) \u001b[38;5;241m>\u001b[39m name_idx:\n\u001b[1;32m    449\u001b[0m     warn_deprecated(\n\u001b[1;32m    450\u001b[0m         since, message\u001b[38;5;241m=\u001b[39m\u001b[38;5;124m\"\u001b[39m\u001b[38;5;124mPassing the \u001b[39m\u001b[38;5;132;01m%(name)s\u001b[39;00m\u001b[38;5;124m \u001b[39m\u001b[38;5;132;01m%(obj_type)s\u001b[39;00m\u001b[38;5;124m \u001b[39m\u001b[38;5;124m\"\u001b[39m\n\u001b[1;32m    451\u001b[0m         \u001b[38;5;124m\"\u001b[39m\u001b[38;5;124mpositionally is deprecated since Matplotlib \u001b[39m\u001b[38;5;132;01m%(since)s\u001b[39;00m\u001b[38;5;124m; the \u001b[39m\u001b[38;5;124m\"\u001b[39m\n\u001b[1;32m    452\u001b[0m         \u001b[38;5;124m\"\u001b[39m\u001b[38;5;124mparameter will become keyword-only \u001b[39m\u001b[38;5;132;01m%(removal)s\u001b[39;00m\u001b[38;5;124m.\u001b[39m\u001b[38;5;124m\"\u001b[39m,\n\u001b[1;32m    453\u001b[0m         name\u001b[38;5;241m=\u001b[39mname, obj_type\u001b[38;5;241m=\u001b[39m\u001b[38;5;124mf\u001b[39m\u001b[38;5;124m\"\u001b[39m\u001b[38;5;124mparameter of \u001b[39m\u001b[38;5;132;01m{\u001b[39;00mfunc\u001b[38;5;241m.\u001b[39m\u001b[38;5;18m__name__\u001b[39m\u001b[38;5;132;01m}\u001b[39;00m\u001b[38;5;124m()\u001b[39m\u001b[38;5;124m\"\u001b[39m)\n\u001b[0;32m--> 454\u001b[0m \u001b[38;5;28;01mreturn\u001b[39;00m \u001b[43mfunc\u001b[49m\u001b[43m(\u001b[49m\u001b[38;5;241;43m*\u001b[39;49m\u001b[43margs\u001b[49m\u001b[43m,\u001b[49m\u001b[43m \u001b[49m\u001b[38;5;241;43m*\u001b[39;49m\u001b[38;5;241;43m*\u001b[39;49m\u001b[43mkwargs\u001b[49m\u001b[43m)\u001b[49m\n",
      "File \u001b[0;32m~/miniconda3/envs/olink/lib/python3.12/site-packages/matplotlib/axes/_base.py:4395\u001b[0m, in \u001b[0;36m_AxesBase.get_tightbbox\u001b[0;34m(self, renderer, call_axes_locator, bbox_extra_artists, for_layout_only)\u001b[0m\n\u001b[1;32m   4393\u001b[0m \u001b[38;5;28;01mfor\u001b[39;00m axis \u001b[38;5;129;01min\u001b[39;00m \u001b[38;5;28mself\u001b[39m\u001b[38;5;241m.\u001b[39m_axis_map\u001b[38;5;241m.\u001b[39mvalues():\n\u001b[1;32m   4394\u001b[0m     \u001b[38;5;28;01mif\u001b[39;00m \u001b[38;5;28mself\u001b[39m\u001b[38;5;241m.\u001b[39maxison \u001b[38;5;129;01mand\u001b[39;00m axis\u001b[38;5;241m.\u001b[39mget_visible():\n\u001b[0;32m-> 4395\u001b[0m         ba \u001b[38;5;241m=\u001b[39m \u001b[43mmartist\u001b[49m\u001b[38;5;241;43m.\u001b[39;49m\u001b[43m_get_tightbbox_for_layout_only\u001b[49m\u001b[43m(\u001b[49m\u001b[43maxis\u001b[49m\u001b[43m,\u001b[49m\u001b[43m \u001b[49m\u001b[43mrenderer\u001b[49m\u001b[43m)\u001b[49m\n\u001b[1;32m   4396\u001b[0m         \u001b[38;5;28;01mif\u001b[39;00m ba:\n\u001b[1;32m   4397\u001b[0m             bb\u001b[38;5;241m.\u001b[39mappend(ba)\n",
      "File \u001b[0;32m~/miniconda3/envs/olink/lib/python3.12/site-packages/matplotlib/artist.py:1411\u001b[0m, in \u001b[0;36m_get_tightbbox_for_layout_only\u001b[0;34m(obj, *args, **kwargs)\u001b[0m\n\u001b[1;32m   1405\u001b[0m \u001b[38;5;250m\u001b[39m\u001b[38;5;124;03m\"\"\"\u001b[39;00m\n\u001b[1;32m   1406\u001b[0m \u001b[38;5;124;03mMatplotlib's `.Axes.get_tightbbox` and `.Axis.get_tightbbox` support a\u001b[39;00m\n\u001b[1;32m   1407\u001b[0m \u001b[38;5;124;03m*for_layout_only* kwarg; this helper tries to use the kwarg but skips it\u001b[39;00m\n\u001b[1;32m   1408\u001b[0m \u001b[38;5;124;03mwhen encountering third-party subclasses that do not support it.\u001b[39;00m\n\u001b[1;32m   1409\u001b[0m \u001b[38;5;124;03m\"\"\"\u001b[39;00m\n\u001b[1;32m   1410\u001b[0m \u001b[38;5;28;01mtry\u001b[39;00m:\n\u001b[0;32m-> 1411\u001b[0m     \u001b[38;5;28;01mreturn\u001b[39;00m \u001b[43mobj\u001b[49m\u001b[38;5;241;43m.\u001b[39;49m\u001b[43mget_tightbbox\u001b[49m\u001b[43m(\u001b[49m\u001b[38;5;241;43m*\u001b[39;49m\u001b[43margs\u001b[49m\u001b[43m,\u001b[49m\u001b[43m \u001b[49m\u001b[38;5;241;43m*\u001b[39;49m\u001b[38;5;241;43m*\u001b[39;49m\u001b[43m{\u001b[49m\u001b[38;5;241;43m*\u001b[39;49m\u001b[38;5;241;43m*\u001b[39;49m\u001b[43mkwargs\u001b[49m\u001b[43m,\u001b[49m\u001b[43m \u001b[49m\u001b[38;5;124;43m\"\u001b[39;49m\u001b[38;5;124;43mfor_layout_only\u001b[39;49m\u001b[38;5;124;43m\"\u001b[39;49m\u001b[43m:\u001b[49m\u001b[43m \u001b[49m\u001b[38;5;28;43;01mTrue\u001b[39;49;00m\u001b[43m}\u001b[49m\u001b[43m)\u001b[49m\n\u001b[1;32m   1412\u001b[0m \u001b[38;5;28;01mexcept\u001b[39;00m \u001b[38;5;167;01mTypeError\u001b[39;00m:\n\u001b[1;32m   1413\u001b[0m     \u001b[38;5;28;01mreturn\u001b[39;00m obj\u001b[38;5;241m.\u001b[39mget_tightbbox(\u001b[38;5;241m*\u001b[39margs, \u001b[38;5;241m*\u001b[39m\u001b[38;5;241m*\u001b[39mkwargs)\n",
      "File \u001b[0;32m~/miniconda3/envs/olink/lib/python3.12/site-packages/matplotlib/axis.py:1339\u001b[0m, in \u001b[0;36mAxis.get_tightbbox\u001b[0;34m(self, renderer, for_layout_only)\u001b[0m\n\u001b[1;32m   1336\u001b[0m \u001b[38;5;28mself\u001b[39m\u001b[38;5;241m.\u001b[39m_update_label_position(renderer)\n\u001b[1;32m   1338\u001b[0m \u001b[38;5;66;03m# go back to just this axis's tick labels\u001b[39;00m\n\u001b[0;32m-> 1339\u001b[0m tlb1, tlb2 \u001b[38;5;241m=\u001b[39m \u001b[38;5;28;43mself\u001b[39;49m\u001b[38;5;241;43m.\u001b[39;49m\u001b[43m_get_ticklabel_bboxes\u001b[49m\u001b[43m(\u001b[49m\u001b[43mticks_to_draw\u001b[49m\u001b[43m,\u001b[49m\u001b[43m \u001b[49m\u001b[43mrenderer\u001b[49m\u001b[43m)\u001b[49m\n\u001b[1;32m   1341\u001b[0m \u001b[38;5;28mself\u001b[39m\u001b[38;5;241m.\u001b[39m_update_offset_text_position(tlb1, tlb2)\n\u001b[1;32m   1342\u001b[0m \u001b[38;5;28mself\u001b[39m\u001b[38;5;241m.\u001b[39moffsetText\u001b[38;5;241m.\u001b[39mset_text(\u001b[38;5;28mself\u001b[39m\u001b[38;5;241m.\u001b[39mmajor\u001b[38;5;241m.\u001b[39mformatter\u001b[38;5;241m.\u001b[39mget_offset())\n",
      "File \u001b[0;32m~/miniconda3/envs/olink/lib/python3.12/site-packages/matplotlib/axis.py:1315\u001b[0m, in \u001b[0;36mAxis._get_ticklabel_bboxes\u001b[0;34m(self, ticks, renderer)\u001b[0m\n\u001b[1;32m   1313\u001b[0m \u001b[38;5;28;01mif\u001b[39;00m renderer \u001b[38;5;129;01mis\u001b[39;00m \u001b[38;5;28;01mNone\u001b[39;00m:\n\u001b[1;32m   1314\u001b[0m     renderer \u001b[38;5;241m=\u001b[39m \u001b[38;5;28mself\u001b[39m\u001b[38;5;241m.\u001b[39mfigure\u001b[38;5;241m.\u001b[39m_get_renderer()\n\u001b[0;32m-> 1315\u001b[0m \u001b[38;5;28;01mreturn\u001b[39;00m ([\u001b[43mtick\u001b[49m\u001b[38;5;241;43m.\u001b[39;49m\u001b[43mlabel1\u001b[49m\u001b[38;5;241;43m.\u001b[39;49m\u001b[43mget_window_extent\u001b[49m\u001b[43m(\u001b[49m\u001b[43mrenderer\u001b[49m\u001b[43m)\u001b[49m\n\u001b[1;32m   1316\u001b[0m          \u001b[38;5;28;01mfor\u001b[39;00m tick \u001b[38;5;129;01min\u001b[39;00m ticks \u001b[38;5;28;01mif\u001b[39;00m tick\u001b[38;5;241m.\u001b[39mlabel1\u001b[38;5;241m.\u001b[39mget_visible()],\n\u001b[1;32m   1317\u001b[0m         [tick\u001b[38;5;241m.\u001b[39mlabel2\u001b[38;5;241m.\u001b[39mget_window_extent(renderer)\n\u001b[1;32m   1318\u001b[0m          \u001b[38;5;28;01mfor\u001b[39;00m tick \u001b[38;5;129;01min\u001b[39;00m ticks \u001b[38;5;28;01mif\u001b[39;00m tick\u001b[38;5;241m.\u001b[39mlabel2\u001b[38;5;241m.\u001b[39mget_visible()])\n",
      "File \u001b[0;32m~/miniconda3/envs/olink/lib/python3.12/site-packages/matplotlib/text.py:956\u001b[0m, in \u001b[0;36mText.get_window_extent\u001b[0;34m(self, renderer, dpi)\u001b[0m\n\u001b[1;32m    951\u001b[0m     \u001b[38;5;28;01mraise\u001b[39;00m \u001b[38;5;167;01mRuntimeError\u001b[39;00m(\n\u001b[1;32m    952\u001b[0m         \u001b[38;5;124m\"\u001b[39m\u001b[38;5;124mCannot get window extent of text w/o renderer. You likely \u001b[39m\u001b[38;5;124m\"\u001b[39m\n\u001b[1;32m    953\u001b[0m         \u001b[38;5;124m\"\u001b[39m\u001b[38;5;124mwant to call \u001b[39m\u001b[38;5;124m'\u001b[39m\u001b[38;5;124mfigure.draw_without_rendering()\u001b[39m\u001b[38;5;124m'\u001b[39m\u001b[38;5;124m first.\u001b[39m\u001b[38;5;124m\"\u001b[39m)\n\u001b[1;32m    955\u001b[0m \u001b[38;5;28;01mwith\u001b[39;00m cbook\u001b[38;5;241m.\u001b[39m_setattr_cm(\u001b[38;5;28mself\u001b[39m\u001b[38;5;241m.\u001b[39mfigure, dpi\u001b[38;5;241m=\u001b[39mdpi):\n\u001b[0;32m--> 956\u001b[0m     bbox, info, descent \u001b[38;5;241m=\u001b[39m \u001b[38;5;28;43mself\u001b[39;49m\u001b[38;5;241;43m.\u001b[39;49m\u001b[43m_get_layout\u001b[49m\u001b[43m(\u001b[49m\u001b[38;5;28;43mself\u001b[39;49m\u001b[38;5;241;43m.\u001b[39;49m\u001b[43m_renderer\u001b[49m\u001b[43m)\u001b[49m\n\u001b[1;32m    957\u001b[0m     x, y \u001b[38;5;241m=\u001b[39m \u001b[38;5;28mself\u001b[39m\u001b[38;5;241m.\u001b[39mget_unitless_position()\n\u001b[1;32m    958\u001b[0m     x, y \u001b[38;5;241m=\u001b[39m \u001b[38;5;28mself\u001b[39m\u001b[38;5;241m.\u001b[39mget_transform()\u001b[38;5;241m.\u001b[39mtransform((x, y))\n",
      "File \u001b[0;32m~/miniconda3/envs/olink/lib/python3.12/site-packages/matplotlib/text.py:502\u001b[0m, in \u001b[0;36mText._get_layout\u001b[0;34m(self, renderer)\u001b[0m\n\u001b[1;32m    499\u001b[0m xmin \u001b[38;5;241m-\u001b[39m\u001b[38;5;241m=\u001b[39m offsetx\n\u001b[1;32m    500\u001b[0m ymin \u001b[38;5;241m-\u001b[39m\u001b[38;5;241m=\u001b[39m offsety\n\u001b[0;32m--> 502\u001b[0m bbox \u001b[38;5;241m=\u001b[39m \u001b[43mBbox\u001b[49m\u001b[38;5;241;43m.\u001b[39;49m\u001b[43mfrom_bounds\u001b[49m\u001b[43m(\u001b[49m\u001b[43mxmin\u001b[49m\u001b[43m,\u001b[49m\u001b[43m \u001b[49m\u001b[43mymin\u001b[49m\u001b[43m,\u001b[49m\u001b[43m \u001b[49m\u001b[43mwidth\u001b[49m\u001b[43m,\u001b[49m\u001b[43m \u001b[49m\u001b[43mheight\u001b[49m\u001b[43m)\u001b[49m\n\u001b[1;32m    504\u001b[0m \u001b[38;5;66;03m# now rotate the positions around the first (x, y) position\u001b[39;00m\n\u001b[1;32m    505\u001b[0m xys \u001b[38;5;241m=\u001b[39m M\u001b[38;5;241m.\u001b[39mtransform(offset_layout) \u001b[38;5;241m-\u001b[39m (offsetx, offsety)\n",
      "File \u001b[0;32m~/miniconda3/envs/olink/lib/python3.12/site-packages/matplotlib/transforms.py:804\u001b[0m, in \u001b[0;36mBbox.from_bounds\u001b[0;34m(x0, y0, width, height)\u001b[0m\n\u001b[1;32m    801\u001b[0m \u001b[38;5;250m    \u001b[39m\u001b[38;5;124;03m\"\"\"Create a new null `Bbox` from (inf, inf) to (-inf, -inf).\"\"\"\u001b[39;00m\n\u001b[1;32m    802\u001b[0m     \u001b[38;5;28;01mreturn\u001b[39;00m Bbox([[np\u001b[38;5;241m.\u001b[39minf, np\u001b[38;5;241m.\u001b[39minf], [\u001b[38;5;241m-\u001b[39mnp\u001b[38;5;241m.\u001b[39minf, \u001b[38;5;241m-\u001b[39mnp\u001b[38;5;241m.\u001b[39minf]])\n\u001b[0;32m--> 804\u001b[0m \u001b[38;5;129m@staticmethod\u001b[39m\n\u001b[1;32m    805\u001b[0m \u001b[38;5;28;01mdef\u001b[39;00m \u001b[38;5;21mfrom_bounds\u001b[39m(x0, y0, width, height):\n\u001b[1;32m    806\u001b[0m \u001b[38;5;250m    \u001b[39m\u001b[38;5;124;03m\"\"\"\u001b[39;00m\n\u001b[1;32m    807\u001b[0m \u001b[38;5;124;03m    Create a new `Bbox` from *x0*, *y0*, *width* and *height*.\u001b[39;00m\n\u001b[1;32m    808\u001b[0m \n\u001b[1;32m    809\u001b[0m \u001b[38;5;124;03m    *width* and *height* may be negative.\u001b[39;00m\n\u001b[1;32m    810\u001b[0m \u001b[38;5;124;03m    \"\"\"\u001b[39;00m\n\u001b[1;32m    811\u001b[0m     \u001b[38;5;28;01mreturn\u001b[39;00m Bbox\u001b[38;5;241m.\u001b[39mfrom_extents(x0, y0, x0 \u001b[38;5;241m+\u001b[39m width, y0 \u001b[38;5;241m+\u001b[39m height)\n",
      "\u001b[0;31mKeyboardInterrupt\u001b[0m: "
     ]
    }
   ],
   "source": [
    "basic_info_filt[age_center.0.0].plot.bar()"
   ]
  },
  {
   "cell_type": "code",
   "execution_count": 125,
   "id": "d54401e8-8645-4101-9db8-a3d778a9cd52",
   "metadata": {},
   "outputs": [
    {
     "data": {
      "text/plain": [
       "(array([ 626., 2288., 1226., 2629., 1301., 2585., 1423., 2955., 1529.,\n",
       "        3188., 3507., 1809., 3926., 2506., 5370., 2449., 4718., 2194.,\n",
       "        4016., 2459.]),\n",
       " array([39.  , 40.55, 42.1 , 43.65, 45.2 , 46.75, 48.3 , 49.85, 51.4 ,\n",
       "        52.95, 54.5 , 56.05, 57.6 , 59.15, 60.7 , 62.25, 63.8 , 65.35,\n",
       "        66.9 , 68.45, 70.  ]),\n",
       " <BarContainer object of 20 artists>)"
      ]
     },
     "execution_count": 125,
     "metadata": {},
     "output_type": "execute_result"
    },
    {
     "data": {
      "image/png": "[encoded data removed]",
      "text/plain": [
       "<Figure size 640x480 with 1 Axes>"
      ]
     },
     "metadata": {},
     "output_type": "display_data"
    }
   ],
   "source": [
    "plt.hist(basic_info_filt[age_center.0.0].values,  bins = 20)"
   ]
  },
  {
   "cell_type": "code",
   "execution_count": 6,
   "id": "6671f0ec-633f-4695-a740-91133cb9bdda",
   "metadata": {},
   "outputs": [
    {
     "data": {
      "text/html": [
       "<div>\n",
       "<style scoped>\n",
       "    .dataframe tbody tr th:only-of-type {\n",
       "        vertical-align: middle;\n",
       "    }\n",
       "\n",
       "    .dataframe tbody tr th {\n",
       "        vertical-align: top;\n",
       "    }\n",
       "\n",
       "    .dataframe thead th {\n",
       "        text-align: right;\n",
       "    }\n",
       "</style>\n",
       "<table border=\"1\" class=\"dataframe\">\n",
       "  <thead>\n",
       "    <tr style=\"text-align: right;\">\n",
       "      <th></th>\n",
       "      <th>eid</th>\n",
       "      <th>Assay</th>\n",
       "      <th>NPX</th>\n",
       "      <th>Panel</th>\n",
       "      <th>Panel_Lot_Nr</th>\n",
       "      <th>Assay_Version</th>\n",
       "      <th>PlateID</th>\n",
       "      <th>WellID</th>\n",
       "      <th>Batch</th>\n",
       "      <th>LOD</th>\n",
       "      <th>Processing_StartDate</th>\n",
       "      <th>Instance</th>\n",
       "    </tr>\n",
       "  </thead>\n",
       "  <tbody>\n",
       "    <tr>\n",
       "      <th>0</th>\n",
       "      <td>1000181</td>\n",
       "      <td>AARSD1</td>\n",
       "      <td>-0.4305</td>\n",
       "      <td>Oncology</td>\n",
       "      <td>B04412</td>\n",
       "      <td>1.0</td>\n",
       "      <td>8.900000e+11</td>\n",
       "      <td>D08</td>\n",
       "      <td>3.0</td>\n",
       "      <td>-5.1861</td>\n",
       "      <td>2021-08-26</td>\n",
       "      <td>0</td>\n",
       "    </tr>\n",
       "    <tr>\n",
       "      <th>1</th>\n",
       "      <td>1000181</td>\n",
       "      <td>ABHD14B</td>\n",
       "      <td>-0.3222</td>\n",
       "      <td>Neurology</td>\n",
       "      <td>B04414</td>\n",
       "      <td>1.0</td>\n",
       "      <td>8.900000e+11</td>\n",
       "      <td>D08</td>\n",
       "      <td>3.0</td>\n",
       "      <td>-4.1701</td>\n",
       "      <td>2021-08-26</td>\n",
       "      <td>0</td>\n",
       "    </tr>\n",
       "    <tr>\n",
       "      <th>2</th>\n",
       "      <td>1000181</td>\n",
       "      <td>ABL1</td>\n",
       "      <td>-0.3300</td>\n",
       "      <td>Oncology</td>\n",
       "      <td>B04412</td>\n",
       "      <td>1.0</td>\n",
       "      <td>8.900000e+11</td>\n",
       "      <td>D08</td>\n",
       "      <td>3.0</td>\n",
       "      <td>-4.3769</td>\n",
       "      <td>2021-08-26</td>\n",
       "      <td>0</td>\n",
       "    </tr>\n",
       "    <tr>\n",
       "      <th>3</th>\n",
       "      <td>1000181</td>\n",
       "      <td>ACAA1</td>\n",
       "      <td>-0.5217</td>\n",
       "      <td>Oncology</td>\n",
       "      <td>B04412</td>\n",
       "      <td>1.0</td>\n",
       "      <td>8.900000e+11</td>\n",
       "      <td>D08</td>\n",
       "      <td>3.0</td>\n",
       "      <td>-1.2737</td>\n",
       "      <td>2021-08-26</td>\n",
       "      <td>0</td>\n",
       "    </tr>\n",
       "    <tr>\n",
       "      <th>4</th>\n",
       "      <td>1000181</td>\n",
       "      <td>ACAN</td>\n",
       "      <td>-0.4388</td>\n",
       "      <td>Cardiometabolic</td>\n",
       "      <td>B04413</td>\n",
       "      <td>1.0</td>\n",
       "      <td>8.900000e+11</td>\n",
       "      <td>D08</td>\n",
       "      <td>3.0</td>\n",
       "      <td>-3.4464</td>\n",
       "      <td>2021-08-26</td>\n",
       "      <td>0</td>\n",
       "    </tr>\n",
       "  </tbody>\n",
       "</table>\n",
       "</div>"
      ],
      "text/plain": [
       "       eid    Assay     NPX            Panel Panel_Lot_Nr  Assay_Version  \\\n",
       "0  1000181   AARSD1 -0.4305         Oncology       B04412            1.0   \n",
       "1  1000181  ABHD14B -0.3222        Neurology       B04414            1.0   \n",
       "2  1000181     ABL1 -0.3300         Oncology       B04412            1.0   \n",
       "3  1000181    ACAA1 -0.5217         Oncology       B04412            1.0   \n",
       "4  1000181     ACAN -0.4388  Cardiometabolic       B04413            1.0   \n",
       "\n",
       "        PlateID WellID  Batch     LOD Processing_StartDate  Instance  \n",
       "0  8.900000e+11    D08    3.0 -5.1861           2021-08-26         0  \n",
       "1  8.900000e+11    D08    3.0 -4.1701           2021-08-26         0  \n",
       "2  8.900000e+11    D08    3.0 -4.3769           2021-08-26         0  \n",
       "3  8.900000e+11    D08    3.0 -1.2737           2021-08-26         0  \n",
       "4  8.900000e+11    D08    3.0 -3.4464           2021-08-26         0  "
      ]
     },
     "execution_count": 6,
     "metadata": {},
     "output_type": "execute_result"
    }
   ],
   "source": [
    "olink.head()"
   ]
  },
  {
   "cell_type": "code",
   "execution_count": 10,
   "id": "170fe2b9-b3e0-4469-9c0c-cb5c7c609d6f",
   "metadata": {},
   "outputs": [
    {
     "data": {
      "text/plain": [
       "(231317856, 12)"
      ]
     },
     "execution_count": 10,
     "metadata": {},
     "output_type": "execute_result"
    }
   ],
   "source": [
    "olink.shape"
   ]
  },
  {
   "cell_type": "code",
   "execution_count": 21,
   "id": "f7376055-822b-4c39-a163-71abc9044635",
   "metadata": {},
   "outputs": [],
   "source": [
    "instance23 = olink.loc[(olink[Instance] == 2) | (olink[Instance] == 3)]"
   ]
  },
  {
   "cell_type": "code",
   "execution_count": 18,
   "id": "158a9c38-20cf-4c5b-804a-715100b8f4f2",
   "metadata": {},
   "outputs": [],
   "source": [
    "# instance23 = instance23.dropna()"
   ]
  },
  {
   "cell_type": "code",
   "execution_count": 20,
   "id": "dc6e5321-5f32-4ca2-a3f6-1fdde8f1824a",
   "metadata": {},
   "outputs": [
    {
     "data": {
      "text/plain": [
       "(0, 12)"
      ]
     },
     "execution_count": 20,
     "metadata": {},
     "output_type": "execute_result"
    }
   ],
   "source": [
    "instance23.shape"
   ]
  },
  {
   "cell_type": "code",
   "execution_count": 15,
   "id": "7ee0c1e8-1d39-45d2-b6a0-a75fedd933b0",
   "metadata": {},
   "outputs": [
    {
     "data": {
      "text/html": [
       "<div>\n",
       "<style scoped>\n",
       "    .dataframe tbody tr th:only-of-type {\n",
       "        vertical-align: middle;\n",
       "    }\n",
       "\n",
       "    .dataframe tbody tr th {\n",
       "        vertical-align: top;\n",
       "    }\n",
       "\n",
       "    .dataframe thead th {\n",
       "        text-align: right;\n",
       "    }\n",
       "</style>\n",
       "<table border=\"1\" class=\"dataframe\">\n",
       "  <thead>\n",
       "    <tr style=\"text-align: right;\">\n",
       "      <th></th>\n",
       "      <th>eid</th>\n",
       "      <th>Assay</th>\n",
       "      <th>NPX</th>\n",
       "      <th>Panel</th>\n",
       "      <th>Panel_Lot_Nr</th>\n",
       "      <th>Assay_Version</th>\n",
       "      <th>PlateID</th>\n",
       "      <th>WellID</th>\n",
       "      <th>Batch</th>\n",
       "      <th>LOD</th>\n",
       "      <th>Processing_StartDate</th>\n",
       "      <th>Instance</th>\n",
       "    </tr>\n",
       "  </thead>\n",
       "  <tbody>\n",
       "    <tr>\n",
       "      <th>77105952</th>\n",
       "      <td>1000181</td>\n",
       "      <td>AARSD1</td>\n",
       "      <td>-0.4305</td>\n",
       "      <td>Oncology</td>\n",
       "      <td>B04412</td>\n",
       "      <td>1.0</td>\n",
       "      <td>NaN</td>\n",
       "      <td>NaN</td>\n",
       "      <td>NaN</td>\n",
       "      <td>NaN</td>\n",
       "      <td>NaN</td>\n",
       "      <td>2</td>\n",
       "    </tr>\n",
       "    <tr>\n",
       "      <th>77105953</th>\n",
       "      <td>1000181</td>\n",
       "      <td>ABHD14B</td>\n",
       "      <td>-0.3222</td>\n",
       "      <td>Neurology</td>\n",
       "      <td>B04414</td>\n",
       "      <td>1.0</td>\n",
       "      <td>NaN</td>\n",
       "      <td>NaN</td>\n",
       "      <td>NaN</td>\n",
       "      <td>NaN</td>\n",
       "      <td>NaN</td>\n",
       "      <td>2</td>\n",
       "    </tr>\n",
       "    <tr>\n",
       "      <th>77105954</th>\n",
       "      <td>1000181</td>\n",
       "      <td>ABL1</td>\n",
       "      <td>-0.3300</td>\n",
       "      <td>Oncology</td>\n",
       "      <td>B04412</td>\n",
       "      <td>1.0</td>\n",
       "      <td>NaN</td>\n",
       "      <td>NaN</td>\n",
       "      <td>NaN</td>\n",
       "      <td>NaN</td>\n",
       "      <td>NaN</td>\n",
       "      <td>2</td>\n",
       "    </tr>\n",
       "    <tr>\n",
       "      <th>77105955</th>\n",
       "      <td>1000181</td>\n",
       "      <td>ACAA1</td>\n",
       "      <td>-0.5217</td>\n",
       "      <td>Oncology</td>\n",
       "      <td>B04412</td>\n",
       "      <td>1.0</td>\n",
       "      <td>NaN</td>\n",
       "      <td>NaN</td>\n",
       "      <td>NaN</td>\n",
       "      <td>NaN</td>\n",
       "      <td>NaN</td>\n",
       "      <td>2</td>\n",
       "    </tr>\n",
       "    <tr>\n",
       "      <th>77105956</th>\n",
       "      <td>1000181</td>\n",
       "      <td>ACAN</td>\n",
       "      <td>-0.4388</td>\n",
       "      <td>Cardiometabolic</td>\n",
       "      <td>B04413</td>\n",
       "      <td>1.0</td>\n",
       "      <td>NaN</td>\n",
       "      <td>NaN</td>\n",
       "      <td>NaN</td>\n",
       "      <td>NaN</td>\n",
       "      <td>NaN</td>\n",
       "      <td>2</td>\n",
       "    </tr>\n",
       "  </tbody>\n",
       "</table>\n",
       "</div>"
      ],
      "text/plain": [
       "              eid    Assay     NPX            Panel Panel_Lot_Nr  \\\n",
       "77105952  1000181   AARSD1 -0.4305         Oncology       B04412   \n",
       "77105953  1000181  ABHD14B -0.3222        Neurology       B04414   \n",
       "77105954  1000181     ABL1 -0.3300         Oncology       B04412   \n",
       "77105955  1000181    ACAA1 -0.5217         Oncology       B04412   \n",
       "77105956  1000181     ACAN -0.4388  Cardiometabolic       B04413   \n",
       "\n",
       "          Assay_Version  PlateID WellID  Batch  LOD Processing_StartDate  \\\n",
       "77105952            1.0      NaN    NaN    NaN  NaN                  NaN   \n",
       "77105953            1.0      NaN    NaN    NaN  NaN                  NaN   \n",
       "77105954            1.0      NaN    NaN    NaN  NaN                  NaN   \n",
       "77105955            1.0      NaN    NaN    NaN  NaN                  NaN   \n",
       "77105956            1.0      NaN    NaN    NaN  NaN                  NaN   \n",
       "\n",
       "          Instance  \n",
       "77105952         2  \n",
       "77105953         2  \n",
       "77105954         2  \n",
       "77105955         2  \n",
       "77105956         2  "
      ]
     },
     "execution_count": 15,
     "metadata": {},
     "output_type": "execute_result"
    }
   ],
   "source": [
    "instance23.head()"
   ]
  },
  {
   "cell_type": "code",
   "execution_count": 17,
   "id": "77ce83b4-0c18-48e9-90e4-3c15a57e7209",
   "metadata": {},
   "outputs": [
    {
     "data": {
      "text/plain": [
       "52704"
      ]
     },
     "execution_count": 17,
     "metadata": {},
     "output_type": "execute_result"
    }
   ],
   "source": [
    "len(instance23[\"eid\"].unique())"
   ]
  },
  {
   "cell_type": "code",
   "execution_count": 22,
   "id": "e0727f0c-2cf9-4026-af48-5f1cb1550c7d",
   "metadata": {},
   "outputs": [],
   "source": [
    "asdf = olink.loc[(olink[eid] == 1000181) & (olink[Assay] == \"AARSD1\")]"
   ]
  },
  {
   "cell_type": "code",
   "execution_count": 23,
   "id": "8b871766-009c-4791-bade-a628e9ee0a1c",
   "metadata": {},
   "outputs": [
    {
     "data": {
      "text/html": [
       "<div>\n",
       "<style scoped>\n",
       "    .dataframe tbody tr th:only-of-type {\n",
       "        vertical-align: middle;\n",
       "    }\n",
       "\n",
       "    .dataframe tbody tr th {\n",
       "        vertical-align: top;\n",
       "    }\n",
       "\n",
       "    .dataframe thead th {\n",
       "        text-align: right;\n",
       "    }\n",
       "</style>\n",
       "<table border=\"1\" class=\"dataframe\">\n",
       "  <thead>\n",
       "    <tr style=\"text-align: right;\">\n",
       "      <th></th>\n",
       "      <th>eid</th>\n",
       "      <th>Assay</th>\n",
       "      <th>NPX</th>\n",
       "      <th>Panel</th>\n",
       "      <th>Panel_Lot_Nr</th>\n",
       "      <th>Assay_Version</th>\n",
       "      <th>PlateID</th>\n",
       "      <th>WellID</th>\n",
       "      <th>Batch</th>\n",
       "      <th>LOD</th>\n",
       "      <th>Processing_StartDate</th>\n",
       "      <th>Instance</th>\n",
       "    </tr>\n",
       "  </thead>\n",
       "  <tbody>\n",
       "    <tr>\n",
       "      <th>0</th>\n",
       "      <td>1000181</td>\n",
       "      <td>AARSD1</td>\n",
       "      <td>-0.4305</td>\n",
       "      <td>Oncology</td>\n",
       "      <td>B04412</td>\n",
       "      <td>1.0</td>\n",
       "      <td>8.900000e+11</td>\n",
       "      <td>D08</td>\n",
       "      <td>3.0</td>\n",
       "      <td>-5.1861</td>\n",
       "      <td>2021-08-26</td>\n",
       "      <td>0</td>\n",
       "    </tr>\n",
       "    <tr>\n",
       "      <th>77105952</th>\n",
       "      <td>1000181</td>\n",
       "      <td>AARSD1</td>\n",
       "      <td>-0.4305</td>\n",
       "      <td>Oncology</td>\n",
       "      <td>B04412</td>\n",
       "      <td>1.0</td>\n",
       "      <td>NaN</td>\n",
       "      <td>NaN</td>\n",
       "      <td>NaN</td>\n",
       "      <td>NaN</td>\n",
       "      <td>NaN</td>\n",
       "      <td>2</td>\n",
       "    </tr>\n",
       "    <tr>\n",
       "      <th>154211904</th>\n",
       "      <td>1000181</td>\n",
       "      <td>AARSD1</td>\n",
       "      <td>-0.4305</td>\n",
       "      <td>Oncology</td>\n",
       "      <td>B04412</td>\n",
       "      <td>1.0</td>\n",
       "      <td>NaN</td>\n",
       "      <td>NaN</td>\n",
       "      <td>NaN</td>\n",
       "      <td>NaN</td>\n",
       "      <td>NaN</td>\n",
       "      <td>3</td>\n",
       "    </tr>\n",
       "  </tbody>\n",
       "</table>\n",
       "</div>"
      ],
      "text/plain": [
       "               eid   Assay     NPX     Panel Panel_Lot_Nr  Assay_Version  \\\n",
       "0          1000181  AARSD1 -0.4305  Oncology       B04412            1.0   \n",
       "77105952   1000181  AARSD1 -0.4305  Oncology       B04412            1.0   \n",
       "154211904  1000181  AARSD1 -0.4305  Oncology       B04412            1.0   \n",
       "\n",
       "                PlateID WellID  Batch     LOD Processing_StartDate  Instance  \n",
       "0          8.900000e+11    D08    3.0 -5.1861           2021-08-26         0  \n",
       "77105952            NaN    NaN    NaN     NaN                  NaN         2  \n",
       "154211904           NaN    NaN    NaN     NaN                  NaN         3  "
      ]
     },
     "execution_count": 23,
     "metadata": {},
     "output_type": "execute_result"
    }
   ],
   "source": [
    "asdf.head()"
   ]
  },
  {
   "cell_type": "code",
   "execution_count": 19,
   "id": "17d84361-e35f-4a6d-b1ae-35398ccf971e",
   "metadata": {},
   "outputs": [
    {
     "data": {
      "text/plain": [
       "52704"
      ]
     },
     "execution_count": 19,
     "metadata": {},
     "output_type": "execute_result"
    }
   ],
   "source": [
    "len(olink[\"eid\"].unique())"
   ]
  },
  {
   "cell_type": "code",
   "execution_count": 25,
   "id": "9e1ac180-0adb-4e1e-8d20-78071eb0b927",
   "metadata": {},
   "outputs": [
    {
     "data": {
      "text/plain": [
       "eid                             0\n",
       "Assay                           0\n",
       "NPX                       6675936\n",
       "Panel                      632448\n",
       "Panel_Lot_Nr               632448\n",
       "Assay_Version              632448\n",
       "PlateID                 150993304\n",
       "WellID                  150993304\n",
       "Batch                   150993304\n",
       "LOD                     151550859\n",
       "Processing_StartDate    154235312\n",
       "Instance                        0\n",
       "dtype: int64"
      ]
     },
     "execution_count": 25,
     "metadata": {},
     "output_type": "execute_result"
    }
   ],
   "source": [
    "olink.isna().sum()"
   ]
  }
 ],
 "metadata": {
  "kernelspec": {
   "display_name": "Python 3 (ipykernel)",
   "language": "python",
   "name": "python3"
  },
  "language_info": {
   "codemirror_mode": {
    "name": "ipython",
    "version": 3
   },
   "file_extension": ".py",
   "mimetype": "text/x-python",
   "name": "python",
   "nbconvert_exporter": "python",
   "pygments_lexer": "ipython3",
   "version": "3.12.1"
  }
 },
 "nbformat": 4,
 "nbformat_minor": 5
}
