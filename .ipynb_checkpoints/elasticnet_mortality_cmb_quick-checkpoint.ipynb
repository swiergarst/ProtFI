{
 "cells": [
  {
   "cell_type": "code",
   "execution_count": 1,
   "id": "88150a2e-a6ce-4119-9f43-ba1887214c77",
   "metadata": {},
   "outputs": [
    {
     "name": "stderr",
     "output_type": "stream",
     "text": [
      "/tmp/ipykernel_539308/3940362312.py:3: DeprecationWarning: \n",
      "Pyarrow will become a required dependency of pandas in the next major release of pandas (pandas 3.0),\n",
      "(to allow more performant data types, such as the Arrow string type, and better interoperability with other libraries)\n",
      "but was not found to be installed on your system.\n",
      "If this would cause problems for you,\n",
      "please provide us feedback at https://github.com/pandas-dev/pandas/issues/54466\n",
      "        \n",
      "  import pandas as pd\n"
     ]
    }
   ],
   "source": [
    "# load and summarize the housing dataset\n",
    "import numpy as np\n",
    "import pandas as pd\n",
    "import warnings\n",
    "import random\n",
    "from utils import *\n",
    "from model_functions import *\n",
    "\n",
    "random.seed(7)\n",
    "\n",
    "from matplotlib import pyplot as plt\n",
    "from sklearn.model_selection import cross_val_score, KFold, GridSearchCV\n",
    "from sklearn.linear_model import ElasticNet\n",
    "from sksurv.linear_model import CoxnetSurvivalAnalysis as CoxPH\n",
    "from sksurv.metrics import concordance_index_censored\n",
    "from sklearn.exceptions import FitFailedWarning\n",
    "from sklearn.pipeline import make_pipeline\n",
    "from sklearn.preprocessing import StandardScaler"
   ]
  },
  {
   "cell_type": "code",
   "execution_count": 2,
   "id": "6ec68d3f-c06a-4eb4-a3ce-6e921cce7ab8",
   "metadata": {},
   "outputs": [],
   "source": [
    "trainset_cmb, set2_cmb, eids_train, eids_set2 = get_data({'dset':'cmb', 'target':'mort'})"
   ]
  },
  {
   "cell_type": "code",
   "execution_count": 3,
   "id": "1f64250b-915d-4e44-891e-f47accf7372c",
   "metadata": {},
   "outputs": [],
   "source": [
    "#Save names for later use\n",
    "trainset_cmb_names = pd.read_csv('Data/Processed/Full/full_train_cmb.csv', index_col = 'eid').columns"
   ]
  },
  {
   "cell_type": "code",
   "execution_count": null,
   "id": "7e575298-6332-4781-9fb5-adc66f9f0190",
   "metadata": {},
   "outputs": [],
   "source": [
    "best_model, best_coefs, scores, C_save, new_col = find_best_coxph_model(trainset_cmb, trainset_cmb_names, set2_cmb, 'en_mort_cmb', quick=True)"
   ]
  },
  {
   "cell_type": "code",
   "execution_count": null,
   "id": "d8aef835-48ec-408c-b848-ffa15890aa81",
   "metadata": {},
   "outputs": [],
   "source": [
    "#Save output\n",
    "with open(\"scores_mort_cmb_quick.npy\", \"wb\") as f:\n",
    "      np.save(f, scores)\n",
    "best_coefs.to_csv('coefs_mort_cmb_quick.csv')\n",
    "new_col.to_csv('en_mort_cmb_set2_quick.csv')\n",
    "with open(\"C_mort_cmb_quick.npy\", \"wb\") as c:\n",
    "      np.save(c, C_save)\n",
    "with open(\"best_model_mort_cmb_quick.npy\", \"wb\") as m:\n",
    "      np.save(m, best_model)"
   ]
  },
  {
   "cell_type": "code",
   "execution_count": 8,
   "id": "6139af98-243b-4a97-8db8-e117dcd2fd38",
   "metadata": {
    "scrolled": true
   },
   "outputs": [
    {
     "name": "stderr",
     "output_type": "stream",
     "text": [
      "/home/r046451/miniconda3/lib/python3.11/site-packages/sklearn/pipeline.py:427: UserWarning: all coefficients are zero, consider decreasing alpha.\n",
      "  self._final_estimator.fit(Xt, y, **fit_params_last_step)\n",
      "/home/r046451/miniconda3/lib/python3.11/site-packages/sklearn/pipeline.py:427: UserWarning: all coefficients are zero, consider decreasing alpha.\n",
      "  self._final_estimator.fit(Xt, y, **fit_params_last_step)\n",
      "/home/r046451/miniconda3/lib/python3.11/site-packages/sklearn/pipeline.py:427: UserWarning: all coefficients are zero, consider decreasing alpha.\n",
      "  self._final_estimator.fit(Xt, y, **fit_params_last_step)\n",
      "/home/r046451/miniconda3/lib/python3.11/site-packages/sklearn/pipeline.py:427: UserWarning: all coefficients are zero, consider decreasing alpha.\n",
      "  self._final_estimator.fit(Xt, y, **fit_params_last_step)\n",
      "/home/r046451/miniconda3/lib/python3.11/site-packages/sklearn/pipeline.py:427: UserWarning: all coefficients are zero, consider decreasing alpha.\n",
      "  self._final_estimator.fit(Xt, y, **fit_params_last_step)\n",
      "/home/r046451/miniconda3/lib/python3.11/site-packages/sklearn/pipeline.py:427: UserWarning: all coefficients are zero, consider decreasing alpha.\n",
      "  self._final_estimator.fit(Xt, y, **fit_params_last_step)\n"
     ]
    }
   ],
   "source": [
    "# X = trainset_cmb_mh[0]\n",
    "# y_tmp = [(e1, e2) for e1, e2 in zip(trainset_cmb_mh[2], trainset_cmb_mh[1])]\n",
    "# y = np.array(y_tmp, dtype = [(\"Status\", \"?\"), (\"Survival_in_days\", \"<f8\")])\n",
    "\n",
    "# # define model\n",
    "# #model = CoxPH()\n",
    "# #alphas_all =  np.logspace(-6, -1, 100)\n",
    "# #alphas = [np.array([alpha]) for alpha in alphas_all]\n",
    "# l1_ratios = np.arange(0.1, 1, 0.01)\n",
    "# C = 0\n",
    "# best_coefs = pd.DataFrame(0, index=trainset_cmb_mh_names, columns=[\"coefficient\"])\n",
    "# scores = np.zeros((len(l1_ratios), 2))\n",
    "# for i, l1_ratio in enumerate(l1_ratios):\n",
    "#      coxnet_pipe = make_pipeline(CoxPH(l1_ratio=l1_ratio, alpha_min_ratio=0.01))\n",
    "#     # warnings.simplefilter(\"ignore\", UserWarning)\n",
    "#     # warnings.simplefilter(\"ignore\", FitFailedWarning)\n",
    "#      coxnet_pipe.fit(X, y)\n",
    "#      estimated_alphas = coxnet_pipe.named_steps[\"coxnetsurvivalanalysis\"].alphas_\n",
    "#      cv = KFold(n_splits=5, shuffle=True, random_state=0)\n",
    "#      gcv = GridSearchCV(\n",
    "#          make_pipeline(CoxPH(l1_ratio=l1_ratio)),\n",
    "#          param_grid={\"coxnetsurvivalanalysis__alphas\": [[v] for v in estimated_alphas]},\n",
    "#          cv=cv,\n",
    "#          error_score=0.5,\n",
    "#          n_jobs=1,).fit(X, y)\n",
    "#      scores[i,0]=gcv.best_params_[\"coxnetsurvivalanalysis__alphas\"][0]\n",
    "#      scores[i,1]=gcv.cv_results_[\"mean_test_score\"][np.where(gcv.cv_results_[\"rank_test_score\"] == 1)[0][0]]\n",
    "#      if scores[i,1] > C:\n",
    "#          C = scores[i,1]\n",
    "#          best_model = gcv.best_estimator_.named_steps[\"coxnetsurvivalanalysis\"]\n",
    "#          best_coefs = pd.DataFrame(best_model.coef_, index=trainset_cmb_mh_names, columns=[\"coefficient\"])"
   ]
  },
  {
   "cell_type": "code",
   "execution_count": null,
   "id": "9960e4f0-c061-4ff8-9a57-c4cf4bf8627f",
   "metadata": {},
   "outputs": [],
   "source": [
    " # with open(\"scores_mort_cmb_mh.npy\", \"wb\") as f:\n",
    " #     np.save(f, scores)"
   ]
  },
  {
   "cell_type": "code",
   "execution_count": 77,
   "id": "0fa00a23-5189-432e-9e46-0f25d1319088",
   "metadata": {},
   "outputs": [],
   "source": [
    "# best_coefs.to_csv('coefs_mort_cmb_mh.csv')"
   ]
  }
 ],
 "metadata": {
  "kernelspec": {
   "display_name": "Python 3 (ipykernel)",
   "language": "python",
   "name": "python3"
  },
  "language_info": {
   "codemirror_mode": {
    "name": "ipython",
    "version": 3
   },
   "file_extension": ".py",
   "mimetype": "text/x-python",
   "name": "python",
   "nbconvert_exporter": "python",
   "pygments_lexer": "ipython3",
   "version": "3.12.1"
  }
 },
 "nbformat": 4,
 "nbformat_minor": 5
}
