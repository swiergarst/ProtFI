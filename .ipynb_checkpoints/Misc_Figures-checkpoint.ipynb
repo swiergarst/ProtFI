{
 "cells": [
  {
   "cell_type": "code",
   "execution_count": 1,
   "id": "9ca69808-5c20-4baf-a117-b249763cc7d1",
   "metadata": {},
   "outputs": [
    {
     "name": "stderr",
     "output_type": "stream",
     "text": [
      "/tmp/ipykernel_2940889/3035737492.py:1: DeprecationWarning: \n",
      "Pyarrow will become a required dependency of pandas in the next major release of pandas (pandas 3.0),\n",
      "(to allow more performant data types, such as the Arrow string type, and better interoperability with other libraries)\n",
      "but was not found to be installed on your system.\n",
      "If this would cause problems for you,\n",
      "please provide us feedback at https://github.com/pandas-dev/pandas/issues/54466\n",
      "        \n",
      "  import pandas as pd\n"
     ]
    },
    {
     "ename": "ModuleNotFoundError",
     "evalue": "No module named 'utils'",
     "output_type": "error",
     "traceback": [
      "\u001b[0;31m---------------------------------------------------------------------------\u001b[0m",
      "\u001b[0;31mModuleNotFoundError\u001b[0m                       Traceback (most recent call last)",
      "Cell \u001b[0;32mIn[1], line 8\u001b[0m\n\u001b[1;32m      6\u001b[0m \u001b[38;5;28;01mfrom\u001b[39;00m \u001b[38;5;21;01mmodel_functions\u001b[39;00m \u001b[38;5;28;01mimport\u001b[39;00m \u001b[38;5;241m*\u001b[39m\n\u001b[1;32m      7\u001b[0m \u001b[38;5;28;01mfrom\u001b[39;00m \u001b[38;5;21;01msklearn\u001b[39;00m\u001b[38;5;21;01m.\u001b[39;00m\u001b[38;5;21;01mfeature_selection\u001b[39;00m \u001b[38;5;28;01mimport\u001b[39;00m SequentialFeatureSelector\n\u001b[0;32m----> 8\u001b[0m \u001b[38;5;28;01mfrom\u001b[39;00m \u001b[38;5;21;01msrc\u001b[39;00m\u001b[38;5;21;01m.\u001b[39;00m\u001b[38;5;21;01mforward_selection\u001b[39;00m \u001b[38;5;28;01mimport\u001b[39;00m select_features\n\u001b[1;32m      9\u001b[0m \u001b[38;5;28;01mimport\u001b[39;00m \u001b[38;5;21;01mmatplotlib\u001b[39;00m\u001b[38;5;21;01m.\u001b[39;00m\u001b[38;5;21;01mpyplot\u001b[39;00m \u001b[38;5;28;01mas\u001b[39;00m \u001b[38;5;21;01mplt\u001b[39;00m\n\u001b[1;32m     10\u001b[0m random\u001b[38;5;241m.\u001b[39mseed(\u001b[38;5;241m7\u001b[39m)\n",
      "File \u001b[0;32m/home/projects/olink-aging/olink-aging/src/forward_selection.py:4\u001b[0m\n\u001b[1;32m      2\u001b[0m \u001b[38;5;28;01mimport\u001b[39;00m \u001b[38;5;21;01mnumpy\u001b[39;00m \u001b[38;5;28;01mas\u001b[39;00m \u001b[38;5;21;01mnp\u001b[39;00m\n\u001b[1;32m      3\u001b[0m \u001b[38;5;28;01mfrom\u001b[39;00m \u001b[38;5;21;01msklearn\u001b[39;00m\u001b[38;5;21;01m.\u001b[39;00m\u001b[38;5;21;01mlinear_model\u001b[39;00m \u001b[38;5;28;01mimport\u001b[39;00m LinearRegression\n\u001b[0;32m----> 4\u001b[0m \u001b[38;5;28;01mfrom\u001b[39;00m \u001b[38;5;21;01mutils\u001b[39;00m \u001b[38;5;28;01mimport\u001b[39;00m \u001b[38;5;241m*\u001b[39m\n\u001b[1;32m      5\u001b[0m \u001b[38;5;28;01mfrom\u001b[39;00m \u001b[38;5;21;01mmodel_functions\u001b[39;00m \u001b[38;5;28;01mimport\u001b[39;00m \u001b[38;5;241m*\u001b[39m\n\u001b[1;32m      6\u001b[0m \u001b[38;5;28;01mfrom\u001b[39;00m \u001b[38;5;21;01msklearn\u001b[39;00m\u001b[38;5;21;01m.\u001b[39;00m\u001b[38;5;21;01mfeature_selection\u001b[39;00m \u001b[38;5;28;01mimport\u001b[39;00m SequentialFeatureSelector\n",
      "\u001b[0;31mModuleNotFoundError\u001b[0m: No module named 'utils'"
     ]
    }
   ],
   "source": [
    "import pandas as pd\n",
    "import numpy as np\n",
    "from sklearn.linear_model import LinearRegression\n",
    "from sklearn.pipeline import make_pipeline\n",
    "from src.utils import *\n",
    "from model_functions import *\n",
    "from sklearn.feature_selection import SequentialFeatureSelector\n",
    "from src.forward_selection import select_features\n",
    "import matplotlib.pyplot as plt\n",
    "random.seed(7)"
   ]
  },
  {
   "cell_type": "markdown",
   "id": "f82da68b-acb1-4b81-94c4-1dcb7fa1de17",
   "metadata": {},
   "source": [
    "## Proteins ~ metabolites correlations"
   ]
  },
  {
   "cell_type": "code",
   "execution_count": null,
   "id": "c926faa5-8a3b-4cc7-a5c2-90ae0f3129d5",
   "metadata": {},
   "outputs": [],
   "source": [
    "train_cmb_met = pd.read_csv('Data/Processed/MultiOmics/proteins_metabolites_train.csv', index_col = 'eid')\n",
    "train_cmb_mh = pd.read_csv('Data/Processed/MultiOmics/proteins_mh_train.csv', index_col = 'eid')\n",
    "\n",
    "allprot = pd.read_csv('Data/Processed/Full/full_train.csv', index_col = 'eid').corr()\n",
    "corfile = train_cmb_met.corr()"
   ]
  },
  {
   "cell_type": "code",
   "execution_count": null,
   "id": "f46ee0a7-6f4d-47fc-9439-a1638f3b6b61",
   "metadata": {},
   "outputs": [],
   "source": [
    "cor_mh = train_cmb_mh.corr()\n",
    "corr_mh = cor_mh.iloc[-1:,:-1].values"
   ]
  },
  {
   "cell_type": "code",
   "execution_count": null,
   "id": "2a19c0bb-67f6-4b1f-8b5b-34ade5a7cd7a",
   "metadata": {},
   "outputs": [],
   "source": [
    "corrmh = pd.DataFrame({'correlation':corr_mh[0,:], 'Correlations between':\"Proteins + MH\"})\n",
    "corr_prots = corfile.iloc[:344, :344]\n",
    "corr_mets = corfile.iloc[344:, 344:]\n",
    "corr_protmet = corfile.iloc[344:,:]"
   ]
  },
  {
   "cell_type": "code",
   "execution_count": null,
   "id": "aa5cad4f-dafc-450e-9770-b537536c9292",
   "metadata": {},
   "outputs": [],
   "source": [
    "# Extract the lower triangle (including the diagonal)\n",
    "lower_triangle = np.tril(corfile)\n",
    "lower_traingle_allprot = np.tril(allprot)\n",
    "\n",
    "# Set the diagonal to NaN\n",
    "np.fill_diagonal(lower_triangle, np.nan)\n",
    "np.fill_diagonal(lower_traingle_allprot, np.nan)\n",
    "\n",
    "# Replace zeroes with NaN to remove them\n",
    "lower_triangle[lower_triangle == 0] = np.nan\n",
    "lower_traingle_allprot[lower_traingle_allprot == 0] = np.nan\n",
    "\n",
    "# Convert the numpy array back to a DataFrame if needed\n",
    "lower_triangle_df = pd.DataFrame(lower_triangle, index=corfile.index, columns=corfile.columns)\n",
    "\n",
    "#Drop row where we already have all info\n",
    "lower_triangle_df = lower_triangle_df.dropna(how='all').dropna(axis=1, how='all')\n",
    "lower_triangle_df\n",
    "\n",
    "#Select either correlations between proteins, between metabolites, or between metabolites and proteins\n",
    "protsonly = np.array(lower_triangle_df.iloc[:343, :344])\n",
    "metsonly = np.array(lower_triangle_df.iloc[343:, 344:])\n",
    "protmets = np.array(lower_triangle_df.iloc[343:,:344])\n",
    "\n",
    "#remove NaN\n",
    "protsonly = pd.DataFrame({'correlation':protsonly[~np.isnan(protsonly)], 'Correlations between':\"Proteins\"})\n",
    "metsonly = pd.DataFrame({'correlation':metsonly[~np.isnan(metsonly)], 'Correlations between':\"Metabolites\"})\n",
    "protmets = pd.DataFrame({'correlation':protmets[~np.isnan(protmets)], 'Correlations between':\"Proteins + metabolites\"})\n",
    "allprotscor = pd.DataFrame({'correlation':lower_traingle_allprot[~np.isnan(lower_traingle_allprot)], 'Correlations between':\"All proteins\"})\n",
    "\n",
    "#make df \n",
    "coefsdf = pd.concat([protsonly, metsonly, protmets, corrmh, allprotscor])"
   ]
  },
  {
   "cell_type": "code",
   "execution_count": null,
   "id": "ac94591d-c692-4eb3-b854-f98cacaa8a94",
   "metadata": {},
   "outputs": [],
   "source": [
    "coefsdfsub = coefsdf[(coefsdf['Correlations between'] == 'Proteins') | (coefsdf['Correlations between'] == \"All proteins\")]"
   ]
  },
  {
   "cell_type": "code",
   "execution_count": null,
   "id": "4d5e4c42-6507-49cb-90eb-54a032149cc1",
   "metadata": {},
   "outputs": [],
   "source": [
    "corplt = sns.kdeplot(data=coefsdfsub, x=\"correlation\", hue=\"Correlations between\", fill=True, common_norm=False, alpha=0.4)\n",
    "sns.move_legend(\n",
    "    corplt, \"lower center\",\n",
    "    bbox_to_anchor=(.5, 1), ncol=4, title=None, frameon=False,\n",
    ")\n",
    "plt.show()\n",
    "#plt.savefig('cor_multiomics_density.png')"
   ]
  },
  {
   "cell_type": "code",
   "execution_count": null,
   "id": "37f247d1-acf0-4973-a496-837aba8279c8",
   "metadata": {},
   "outputs": [],
   "source": [
    "zien = np.load('output_linear/bootstrap/frailty/metric_frailty_cmb.npy')\n",
    "# Extract the second element from each array\n",
    "second_elements = [arr[1] for arr in zien]\n",
    "\n",
    "# Create a DataFrame with the second elements as a column\n",
    "df = pd.DataFrame(second_elements, columns=['R2'])\n",
    "df\n",
    "\n",
    "corplt = sns.kdeplot(data=df, x=\"R2\", fill=True, common_norm=False, alpha=0.4)\n",
    "plt.show()"
   ]
  },
  {
   "cell_type": "code",
   "execution_count": null,
   "id": "ea8e06c1-b6e7-4b28-8865-28b6dee70adb",
   "metadata": {},
   "outputs": [],
   "source": [
    "pd.read_csv('output_linear/bootstrap/frailty/metric_frailty_cmb.npy')\n",
    "\n",
    "\n",
    "corplt = sns.kdeplot(data=coefsdf, x=\"correlation\", hue=\"Correlations between\", fill=True, common_norm=False, alpha=0.4)\n",
    "sns.move_legend(\n",
    "    corplt, \"lower center\",\n",
    "    bbox_to_anchor=(.5, 1), ncol=4, title=None, frameon=False,\n",
    ")\n",
    "plt.show()\n",
    "plt.savefig('cor_multiomics_density.png')"
   ]
  },
  {
   "cell_type": "code",
   "execution_count": null,
   "id": "846ca1eb-5469-4e80-982b-2cb72fe5097a",
   "metadata": {},
   "outputs": [],
   "source": [
    "fig, ax = plt.subplots(figsize = (10, 10))\n",
    "cor_plot = sns.heatmap(corfile, cmap=\"viridis\", annot=False, ax=ax)\n",
    "plt.title(\"correlation proteins and metabolites\")"
   ]
  },
  {
   "cell_type": "code",
   "execution_count": null,
   "id": "7a230e1a-5cc6-4c7e-9c14-8526752aa5f4",
   "metadata": {},
   "outputs": [],
   "source": [
    "import scipy.cluster.hierarchy as sch\n",
    "\n",
    "linkage = sch.linkage(corfile, method='average', metric='euclidean')\n",
    "dendro = sch.dendrogram(linkage, no_plot=True)\n",
    "reordered_index = dendro['leaves']\n",
    "corfile_reordered = corfile.iloc[reordered_index, reordered_index]\n",
    "fig, ax = plt.subplots(figsize=(10, 10))\n",
    "cor_plot = sns.heatmap(corfile_reordered, cmap=\"viridis\", annot=False, ax=ax, vmin=-1, vmax=1)\n",
    "plt.title(\"Correlations Proteins and Metabolites\")\n",
    "plt.show()\n"
   ]
  },
  {
   "cell_type": "code",
   "execution_count": null,
   "id": "8a4a7650-ad11-4e45-a6fd-26dfcff13fea",
   "metadata": {},
   "outputs": [],
   "source": [
    "linkage = sch.linkage(corr_prots, method='average', metric='euclidean')\n",
    "dendro = sch.dendrogram(linkage, no_plot=True)\n",
    "reordered_index = dendro['leaves']\n",
    "corfile_reordered = corr_prots.iloc[reordered_index, reordered_index]\n",
    "fig, ax = plt.subplots(figsize=(10, 10))\n",
    "cor_plot = sns.heatmap(corfile_reordered, cmap=\"viridis\", annot=False, ax=ax, vmin=-1, vmax=1)\n",
    "plt.title(\"Correlations Proteins Only\")\n",
    "plt.show()\n"
   ]
  },
  {
   "cell_type": "code",
   "execution_count": null,
   "id": "df417f5c-b8fd-4ceb-9e90-ced8c5d4a587",
   "metadata": {},
   "outputs": [],
   "source": [
    "linkage = sch.linkage(corr_mets, method='average', metric='euclidean')\n",
    "dendro = sch.dendrogram(linkage, no_plot=True)\n",
    "reordered_index = dendro['leaves']\n",
    "corfile_reordered = corr_mets.iloc[reordered_index, reordered_index]\n",
    "fig, ax = plt.subplots(figsize=(10, 10))\n",
    "cor_plot = sns.heatmap(corfile_reordered, cmap=\"viridis\", annot=False, ax=ax, vmin=-1, vmax=1)\n",
    "plt.title(\"Correlations Metabolites Only\")\n",
    "plt.show()"
   ]
  },
  {
   "cell_type": "code",
   "execution_count": null,
   "id": "1c8b375b-6eea-4533-8e54-d0dee4fc50eb",
   "metadata": {},
   "outputs": [],
   "source": [
    "linkage = sch.linkage(corr_protmet, method='average', metric='euclidean')\n",
    "dendro = sch.dendrogram(linkage, no_plot=True)\n",
    "reordered_index = dendro['leaves']\n",
    "corfile_reordered = corr_protmet.iloc[reordered_index, reordered_index]\n",
    "fig, ax = plt.subplots(figsize=(10, 10))\n",
    "cor_plot = sns.heatmap(corfile_reordered, cmap=\"viridis\", annot=False, ax=ax, vmin=-1, vmax=1)\n",
    "plt.title(\"Correlations Proteins With Metabolites\")\n",
    "plt.show()"
   ]
  },
  {
   "cell_type": "code",
   "execution_count": null,
   "id": "4b0f75a7-f760-4cbb-bd2e-32677b0fb7b7",
   "metadata": {},
   "outputs": [],
   "source": [
    "corr_protmet.iloc[:,:344].max().hist()"
   ]
  },
  {
   "cell_type": "code",
   "execution_count": null,
   "id": "f7168101-a235-4738-a342-6dd4dde4a06d",
   "metadata": {},
   "outputs": [],
   "source": [
    "# cor_mh = cor_mh.iloc[-1,:]\n",
    "fig, ax = plt.subplots(figsize = (10, 10))\n",
    "cor_plot = sns.heatmap(corr_mh, cmap=\"viridis\", annot=False, ax=ax)\n",
    "plt.title(\"correlation proteins-metabohealth\")\n",
    "\n"
   ]
  },
  {
   "cell_type": "code",
   "execution_count": null,
   "id": "eeb176a1-79ed-434a-8bb8-f8dd3db9636c",
   "metadata": {},
   "outputs": [],
   "source": [
    "corr_mh.transpose().hist()"
   ]
  },
  {
   "cell_type": "markdown",
   "id": "6aa38480-e761-4702-925f-3bde884e65fc",
   "metadata": {
    "jp-MarkdownHeadingCollapsed": true
   },
   "source": [
    "## Plate Effects"
   ]
  },
  {
   "cell_type": "code",
   "execution_count": null,
   "id": "e4d020e5-72f0-43ed-9ad5-ab1ad93dfc06",
   "metadata": {},
   "outputs": [],
   "source": [
    "train, test, eidstrain, eidstest, cols = get_data({'dset':'cmb', 'target':'frailty'})\n",
    "protein = cols[140]\n",
    "\n",
    "proteinind = np.where(cols == protein)[0]\n",
    "\n",
    "GDF15 = pd.DataFrame(train[0][:,proteinind], columns = ['GDF15'], index = eidstrain)"
   ]
  },
  {
   "cell_type": "code",
   "execution_count": null,
   "id": "4792baeb-62ce-4753-b78e-ad947cbb4b3e",
   "metadata": {},
   "outputs": [],
   "source": [
    "platen = pd.read_csv('Data/Olink_UKBB_packageDataFreeze_19Jan2024/67864_olink_0_Instance0_all-info.tab', sep = '\\t', index_col = 'eid')\n",
    "GDF15platen = platen.loc[platen['Assay'] == protein]\n",
    "GDF15complete = GDF15.merge(GDF15platen, left_index =True, right_index = True)"
   ]
  },
  {
   "cell_type": "code",
   "execution_count": null,
   "id": "e2957719-249f-49b2-b1d8-0705c69ea495",
   "metadata": {},
   "outputs": [],
   "source": [
    "sns.boxplot(data = GDF15complete, x='PlateID',y = 'NPX', showfliers = False, width = 1, medianprops={\"color\": \"red\", \"linewidth\": 1}, whis = 0)"
   ]
  },
  {
   "cell_type": "code",
   "execution_count": null,
   "id": "87dbd216-fab7-4d68-8187-42c442b4b9b5",
   "metadata": {},
   "outputs": [],
   "source": [
    "sns.boxplot(data = GDF15complete, x='PlateID',y = 'NPX', showfliers = False, width = 1, medianprops={\"color\": \"red\", \"linewidth\": 1}, whis = 0)"
   ]
  },
  {
   "cell_type": "code",
   "execution_count": null,
   "id": "560453f8-8ce1-40b6-9aae-43ce2a98e8f5",
   "metadata": {},
   "outputs": [],
   "source": [
    "sns.boxplot(data = GDF15complete, x='Batch',y = 'GDF15')"
   ]
  },
  {
   "cell_type": "markdown",
   "id": "d78ad8bf-7215-46f0-95c5-37345449c028",
   "metadata": {
    "jp-MarkdownHeadingCollapsed": true
   },
   "source": [
    "## Forward Feature selection"
   ]
  },
  {
   "cell_type": "code",
   "execution_count": 11,
   "id": "b10a5664-8d92-4f75-b189-f9347a4a66ac",
   "metadata": {},
   "outputs": [],
   "source": [
    "ranking_ft_cmb = np.load(\"output_linear/rsquared/ffs_ranking_cmb.npy\")\n",
    "ranking_ft_cmb_met = np.load(\"output_linear/rsquared/ffs_ranking_cmb_met.npy\")"
   ]
  },
  {
   "cell_type": "code",
   "execution_count": 13,
   "id": "5519518a-af1e-4745-bb5b-e097f3569c01",
   "metadata": {},
   "outputs": [
    {
     "data": {
      "image/png": "[encoded data removed]",
      "text/plain": [
       "<Figure size 432x288 with 1 Axes>"
      ]
     },
     "metadata": {
      "needs_background": "light"
     },
     "output_type": "display_data"
    }
   ],
   "source": [
    "plt.plot(ranking_ft_cmb_met)\n",
    "plt.title(\"Cmb_met\")\n",
    "plt.xlabel(\"n_proteins/metabolites\")\n",
    "plt.ylabel(\"rsquared\")\n",
    "plt.grid()"
   ]
  },
  {
   "cell_type": "code",
   "execution_count": 12,
   "id": "21bcd740-faad-4ec3-a8c8-f592c10b7fdc",
   "metadata": {},
   "outputs": [
    {
     "data": {
      "image/png": "[encoded data removed]",
      "text/plain": [
       "<Figure size 432x288 with 1 Axes>"
      ]
     },
     "metadata": {
      "needs_background": "light"
     },
     "output_type": "display_data"
    }
   ],
   "source": [
    "plt.plot(ranking_ft_cmb)\n",
    "plt.xlabel(\"n_proteins\")\n",
    "plt.ylabel(\"R2_score\")\n",
    "plt.grid()"
   ]
  },
  {
   "cell_type": "code",
   "execution_count": null,
   "id": "b688f69b-06b2-4bb6-90fe-b178d1b750ed",
   "metadata": {},
   "outputs": [],
   "source": []
  },
  {
   "cell_type": "markdown",
   "id": "2e6f64d2-6f0f-47ab-8a92-337af18c17bf",
   "metadata": {},
   "source": [
    "### Mortality stats"
   ]
  },
  {
   "cell_type": "code",
   "execution_count": null,
   "id": "cd4dc301-811f-4a0f-8fad-22d0095216dd",
   "metadata": {},
   "outputs": [],
   "source": [
    "train, val, train_eids, val_eids = get_data({'dset' : \"cmb\", \"target\" : \"mort\"})\n",
    "meta_val = meta.loc[meta['eid'].isin(val_eids)]\n",
    "meta_train = meta.loc[meta['eid'].isin(train_eids)]"
   ]
  },
  {
   "cell_type": "code",
   "execution_count": null,
   "id": "e50e7f05-58ea-44eb-a329-80ee172e635e",
   "metadata": {},
   "outputs": [],
   "source": [
    "train_dead = meta_train.loc[meta_train['died'] == 1]\n",
    "train_dead.hist('followup')"
   ]
  },
  {
   "cell_type": "markdown",
   "id": "75c90833-3a2e-437f-b0b4-8d44a7a4fc39",
   "metadata": {
    "jp-MarkdownHeadingCollapsed": true
   },
   "source": [
    "## TSNEs"
   ]
  },
  {
   "cell_type": "code",
   "execution_count": null,
   "id": "c70bccc9-3d35-4849-910e-01bdfcbde1bd",
   "metadata": {},
   "outputs": [],
   "source": [
    "prefix = \"Data/Processed/Full\"\n",
    "\n",
    "allprot_train_df = pd.read_csv(prefix + \"/full_train.csv\")\n",
    "allprot_val_df = pd.read_csv(prefix + \"/full_val.csv\")\n",
    "\n",
    "cmb_train_df = pd.read_csv(prefix + \"/full_train_cmb.csv\")\n",
    "cmb_val_df = pd.read_csv(prefix + \"/full_val_cmb.csv\")\n",
    "\n",
    "basicinfo = pd.read_csv(\"Data/basicinfo_instance_0.csv\")\n",
    "FI = pd.read_csv(\"Data/UKB_FIscores.csv\")\n",
    "FI['eid'] = FI['eid'].astype(int)"
   ]
  },
  {
   "cell_type": "code",
   "execution_count": null,
   "id": "8b1aa21f-07d7-4070-bb30-f1e66b9563d6",
   "metadata": {},
   "outputs": [],
   "source": [
    "allprots_arr = allprot_train_df.drop(columns = ['eid']).values\n",
    "allprots_norm = StandardScaler().fit_transform(allprots_arr)\n",
    "\n",
    "allprots_pca = PCA(n_components = 50).fit_transform(allprots_norm)\n",
    "allprots_tsne = TSNE(perplexity=50).fit_transform(allprots_pca)"
   ]
  },
  {
   "cell_type": "code",
   "execution_count": null,
   "id": "0bdfb4c2-74b6-47fd-a711-1ca02d2045e7",
   "metadata": {},
   "outputs": [],
   "source": [
    "tsne_df = pd.DataFrame(allprots_tsne, columns = ['tsne_0', 'tsne_1'])\n",
    "\n",
    "tsne_df['eid'] = allprot_train_df['eid']\n",
    "full_df = tsne_df.merge(basicinfo, on = 'eid').merge(FI, on = \"eid\")\n"
   ]
  },
  {
   "cell_type": "code",
   "execution_count": null,
   "id": "f70b662b-dc76-4013-bf75-61864b5cf8cb",
   "metadata": {},
   "outputs": [],
   "source": [
    "sns.scatterplot(data = full_df, x = 'tsne_0', y = 'tsne_1', hue = 'sex', s = 1)"
   ]
  },
  {
   "cell_type": "code",
   "execution_count": null,
   "id": "abf0aeb9-e2c4-4a1d-b7cf-c8966b79aa49",
   "metadata": {},
   "outputs": [],
   "source": [
    "sns.scatterplot(data = full_df, x = 'tsne_0', y = 'tsne_1', hue = 'center', s = 1)"
   ]
  },
  {
   "cell_type": "code",
   "execution_count": null,
   "id": "77706352-6d9d-4060-880b-5e77def06b92",
   "metadata": {},
   "outputs": [],
   "source": [
    "cmap = sns.cubehelix_palette(rot=0.2, as_cmap = True)\n",
    "norm = plt.Normalize(full_df['age_center.0.0'].min(), full_df['age_center.0.0'].max())\n",
    "sm = plt.cm.ScalarMappable(cmap = cmap, norm = norm )\n",
    "ax = sns.scatterplot(data = full_df, x= 'tsne_0', y = 'tsne_1', hue = 'age_center.0.0', palette =cmap, legend = False, s= 1)\n",
    "ax.figure.colorbar(sm, ax = ax, label = \"age\")"
   ]
  },
  {
   "cell_type": "code",
   "execution_count": null,
   "id": "6b7d5179-3eba-4f18-90a3-0193524e9872",
   "metadata": {},
   "outputs": [],
   "source": [
    "cmap = sns.cubehelix_palette(rot=0.2, as_cmap = True)\n",
    "norm = plt.Normalize(full_df['FI_0'].min(), full_df['FI_0'].max())\n",
    "sm = plt.cm.ScalarMappable(cmap = cmap, norm = norm )\n",
    "ax = sns.scatterplot(data = full_df, x= 'tsne_0', y = 'tsne_1', hue = 'FI_0', palette =cmap, legend = False, s= 1)\n",
    "ax.figure.colorbar(sm, ax = ax, label = \"frailty\")"
   ]
  }
 ],
 "metadata": {
  "kernelspec": {
   "display_name": "Python 3 (ipykernel)",
   "language": "python",
   "name": "python3"
  },
  "language_info": {
   "codemirror_mode": {
    "name": "ipython",
    "version": 3
   },
   "file_extension": ".py",
   "mimetype": "text/x-python",
   "name": "python",
   "nbconvert_exporter": "python",
   "pygments_lexer": "ipython3",
   "version": "3.12.1"
  }
 },
 "nbformat": 4,
 "nbformat_minor": 5
}
