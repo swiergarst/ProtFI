{
 "cells": [
  {
   "cell_type": "code",
   "execution_count": 22,
   "id": "88150a2e-a6ce-4119-9f43-ba1887214c77",
   "metadata": {},
   "outputs": [],
   "source": [
    "# load and summarize the housing dataset\n",
    "import numpy as np\n",
    "import pandas as pd\n",
    "import warnings\n",
    "import random\n",
    "\n",
    "random.seed(7)\n",
    "\n",
    "from sklearn.metrics import mean_squared_error\n",
    "from matplotlib import pyplot as plt\n",
    "from sklearn.model_selection import cross_val_score, KFold, RepeatedKFold, GridSearchCV\n",
    "from sklearn.linear_model import ElasticNet, ElasticNetCV\n",
    "from sklearn.pipeline import make_pipeline\n",
    "from sklearn.preprocessing import StandardScaler, PowerTransformer"
   ]
  },
  {
   "cell_type": "code",
   "execution_count": 30,
   "id": "6ec68d3f-c06a-4eb4-a3ce-6e921cce7ab8",
   "metadata": {},
   "outputs": [
    {
     "name": "stdout",
     "output_type": "stream",
     "text": [
      "(28465, 1429)\n"
     ]
    }
   ],
   "source": [
    "#All participants\n",
    "trainset_allprot = pd.read_csv('Data/Processed/Full/full_train.csv', index_col = 'eid') #proteins\n",
    "age = pd.read_csv('./Data/basicinfo.csv', low_memory=False, index_col = 'eid') #age\n",
    "age = age[['age_center.0.0']]\n",
    "age = age.rename(columns={'age_center.0.0': 'age'})\n",
    "trainset_allprot = trainset_allprot.join(age)\n",
    "frailty = pd.read_csv(\"Data/frailty_clean_train.csv\", index_col = 'eid') #frailty\n",
    "#frailty = pd.read_csv(\"Data/UKB_FIscores.csv\", index_col = 'eid') #frailty\n",
    "##Make sure we have protein data\n",
    "#frailty = frailty[frailty.index.isin(trainset_allprot.index)]\n",
    "#frailty = frailty[['FI_0']] #Only keep FI_0 that is the cross-sectional frailty\n",
    "\n",
    "#Same order\n",
    "#frailty = frailty.reindex(trainset_allprot.index)\n",
    "#print(frailty.shape)\n",
    "#print(frailty.head())\n",
    "#Remove NA\n",
    "#frailty.dropna(inplace= True)\n",
    "trainset_allprot = trainset_allprot[trainset_allprot.index.isin(frailty.index)]\n",
    "print(trainset_allprot.shape)"
   ]
  },
  {
   "cell_type": "code",
   "execution_count": 6,
   "id": "c1052765-1bfd-4c45-8b0e-68f1c57a9f72",
   "metadata": {},
   "outputs": [],
   "source": [
    "#frailty.to_csv('./Data/frailty_clean_train.csv')"
   ]
  },
  {
   "cell_type": "code",
   "execution_count": 31,
   "id": "a2fae4ce-646d-4f60-a731-be3788f96f61",
   "metadata": {},
   "outputs": [
    {
     "data": {
      "text/plain": [
       "count    28465.000000\n",
       "mean        56.966380\n",
       "std          8.169476\n",
       "min         40.000000\n",
       "25%         51.000000\n",
       "50%         58.000000\n",
       "75%         64.000000\n",
       "max         70.000000\n",
       "Name: age, dtype: float64"
      ]
     },
     "execution_count": 31,
     "metadata": {},
     "output_type": "execute_result"
    }
   ],
   "source": [
    "trainset_allprot['age'].describe()"
   ]
  },
  {
   "cell_type": "code",
   "execution_count": 32,
   "id": "94739937-b54d-4ade-b801-be30de10414c",
   "metadata": {},
   "outputs": [
    {
     "data": {
      "text/html": [
       "<div>\n",
       "<style scoped>\n",
       "    .dataframe tbody tr th:only-of-type {\n",
       "        vertical-align: middle;\n",
       "    }\n",
       "\n",
       "    .dataframe tbody tr th {\n",
       "        vertical-align: top;\n",
       "    }\n",
       "\n",
       "    .dataframe thead th {\n",
       "        text-align: right;\n",
       "    }\n",
       "</style>\n",
       "<table border=\"1\" class=\"dataframe\">\n",
       "  <thead>\n",
       "    <tr style=\"text-align: right;\">\n",
       "      <th></th>\n",
       "      <th>FI_0</th>\n",
       "    </tr>\n",
       "    <tr>\n",
       "      <th>eid</th>\n",
       "      <th></th>\n",
       "    </tr>\n",
       "  </thead>\n",
       "  <tbody>\n",
       "    <tr>\n",
       "      <th>1000041</th>\n",
       "      <td>0.193878</td>\n",
       "    </tr>\n",
       "    <tr>\n",
       "      <th>1000086</th>\n",
       "      <td>0.076531</td>\n",
       "    </tr>\n",
       "    <tr>\n",
       "      <th>1000181</th>\n",
       "      <td>0.137755</td>\n",
       "    </tr>\n",
       "    <tr>\n",
       "      <th>1000345</th>\n",
       "      <td>0.012245</td>\n",
       "    </tr>\n",
       "    <tr>\n",
       "      <th>1000374</th>\n",
       "      <td>0.005102</td>\n",
       "    </tr>\n",
       "    <tr>\n",
       "      <th>...</th>\n",
       "      <td>...</td>\n",
       "    </tr>\n",
       "    <tr>\n",
       "      <th>6018250</th>\n",
       "      <td>0.373469</td>\n",
       "    </tr>\n",
       "    <tr>\n",
       "      <th>5520133</th>\n",
       "      <td>0.188776</td>\n",
       "    </tr>\n",
       "    <tr>\n",
       "      <th>2176533</th>\n",
       "      <td>0.091837</td>\n",
       "    </tr>\n",
       "    <tr>\n",
       "      <th>4888291</th>\n",
       "      <td>0.214286</td>\n",
       "    </tr>\n",
       "    <tr>\n",
       "      <th>5000195</th>\n",
       "      <td>0.209184</td>\n",
       "    </tr>\n",
       "  </tbody>\n",
       "</table>\n",
       "<p>28465 rows × 1 columns</p>\n",
       "</div>"
      ],
      "text/plain": [
       "             FI_0\n",
       "eid              \n",
       "1000041  0.193878\n",
       "1000086  0.076531\n",
       "1000181  0.137755\n",
       "1000345  0.012245\n",
       "1000374  0.005102\n",
       "...           ...\n",
       "6018250  0.373469\n",
       "5520133  0.188776\n",
       "2176533  0.091837\n",
       "4888291  0.214286\n",
       "5000195  0.209184\n",
       "\n",
       "[28465 rows x 1 columns]"
      ]
     },
     "execution_count": 32,
     "metadata": {},
     "output_type": "execute_result"
    }
   ],
   "source": [
    "frailty"
   ]
  },
  {
   "cell_type": "code",
   "execution_count": 33,
   "id": "df69c64b-0115-43d2-ad86-e26fc7e32def",
   "metadata": {},
   "outputs": [
    {
     "data": {
      "image/png": "[encoded data removed]",
      "text/plain": [
       "<Figure size 640x480 with 1 Axes>"
      ]
     },
     "metadata": {},
     "output_type": "display_data"
    }
   ],
   "source": [
    "plt.hist(frailty['FI_0'].values)\n",
    "plt.show() "
   ]
  },
  {
   "cell_type": "code",
   "execution_count": 20,
   "id": "40867b89-0aea-49ba-8d5a-e04fd9f51e09",
   "metadata": {},
   "outputs": [
    {
     "data": {
      "image/png": "[encoded data removed]",
      "text/plain": [
       "<Figure size 640x480 with 1 Axes>"
      ]
     },
     "metadata": {},
     "output_type": "display_data"
    }
   ],
   "source": [
    "X = trainset_allprot\n",
    "yj = PowerTransformer(method=\"yeo-johnson\")\n",
    "yyj = yj.fit_transform(frailty['FI_0'].values.reshape(-1, 1))\n",
    "\n",
    "plt.hist(yyj)\n",
    "plt.show()"
   ]
  },
  {
   "cell_type": "code",
   "execution_count": 17,
   "id": "5e1ec34f-2b79-42ad-a945-ca4f64ad8d1a",
   "metadata": {},
   "outputs": [
    {
     "data": {
      "text/plain": [
       "count    28465.000000\n",
       "mean         0.128707\n",
       "std          0.077606\n",
       "min          0.000000\n",
       "25%          0.071429\n",
       "50%          0.113265\n",
       "75%          0.168367\n",
       "max          0.538776\n",
       "Name: FI_0, dtype: float64"
      ]
     },
     "execution_count": 17,
     "metadata": {},
     "output_type": "execute_result"
    }
   ],
   "source": [
    "frailty['FI_0'].describe()"
   ]
  },
  {
   "cell_type": "code",
   "execution_count": null,
   "id": "f4ff148a-472c-4e71-8d06-4f0fea58abb1",
   "metadata": {},
   "outputs": [],
   "source": []
  },
  {
   "cell_type": "code",
   "execution_count": null,
   "id": "89a22037-29f6-40c3-88b9-3bdb7048f439",
   "metadata": {},
   "outputs": [],
   "source": []
  },
  {
   "cell_type": "code",
   "execution_count": 21,
   "id": "9336bc11-a2b4-46e6-8570-8e7f176ab122",
   "metadata": {},
   "outputs": [],
   "source": [
    "X = trainset_allprot\n",
    "yj = PowerTransformer(method=\"yeo-johnson\")\n",
    "#y = yj.fit_transform(frailty['FI_0'].values.reshape(-1, 1))\n",
    "y=frailty['FI_0'].values\n",
    "\n",
    "l1_ratios = np.arange(0.1, 1, 0.01)\n",
    "#Save results\n",
    "scores = np.zeros((len(l1_ratios), 2))\n",
    "best_coefs = pd.DataFrame(0, index=X.columns, columns=[\"coefficient\"])\n",
    "C=10**15\n",
    "#Loop through L1_ratios\n",
    "for i, l1_ratio in enumerate(l1_ratios):\n",
    "    elastic_cv_pipeline = make_pipeline(StandardScaler(),\n",
    "                                  ElasticNetCV(l1_ratio=l1_ratio, cv=5, max_iter=100000))\n",
    "    elastic_cv_pipeline.fit(X, y)\n",
    "    y_pred = elastic_cv_pipeline.predict(X=X)\n",
    "    MSE = mean_squared_error(y_true=y, y_pred=y_pred)\n",
    "\n",
    "    scores[i,0]=elastic_cv_pipeline[1].alpha_\n",
    "    scores[i,1]=MSE\n",
    "    if scores[i,1] < C:\n",
    "        C = MSE\n",
    "        best_coefs = pd.DataFrame(elastic_cv_pipeline[1].coef_, index=X.columns, columns=[\"coefficient\"])"
   ]
  },
  {
   "cell_type": "code",
   "execution_count": 60,
   "id": "2d4cb0bb-db13-4f65-908d-537e7d769436",
   "metadata": {},
   "outputs": [],
   "source": [
    "# X = trainset_allprot\n",
    "# y = frailty['FI_0'].values\n",
    "\n",
    "# l1_ratios = np.arange(0.1, 1, 0.01)\n",
    "# #Save results\n",
    "# scores = np.zeros((len(l1_ratios), 2))\n",
    "# best_coefs = pd.DataFrame(0, index=X.columns, columns=[\"coefficient\"])\n",
    "# C=10**15\n",
    "# #Loop through L1_ratios\n",
    "# for i, l1_ratio in enumerate(l1_ratios):\n",
    "#     elastic_cv_pipeline = make_pipeline(StandardScaler(),\n",
    "#                                   ElasticNetCV(l1_ratio=l1_ratio, cv=5))\n",
    "#     elastic_cv_pipeline.fit(X, y)\n",
    "#     scores[i,0]=elastic_cv_pipeline[1].alpha_\n",
    "#     scores[i,1]=elastic_cv_pipeline[1].mse_path_.min()\n",
    "#     if scores[i,1] < C:\n",
    "#         C = elastic_cv_pipeline[1].mse_path_.min()\n",
    "#         best_coefs = pd.DataFrame(elastic_cv_pipeline[1].coef_, index=X.columns, columns=[\"coefficient\"])"
   ]
  },
  {
   "cell_type": "code",
   "execution_count": null,
   "id": "81b88a33-4ce3-401c-a1bc-7e6fcce08c42",
   "metadata": {},
   "outputs": [],
   "source": [
    "#Save to numpy array\n",
    "with open(\"scores_allprot_frailty.npy\", \"wb\") as f:\n",
    "     np.save(f, scores)"
   ]
  },
  {
   "cell_type": "code",
   "execution_count": null,
   "id": "c494b241-6cb5-440f-8a30-4adf33518339",
   "metadata": {},
   "outputs": [],
   "source": [
    "best_coefs.to_csv('coefs_frailty_allprot.csv')"
   ]
  }
 ],
 "metadata": {
  "kernelspec": {
   "display_name": "Python 3 (ipykernel)",
   "language": "python",
   "name": "python3"
  },
  "language_info": {
   "codemirror_mode": {
    "name": "ipython",
    "version": 3
   },
   "file_extension": ".py",
   "mimetype": "text/x-python",
   "name": "python",
   "nbconvert_exporter": "python",
   "pygments_lexer": "ipython3",
   "version": "3.11.5"
  }
 },
 "nbformat": 4,
 "nbformat_minor": 5
}
