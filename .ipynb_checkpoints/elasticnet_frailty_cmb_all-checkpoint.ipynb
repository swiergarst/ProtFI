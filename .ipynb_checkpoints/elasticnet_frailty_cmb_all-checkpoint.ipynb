{
 "cells": [
  {
   "cell_type": "code",
   "execution_count": 1,
   "id": "88150a2e-a6ce-4119-9f43-ba1887214c77",
   "metadata": {},
   "outputs": [
    {
     "name": "stderr",
     "output_type": "stream",
     "text": [
      "/tmp/ipykernel_513696/2654329975.py:3: DeprecationWarning: \n",
      "Pyarrow will become a required dependency of pandas in the next major release of pandas (pandas 3.0),\n",
      "(to allow more performant data types, such as the Arrow string type, and better interoperability with other libraries)\n",
      "but was not found to be installed on your system.\n",
      "If this would cause problems for you,\n",
      "please provide us feedback at https://github.com/pandas-dev/pandas/issues/54466\n",
      "        \n",
      "  import pandas as pd\n"
     ]
    }
   ],
   "source": [
    "# load and summarize the housing dataset\n",
    "import numpy as np\n",
    "import pandas as pd\n",
    "import warnings\n",
    "import random\n",
    "from utils import *\n",
    "from model_functions import *\n",
    "\n",
    "random.seed(7)\n",
    "\n",
    "from sklearn.metrics import mean_squared_error\n",
    "from matplotlib import pyplot as plt\n",
    "from sklearn.model_selection import cross_val_score, KFold, RepeatedKFold, GridSearchCV\n",
    "from sklearn.linear_model import ElasticNet, ElasticNetCV\n",
    "from sklearn.pipeline import make_pipeline\n",
    "from sklearn.preprocessing import StandardScaler, PowerTransformer"
   ]
  },
  {
   "cell_type": "code",
   "execution_count": 2,
   "id": "6ec68d3f-c06a-4eb4-a3ce-6e921cce7ab8",
   "metadata": {},
   "outputs": [],
   "source": [
    "#All participants\n",
    "trainset_cmb, set2_cmb, eids_train_all, eids_set2_all = get_data({'dset':'cmb', 'target':'frailty'})\n",
    "#Set with metabolomics\n",
    "trainset_cmb_mh, set2_cmb_mh, eids_train, eids_set2 = get_data({'dset':'cmb_mh', 'target':'frailty'})\n",
    "\n",
    "#Remove MetaboHealth -one before last one- from training set\n",
    "# For trainset_cmb_met\n",
    "trainset_cmb_met_data = np.hstack((trainset_cmb_mh[0][:, :-2], trainset_cmb_mh[0][:, -1:]))\n",
    "trainset_cmb_met = (trainset_cmb_met_data, trainset_cmb_mh[1])\n",
    "\n",
    "# For set2_cmb_met\n",
    "set2_cmb_met_data = np.hstack((set2_cmb_mh[0][:, :-2], set2_cmb_mh[0][:, -1:]))\n",
    "set2_cmb_met = (set2_cmb_met_data, set2_cmb_mh[1])"
   ]
  },
  {
   "cell_type": "code",
   "execution_count": 4,
   "id": "178c57d5-0152-423d-b36a-57e4365bd52a",
   "metadata": {},
   "outputs": [
    {
     "data": {
      "text/plain": [
       "(15050, 345)"
      ]
     },
     "execution_count": 4,
     "metadata": {},
     "output_type": "execute_result"
    }
   ],
   "source": [
    "trainset_cmb_met[0].shape"
   ]
  },
  {
   "cell_type": "code",
   "execution_count": null,
   "id": "43c55c9d-490b-4684-bce7-11faf5c00ed0",
   "metadata": {},
   "outputs": [],
   "source": [
    "#Save names\n",
    "trainset_cmb_met_names = pd.read_csv('Data/Processed/Combined/combined_train_cmb.csv', index_col = 'eid').columns\n",
    "trainset_cmb_met_names = list(trainset_cmb_met_names)\n",
    "trainset_cmb_met_names.append('age')\n",
    "trainset_names_use = pd.Index(trainset_cmb_met_names)"
   ]
  },
  {
   "cell_type": "code",
   "execution_count": null,
   "id": "f4ff148a-472c-4e71-8d06-4f0fea58abb1",
   "metadata": {},
   "outputs": [],
   "source": [
    "best_coefs_all, scores_all, R2_save_all, new_col_all = find_best_lm_model(trainset_cmb, trainset_names_use, set2_cmb, 'en_fi_cmb')\n",
    "best_coefs, scores, R2_save, new_col = find_best_lm_model(trainset_cmb_met, trainset_names_use, set2_cmb_met, 'en_fi_cmb_metset')"
   ]
  },
  {
   "cell_type": "code",
   "execution_count": null,
   "id": "89a22037-29f6-40c3-88b9-3bdb7048f439",
   "metadata": {},
   "outputs": [],
   "source": [
    "#Save output\n",
    "with open(\"./output_lieke/scores_frail/scores_frailty_cmb.npy\", \"wb\") as f:\n",
    "      np.save(f, scores_all)\n",
    "best_coefs_all.to_csv('./output_lieke/coefs_frail/coefs_frailty_cmb.csv')\n",
    "new_col_all.to_csv('./output_lieke/set2frail/en_frailty_cmb_set2.csv')\n",
    "with open(\"./output_lieke/rsquared/R2_cmb.npy\", \"wb\") as r:\n",
    "      np.save(r, R2_save_all)"
   ]
  },
  {
   "cell_type": "code",
   "execution_count": null,
   "id": "cb5c24cf-67f1-4351-8b32-0f799ed1d2a1",
   "metadata": {},
   "outputs": [],
   "source": [
    "#Save output\n",
    "with open(\"./output_lieke/scores_frail/scores_frailty_cmb_metset.npy\", \"wb\") as f:\n",
    "      np.save(f, scores)\n",
    "best_coefs.to_csv('./output_lieke/coefs_frail/coefs_frailty_cmb_metset.csv')\n",
    "new_col.to_csv('./output_lieke/set2frail/en_frailty_cmb_metset_set2.csv')\n",
    "with open(\"./output_lieke/rsquared/R2_cmb_metset.npy\", \"wb\") as r:\n",
    "      np.save(r, R2_save)"
   ]
  },
  {
   "cell_type": "code",
   "execution_count": 6,
   "id": "c1052765-1bfd-4c45-8b0e-68f1c57a9f72",
   "metadata": {},
   "outputs": [],
   "source": [
    "#frailty.to_csv('./Data/frailty_clean_train.csv')"
   ]
  },
  {
   "cell_type": "code",
   "execution_count": 21,
   "id": "9336bc11-a2b4-46e6-8570-8e7f176ab122",
   "metadata": {},
   "outputs": [],
   "source": [
    "# X = trainset_cmb\n",
    "# yj = PowerTransformer(method=\"yeo-johnson\")\n",
    "# #y = yj.fit_transform(frailty['FI_0'].values.reshape(-1, 1))\n",
    "# y=frailty['FI_0'].values\n",
    "\n",
    "# l1_ratios = np.arange(0.1, 1, 0.01)\n",
    "# #Save results\n",
    "# scores = np.zeros((len(l1_ratios), 2))\n",
    "# best_coefs = pd.DataFrame(0, index=X.columns, columns=[\"coefficient\"])\n",
    "# C=10**15\n",
    "# #Loop through L1_ratios\n",
    "# for i, l1_ratio in enumerate(l1_ratios):\n",
    "#     elastic_cv_pipeline = make_pipeline(StandardScaler(),\n",
    "#                                   ElasticNetCV(l1_ratio=l1_ratio, cv=5, max_iter=100000))\n",
    "#     elastic_cv_pipeline.fit(X, y)\n",
    "#     y_pred = elastic_cv_pipeline.predict(X=X)\n",
    "#     MSE = mean_squared_error(y_true=y, y_pred=y_pred)\n",
    "\n",
    "#     scores[i,0]=elastic_cv_pipeline[1].alpha_\n",
    "#     scores[i,1]=MSE\n",
    "#     if scores[i,1] < C:\n",
    "#         C = MSE\n",
    "#         best_coefs = pd.DataFrame(elastic_cv_pipeline[1].coef_, index=X.columns, columns=[\"coefficient\"])"
   ]
  },
  {
   "cell_type": "code",
   "execution_count": 60,
   "id": "2d4cb0bb-db13-4f65-908d-537e7d769436",
   "metadata": {},
   "outputs": [],
   "source": [
    "# X = trainset_allprot\n",
    "# y = frailty['FI_0'].values\n",
    "\n",
    "# l1_ratios = np.arange(0.1, 1, 0.01)\n",
    "# #Save results\n",
    "# scores = np.zeros((len(l1_ratios), 2))\n",
    "# best_coefs = pd.DataFrame(0, index=X.columns, columns=[\"coefficient\"])\n",
    "# C=10**15\n",
    "# #Loop through L1_ratios\n",
    "# for i, l1_ratio in enumerate(l1_ratios):\n",
    "#     elastic_cv_pipeline = make_pipeline(StandardScaler(),\n",
    "#                                   ElasticNetCV(l1_ratio=l1_ratio, cv=5))\n",
    "#     elastic_cv_pipeline.fit(X, y)\n",
    "#     scores[i,0]=elastic_cv_pipeline[1].alpha_\n",
    "#     scores[i,1]=elastic_cv_pipeline[1].mse_path_.min()\n",
    "#     if scores[i,1] < C:\n",
    "#         C = elastic_cv_pipeline[1].mse_path_.min()\n",
    "#         best_coefs = pd.DataFrame(elastic_cv_pipeline[1].coef_, index=X.columns, columns=[\"coefficient\"])"
   ]
  },
  {
   "cell_type": "code",
   "execution_count": null,
   "id": "81b88a33-4ce3-401c-a1bc-7e6fcce08c42",
   "metadata": {},
   "outputs": [],
   "source": [
    "# #Save to numpy array\n",
    "# with open(\"scores_cmb_frailty.npy\", \"wb\") as f:\n",
    "#      np.save(f, scores)"
   ]
  },
  {
   "cell_type": "code",
   "execution_count": null,
   "id": "c494b241-6cb5-440f-8a30-4adf33518339",
   "metadata": {},
   "outputs": [],
   "source": [
    "# best_coefs.to_csv('coefs_frailty_cmb.csv')"
   ]
  }
 ],
 "metadata": {
  "kernelspec": {
   "display_name": "Python 3 (ipykernel)",
   "language": "python",
   "name": "python3"
  },
  "language_info": {
   "codemirror_mode": {
    "name": "ipython",
    "version": 3
   },
   "file_extension": ".py",
   "mimetype": "text/x-python",
   "name": "python",
   "nbconvert_exporter": "python",
   "pygments_lexer": "ipython3",
   "version": "3.12.1"
  }
 },
 "nbformat": 4,
 "nbformat_minor": 5
}
