{
 "cells": [
  {
   "cell_type": "code",
   "execution_count": 1,
   "id": "eca89d2a-4335-42f9-9be0-ca2535de6887",
   "metadata": {},
   "outputs": [
    {
     "name": "stdout",
     "output_type": "stream",
     "text": [
      "(28487, 1428)\n",
      "          AARSD1  ABHD14B    ABL1   ACAA1    ACAN     ACE2   ACOX1    ACP5  \\\n",
      "eid                                                                          \n",
      "1000041  0.34760  -0.1879 -0.3896  0.1511  0.5124 -0.28310  0.2759 -0.3092   \n",
      "1000086  0.76670   0.1949 -0.5907 -2.0024  0.1910  0.05565 -0.5210 -0.0292   \n",
      "1000181 -0.43050  -0.3222 -0.3300 -0.5217 -0.4388 -0.33185 -0.3997 -0.4358   \n",
      "1000345  0.31910   0.5591  0.4769 -0.2783  0.2849  0.16560  0.0844 -0.0938   \n",
      "1000374 -0.19775  -1.1510 -0.5480  0.6309  0.1449  0.76155  0.1626 -0.3390   \n",
      "\n",
      "           ACP6   ACTA2  ...   WNT9A    WWP2    XCL1      XG  XPNPEP2  \\\n",
      "eid                      ...                                            \n",
      "1000041 -0.2001 -0.3444  ... -0.1501  0.1150 -1.1485 -0.1583   1.0802   \n",
      "1000086 -0.3807 -0.3239  ... -0.1429 -0.4454  0.2656 -0.1033   1.5979   \n",
      "1000181  0.0848  0.0293  ... -0.0308 -0.0307  0.3940  0.1194  -0.8755   \n",
      "1000345  0.0633 -0.0207  ...  0.0618  0.3204 -0.3574 -0.5261  -0.3112   \n",
      "1000374  0.2148 -0.5160  ... -0.2785 -0.6922 -0.4396  0.3552   1.0192   \n",
      "\n",
      "           XRCC4    YES1   YTHDF3   ZBTB16  ZBTB17  \n",
      "eid                                                 \n",
      "1000041  0.00705 -0.5165 -0.20180 -0.39815 -0.7475  \n",
      "1000086 -0.83675 -1.1427 -1.48585 -0.55125 -0.0230  \n",
      "1000181  0.18495 -0.2938 -0.43035 -0.27505 -0.4865  \n",
      "1000345 -0.18660  1.0092  0.96570  0.36930  0.3052  \n",
      "1000374 -0.12455 -1.4010 -1.59375 -0.98945 -0.3631  \n",
      "\n",
      "[5 rows x 1428 columns]\n"
     ]
    }
   ],
   "source": [
    "# load and summarize the housing dataset\n",
    "import numpy as np\n",
    "import pandas as pd\n",
    "import warnings\n",
    "import random\n",
    "\n",
    "random.seed(7)\n",
    "\n",
    "from matplotlib import pyplot as plt\n",
    "from sklearn.model_selection import cross_val_score, KFold, GridSearchCV\n",
    "from sklearn.linear_model import ElasticNet\n",
    "from sksurv.linear_model import CoxnetSurvivalAnalysis as CoxPH\n",
    "from sksurv.metrics import concordance_index_censored\n",
    "from sklearn.exceptions import FitFailedWarning\n",
    "from sklearn.pipeline import make_pipeline\n",
    "from sklearn.preprocessing import StandardScaler\n",
    "\n",
    "proteins = pd.read_csv('Data/Processed/Full/full_train.csv', index_col = 'eid')\n",
    "# summarize shape\n",
    "print(proteins.shape) #1428 proteins\n",
    "# summarize first few lines\n",
    "print(proteins.head())"
   ]
  },
  {
   "cell_type": "code",
   "execution_count": 2,
   "id": "071b6c99-79cd-447c-bcf6-e437ed008876",
   "metadata": {},
   "outputs": [
    {
     "name": "stdout",
     "output_type": "stream",
     "text": [
      "         Unnamed: 0  died  censorage  sex\n",
      "eid                                      \n",
      "1000041           3     0  77.678987  1.0\n",
      "1000086           7     0  60.144422  1.0\n",
      "1000181          17     0  68.170431  0.0\n",
      "1000345          33     0  59.466804  1.0\n",
      "1000374          36     0  64.004791  0.0\n",
      "(28487, 4)\n",
      "          AARSD1  ABHD14B    ABL1   ACAA1    ACAN     ACE2   ACOX1    ACP5  \\\n",
      "eid                                                                          \n",
      "1000041  0.34760  -0.1879 -0.3896  0.1511  0.5124 -0.28310  0.2759 -0.3092   \n",
      "1000086  0.76670   0.1949 -0.5907 -2.0024  0.1910  0.05565 -0.5210 -0.0292   \n",
      "1000181 -0.43050  -0.3222 -0.3300 -0.5217 -0.4388 -0.33185 -0.3997 -0.4358   \n",
      "1000345  0.31910   0.5591  0.4769 -0.2783  0.2849  0.16560  0.0844 -0.0938   \n",
      "1000374 -0.19775  -1.1510 -0.5480  0.6309  0.1449  0.76155  0.1626 -0.3390   \n",
      "\n",
      "           ACP6   ACTA2  ...   WNT9A    WWP2    XCL1      XG  XPNPEP2  \\\n",
      "eid                      ...                                            \n",
      "1000041 -0.2001 -0.3444  ... -0.1501  0.1150 -1.1485 -0.1583   1.0802   \n",
      "1000086 -0.3807 -0.3239  ... -0.1429 -0.4454  0.2656 -0.1033   1.5979   \n",
      "1000181  0.0848  0.0293  ... -0.0308 -0.0307  0.3940  0.1194  -0.8755   \n",
      "1000345  0.0633 -0.0207  ...  0.0618  0.3204 -0.3574 -0.5261  -0.3112   \n",
      "1000374  0.2148 -0.5160  ... -0.2785 -0.6922 -0.4396  0.3552   1.0192   \n",
      "\n",
      "           XRCC4    YES1   YTHDF3   ZBTB16  ZBTB17  \n",
      "eid                                                 \n",
      "1000041  0.00705 -0.5165 -0.20180 -0.39815 -0.7475  \n",
      "1000086 -0.83675 -1.1427 -1.48585 -0.55125 -0.0230  \n",
      "1000181  0.18495 -0.2938 -0.43035 -0.27505 -0.4865  \n",
      "1000345 -0.18660  1.0092  0.96570  0.36930  0.3052  \n",
      "1000374 -0.12455 -1.4010 -1.59375 -0.98945 -0.3631  \n",
      "\n",
      "[5 rows x 1428 columns]\n"
     ]
    }
   ],
   "source": [
    "trainset_allprot = proteins\n",
    "mort = pd.read_csv(\"Data/Processed/Full/mort_full_train.csv\", index_col = 'eid')\n",
    "mort = mort.reindex(trainset_allprot.index)\n",
    "trainset_allprot_sex= pd.merge(trainset_allprot, mort[['sex']], on = \"eid\")\n",
    "\n",
    "print(mort.head())\n",
    "print(mort.shape)\n",
    "mort = mort.drop(columns= 'Unnamed: 0')\n",
    "print(trainset_allprot.head())\n",
    "\n",
    "mort_male = mort.loc[mort['sex'] == 1]\n",
    "mort_female = mort.loc[mort['sex'] == 0]\n",
    "\n",
    "trainset_male = trainset_allprot.loc[trainset_allprot.index.isin(mort_male.index)] \n",
    "trainset_female = trainset_allprot.loc[trainset_allprot.index.isin(mort_female.index)] "
   ]
  },
  {
   "cell_type": "code",
   "execution_count": null,
   "id": "5b420f55-447f-41ed-a475-0724ca788ca2",
   "metadata": {},
   "outputs": [],
   "source": [
    " X = trainset_female\n",
    " y_tmp = [(e1, e2) for e1, e2 in mort_female[['died', 'censorage']].values]\n",
    " y = np.array(y_tmp, dtype = [(\"Status\", \"?\"), (\"Survival_in_days\", \"<f8\")])\n",
    "\n",
    "# define model\n",
    "#model = CoxPH()\n",
    "#alphas_all =  np.logspace(-6, -1, 100)\n",
    "#alphas = [np.array([alpha]) for alpha in alphas_all]\n",
    "l1_ratios = np.arange(0.1, 1, 0.01)\n",
    "C = 0\n",
    "best_coefs = pd.DataFrame(0, index=X.columns, columns=[\"coefficient\"])\n",
    "scores = np.zeros((len(l1_ratios), 2))\n",
    " for i, l1_ratio in enumerate(l1_ratios):\n",
    "     coxnet_pipe = make_pipeline(StandardScaler(), CoxPH(l1_ratio=l1_ratio, alpha_min_ratio=0.01))\n",
    "     warnings.simplefilter(\"ignore\", UserWarning)\n",
    "     warnings.simplefilter(\"ignore\", FitFailedWarning)\n",
    "     coxnet_pipe.fit(X, y)\n",
    "     estimated_alphas = coxnet_pipe.named_steps[\"coxnetsurvivalanalysis\"].alphas_\n",
    "     cv = KFold(n_splits=5, shuffle=True, random_state=0)\n",
    "     gcv = GridSearchCV(\n",
    "         make_pipeline(StandardScaler(),CoxPH(l1_ratio=l1_ratio)),\n",
    "         param_grid={\"coxnetsurvivalanalysis__alphas\": [[v] for v in estimated_alphas]},\n",
    "         cv=cv,\n",
    "         error_score=0.5,\n",
    "         n_jobs=1,).fit(X, y)\n",
    "     scores[i,0]=gcv.best_params_[\"coxnetsurvivalanalysis__alphas\"][0]\n",
    "     scores[i,1]=gcv.cv_results_[\"mean_test_score\"][np.where(gcv.cv_results_[\"rank_test_score\"] == 1)[0][0]]\n",
    "     if scores[i,1] > C:\n",
    "         C = scores[i,1]\n",
    "         best_model = gcv.best_estimator_.named_steps[\"coxnetsurvivalanalysis\"]\n",
    "         best_coefs = pd.DataFrame(best_model.coef_, index=X.columns, columns=[\"coefficient\"])"
   ]
  },
  {
   "cell_type": "code",
   "execution_count": null,
   "id": "fbcbfdb9-e552-43e3-9276-2a3892c6caff",
   "metadata": {},
   "outputs": [],
   "source": [
    " with open(\"scores_women2.npy\", \"wb\") as f:\n",
    "     np.save(f, scores)"
   ]
  },
  {
   "cell_type": "code",
   "execution_count": null,
   "id": "5e444ead-0087-4b9d-8813-8d4339abfae0",
   "metadata": {},
   "outputs": [],
   "source": [
    "best_coefs.to_csv('coefs_w_allprot2.csv')"
   ]
  }
 ],
 "metadata": {
  "kernelspec": {
   "display_name": "Python 3 (ipykernel)",
   "language": "python",
   "name": "python3"
  },
  "language_info": {
   "codemirror_mode": {
    "name": "ipython",
    "version": 3
   },
   "file_extension": ".py",
   "mimetype": "text/x-python",
   "name": "python",
   "nbconvert_exporter": "python",
   "pygments_lexer": "ipython3",
   "version": "3.11.5"
  }
 },
 "nbformat": 4,
 "nbformat_minor": 5
}
