{
 "cells": [
  {
   "cell_type": "code",
   "execution_count": 1,
   "id": "e4519f12-2682-4586-8b25-0bf6626330b0",
   "metadata": {},
   "outputs": [
    {
     "name": "stderr",
     "output_type": "stream",
     "text": [
      "/tmp/ipykernel_44102/753262077.py:2: DeprecationWarning: \n",
      "Pyarrow will become a required dependency of pandas in the next major release of pandas (pandas 3.0),\n",
      "(to allow more performant data types, such as the Arrow string type, and better interoperability with other libraries)\n",
      "but was not found to be installed on your system.\n",
      "If this would cause problems for you,\n",
      "please provide us feedback at https://github.com/pandas-dev/pandas/issues/54466\n",
      "        \n",
      "  import pandas as pd\n",
      "/home/l.m.kuiper/miniconda3/envs/olink_aging_lieke/lib/python3.12/site-packages/tqdm/auto.py:21: TqdmWarning: IProgress not found. Please update jupyter and ipywidgets. See https://ipywidgets.readthedocs.io/en/stable/user_install.html\n",
      "  from .autonotebook import tqdm as notebook_tqdm\n"
     ]
    }
   ],
   "source": [
    "import numpy as np\n",
    "import pandas as pd\n",
    "import random\n",
    "import argparse\n",
    "from sklearn.model_selection import KFold, GridSearchCV\n",
    "from sklearn.linear_model import ElasticNet, ElasticNetCV\n",
    "from sksurv.linear_model import CoxnetSurvivalAnalysis as CoxPH\n",
    "from sklearn.metrics import mean_squared_error\n",
    "from sklearn.pipeline import make_pipeline\n",
    "from sklearn.preprocessing import StandardScaler\n",
    "from utils import *\n",
    "from model_functions import *\n",
    "\n",
    "random.seed(7)"
   ]
  },
  {
   "cell_type": "code",
   "execution_count": 2,
   "id": "3f1c323f-15d4-4ab6-932b-e2b34c6fede2",
   "metadata": {},
   "outputs": [],
   "source": [
    "trainset, set2, eids_train, eids_set2, _ = get_data({'dset': 'cmb_morefrail', 'target': 'frailty'})"
   ]
  },
  {
   "cell_type": "code",
   "execution_count": 46,
   "id": "d8eb7c3f-a6cb-472b-8e8c-565ee8f2fb7d",
   "metadata": {},
   "outputs": [
    {
     "name": "stdout",
     "output_type": "stream",
     "text": [
      "897 242\n",
      "0.19788219722038386 0.18515684774292274\n",
      "(6229, 1)\n"
     ]
    }
   ],
   "source": [
    "PPP_participants_selected = pd.read_csv('Data/PPP_Participant_table.csv', index_col = \"eid\")\n",
    "sum_selected_train = sum(eid in eids_train for eid in PPP_participants_selected.index)\n",
    "sum_selected_set2 = sum(eid in eids_set2 for eid in PPP_participants_selected.index)\n",
    "print(sum_selected_train, sum_selected_set2)\n",
    "print(sum_selected_train/len(eids_train), sum_selected_set2/len(eids_set2))\n",
    "print(PPP_participants_selected.shape)"
   ]
  },
  {
   "cell_type": "code",
   "execution_count": 39,
   "id": "5ecf5b34-c33c-4b17-a2a5-8cb604108148",
   "metadata": {},
   "outputs": [
    {
     "data": {
      "text/html": [
       "<div>\n",
       "<style scoped>\n",
       "    .dataframe tbody tr th:only-of-type {\n",
       "        vertical-align: middle;\n",
       "    }\n",
       "\n",
       "    .dataframe tbody tr th {\n",
       "        vertical-align: top;\n",
       "    }\n",
       "\n",
       "    .dataframe thead th {\n",
       "        text-align: right;\n",
       "    }\n",
       "</style>\n",
       "<table border=\"1\" class=\"dataframe\">\n",
       "  <thead>\n",
       "    <tr style=\"text-align: right;\">\n",
       "      <th></th>\n",
       "      <th>UKB-PPP Consortium selected participant | Instance 0</th>\n",
       "      <th>eid</th>\n",
       "    </tr>\n",
       "    <tr>\n",
       "      <th>Participant ID</th>\n",
       "      <th></th>\n",
       "      <th></th>\n",
       "    </tr>\n",
       "  </thead>\n",
       "  <tbody>\n",
       "    <tr>\n",
       "      <th>1001389</th>\n",
       "      <td>Yes</td>\n",
       "      <td>1001389</td>\n",
       "    </tr>\n",
       "    <tr>\n",
       "      <th>1001843</th>\n",
       "      <td>Yes</td>\n",
       "      <td>1001843</td>\n",
       "    </tr>\n",
       "    <tr>\n",
       "      <th>1002479</th>\n",
       "      <td>Yes</td>\n",
       "      <td>1002479</td>\n",
       "    </tr>\n",
       "    <tr>\n",
       "      <th>1004582</th>\n",
       "      <td>Yes</td>\n",
       "      <td>1004582</td>\n",
       "    </tr>\n",
       "    <tr>\n",
       "      <th>1008170</th>\n",
       "      <td>Yes</td>\n",
       "      <td>1008170</td>\n",
       "    </tr>\n",
       "  </tbody>\n",
       "</table>\n",
       "</div>"
      ],
      "text/plain": [
       "               UKB-PPP Consortium selected participant | Instance 0      eid\n",
       "Participant ID                                                              \n",
       "1001389                                                       Yes    1001389\n",
       "1001843                                                       Yes    1001843\n",
       "1002479                                                       Yes    1002479\n",
       "1004582                                                       Yes    1004582\n",
       "1008170                                                       Yes    1008170"
      ]
     },
     "execution_count": 39,
     "metadata": {},
     "output_type": "execute_result"
    }
   ],
   "source": [
    "# #PPP_participants_selected = PPP_participants_selected.drop(PPP_participants_selected.columns[1], axis = 1)\n",
    "# PPP_participants_selected['eid'] = PPP_participants_selected.index\n",
    "# PPP_participants_selected.head()\n",
    "# #PPP_participants_selected.to_csv('Data/PPP_Participant_table.csv')"
   ]
  },
  {
   "cell_type": "code",
   "execution_count": 45,
   "id": "66fd0746-46db-4830-9dd9-062cc10b0233",
   "metadata": {},
   "outputs": [],
   "source": [
    "# PPP_participants_selected_save = PPP_participants_selected[['eid', 'UKB-PPP Consortium selected participant | Instance 0']]\n",
    "# PPP_participants_selected_save.head()\n",
    "# PPP_participants_selected_save.to_csv('Data/PPP_Participant_table.csv', index=False)"
   ]
  }
 ],
 "metadata": {
  "kernelspec": {
   "display_name": "Python 3 (ipykernel)",
   "language": "python",
   "name": "python3"
  },
  "language_info": {
   "codemirror_mode": {
    "name": "ipython",
    "version": 3
   },
   "file_extension": ".py",
   "mimetype": "text/x-python",
   "name": "python",
   "nbconvert_exporter": "python",
   "pygments_lexer": "ipython3",
   "version": "3.12.1"
  }
 },
 "nbformat": 4,
 "nbformat_minor": 5
}
