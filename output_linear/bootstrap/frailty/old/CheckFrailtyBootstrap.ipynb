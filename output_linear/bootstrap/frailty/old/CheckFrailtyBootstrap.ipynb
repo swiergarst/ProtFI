{
 "cells": [
  {
   "cell_type": "code",
   "execution_count": 5,
   "id": "a62fce9d-62e4-4c6f-a072-dbe7ca4657bd",
   "metadata": {},
   "outputs": [],
   "source": [
    "# load and summarize the housing dataset\n",
    "import numpy as np\n",
    "import pandas as pd\n",
    "import warnings\n",
    "import random\n",
    "import seaborn as sns \n",
    "\n",
    "random.seed(7)\n",
    "\n",
    "\n",
    "from matplotlib import pyplot as plt\n",
    "from sklearn.linear_model import ElasticNet, LinearRegression\n",
    "from sksurv.linear_model import CoxnetSurvivalAnalysis as CoxPH\n",
    "from sksurv.metrics import concordance_index_censored\n",
    "from sklearn.metrics import mean_squared_error, r2_score\n",
    "from sklearn.exceptions import FitFailedWarning\n",
    "from sklearn.pipeline import make_pipeline\n",
    "from sklearn.preprocessing import StandardScaler\n",
    "from sklearn.decomposition import PCA\n",
    "from functools import reduce\n",
    "from statsmodels.api import OLS, add_constant"
   ]
  },
  {
   "cell_type": "code",
   "execution_count": 11,
   "id": "024d0115-ef24-47ec-b058-1ee910494693",
   "metadata": {},
   "outputs": [],
   "source": [
    "coefs_it = pd.read_csv('coefs_frailty_cmb.csv')\n",
    "scors_set2 = pd.read_csv('en_frailty_cmb_set2.csv')"
   ]
  },
  {
   "cell_type": "code",
   "execution_count": 12,
   "id": "de21bc29-facf-4ee9-86c5-0088c72c27cc",
   "metadata": {},
   "outputs": [],
   "source": [
    "combined_scores = np.load('combined_scores_frailty_cmb.npy')"
   ]
  },
  {
   "cell_type": "code",
   "execution_count": 20,
   "id": "51cb761f-cdb2-4525-898a-b4d1e92f9fd5",
   "metadata": {},
   "outputs": [],
   "source": [
    "metric_value = np.load('metric_frailty_cmb.npy')"
   ]
  },
  {
   "cell_type": "code",
   "execution_count": 29,
   "id": "988721a8-0ecb-4bdd-b074-89ee57c82f60",
   "metadata": {},
   "outputs": [
    {
     "data": {
      "text/plain": [
       "array([[0.24923281, 0.22509814],\n",
       "       [0.2547288 , 0.22468149],\n",
       "       [0.24929894, 0.22062259],\n",
       "       [0.2580365 , 0.22557442],\n",
       "       [0.26137268, 0.22700869],\n",
       "       [0.25498851, 0.22268152],\n",
       "       [0.25184223, 0.22648589],\n",
       "       [0.23814239, 0.22290671],\n",
       "       [0.25334294, 0.22364048],\n",
       "       [0.24504581, 0.2261596 ],\n",
       "       [0.24803376, 0.22288383],\n",
       "       [0.26055618, 0.22505958],\n",
       "       [0.25145583, 0.22373904],\n",
       "       [0.24404295, 0.22616221],\n",
       "       [0.25048374, 0.22252428],\n",
       "       [0.2525659 , 0.22458343],\n",
       "       [0.25065457, 0.229086  ],\n",
       "       [0.25233265, 0.22621483],\n",
       "       [0.25206764, 0.2290934 ],\n",
       "       [0.24352164, 0.22589784],\n",
       "       [0.23649935, 0.22573339],\n",
       "       [0.25349165, 0.22650105],\n",
       "       [0.25099149, 0.22539874],\n",
       "       [0.25010318, 0.2255043 ],\n",
       "       [0.24660947, 0.22271922],\n",
       "       [0.24251063, 0.22487972],\n",
       "       [0.25099753, 0.21910752],\n",
       "       [0.24339362, 0.2223483 ],\n",
       "       [0.25751128, 0.22122076],\n",
       "       [0.25056722, 0.22668006],\n",
       "       [0.25459366, 0.22500351],\n",
       "       [0.24077337, 0.2273404 ],\n",
       "       [0.25524081, 0.22467978],\n",
       "       [0.25330024, 0.2324886 ],\n",
       "       [0.25350006, 0.22470413],\n",
       "       [0.24663848, 0.22208103],\n",
       "       [0.24804079, 0.22659179],\n",
       "       [0.24180942, 0.22258926],\n",
       "       [0.2410093 , 0.22508723],\n",
       "       [0.24829098, 0.22490471],\n",
       "       [0.25152516, 0.22074682],\n",
       "       [0.26248169, 0.22176877],\n",
       "       [0.23538143, 0.21981008],\n",
       "       [0.24130524, 0.21970819],\n",
       "       [0.25325173, 0.22356849],\n",
       "       [0.24545664, 0.22272161],\n",
       "       [0.24004316, 0.22190387],\n",
       "       [0.24852575, 0.22597296],\n",
       "       [0.26265993, 0.22160967],\n",
       "       [0.2349415 , 0.22794927],\n",
       "       [0.25423159, 0.22687539],\n",
       "       [0.24323063, 0.22246291],\n",
       "       [0.25436012, 0.22641691],\n",
       "       [0.25051867, 0.22232025],\n",
       "       [0.24804364, 0.22046834],\n",
       "       [0.25219217, 0.22116907],\n",
       "       [0.25328911, 0.22685359],\n",
       "       [0.24175132, 0.22461242],\n",
       "       [0.24418934, 0.22124168],\n",
       "       [0.2489777 , 0.22750326],\n",
       "       [0.24895173, 0.22663128],\n",
       "       [0.2600295 , 0.22695155],\n",
       "       [0.24949847, 0.22108341],\n",
       "       [0.25779113, 0.22781625],\n",
       "       [0.25457376, 0.23203835],\n",
       "       [0.24858409, 0.22781454],\n",
       "       [0.25253184, 0.22393956],\n",
       "       [0.25885206, 0.22487009],\n",
       "       [0.25337978, 0.22375403],\n",
       "       [0.26046616, 0.22597124],\n",
       "       [0.24543857, 0.22654697],\n",
       "       [0.25326207, 0.22221462],\n",
       "       [0.25465209, 0.22151462],\n",
       "       [0.24971629, 0.22673988],\n",
       "       [0.24444499, 0.22672095],\n",
       "       [0.2570943 , 0.22872424],\n",
       "       [0.25534597, 0.22558486],\n",
       "       [0.25825818, 0.22187675],\n",
       "       [0.24378916, 0.22395617],\n",
       "       [0.24840577, 0.22072174],\n",
       "       [0.25863727, 0.2220725 ],\n",
       "       [0.24433229, 0.22383106],\n",
       "       [0.24027238, 0.2277082 ],\n",
       "       [0.24417403, 0.22160279],\n",
       "       [0.25676396, 0.22382535],\n",
       "       [0.25270562, 0.22639954],\n",
       "       [0.25996803, 0.21839713],\n",
       "       [0.25545092, 0.21802113],\n",
       "       [0.23917465, 0.22613514],\n",
       "       [0.2580594 , 0.22279845],\n",
       "       [0.24799263, 0.21994438],\n",
       "       [0.25444774, 0.22390719],\n",
       "       [0.24386256, 0.2280977 ],\n",
       "       [0.26164095, 0.2289828 ],\n",
       "       [0.25273158, 0.22859006],\n",
       "       [0.24752743, 0.22484705],\n",
       "       [0.25690041, 0.22150167],\n",
       "       [0.2638528 , 0.22372205],\n",
       "       [0.25051705, 0.222586  ],\n",
       "       [0.2433888 , 0.22483512]])"
      ]
     },
     "execution_count": 29,
     "metadata": {},
     "output_type": "execute_result"
    }
   ],
   "source": [
    "metric_value"
   ]
  },
  {
   "cell_type": "code",
   "execution_count": 30,
   "id": "c49deb09-129b-4b4b-9e33-4a61b1f4023f",
   "metadata": {},
   "outputs": [
    {
     "data": {
      "text/plain": [
       "array([0.15623804, 0.17245312])"
      ]
     },
     "execution_count": 30,
     "metadata": {},
     "output_type": "execute_result"
    }
   ],
   "source": [
    "pcascore = np.load('../../rsquared/R2_cmb_met_pca.npy')\n",
    "pcascore"
   ]
  },
  {
   "cell_type": "code",
   "execution_count": 32,
   "id": "9b5a6fe3-979e-44ea-8032-d13db628e09f",
   "metadata": {},
   "outputs": [
    {
     "data": {
      "text/plain": [
       "array([0.25140018, 0.24186671])"
      ]
     },
     "execution_count": 32,
     "metadata": {},
     "output_type": "execute_result"
    }
   ],
   "source": [
    "samenscore = np.load('../../rsquared/R2_cmb_met.npy')\n",
    "samenscore"
   ]
  },
  {
   "cell_type": "code",
   "execution_count": 33,
   "id": "d4d4323b-d204-4724-bf43-1d121330d37a",
   "metadata": {},
   "outputs": [
    {
     "data": {
      "text/plain": [
       "array([0.24467386, 0.23432267])"
      ]
     },
     "execution_count": 33,
     "metadata": {},
     "output_type": "execute_result"
    }
   ],
   "source": [
    "mhscore = np.load('../../rsquared/R2_cmb_mh.npy')\n",
    "mhscore"
   ]
  },
  {
   "cell_type": "code",
   "execution_count": null,
   "id": "53c2c866-d935-4aaf-8993-7e6669ddbf4c",
   "metadata": {},
   "outputs": [],
   "source": []
  }
 ],
 "metadata": {
  "kernelspec": {
   "display_name": "Python 3 (ipykernel)",
   "language": "python",
   "name": "python3"
  },
  "language_info": {
   "codemirror_mode": {
    "name": "ipython",
    "version": 3
   },
   "file_extension": ".py",
   "mimetype": "text/x-python",
   "name": "python",
   "nbconvert_exporter": "python",
   "pygments_lexer": "ipython3",
   "version": "3.12.1"
  }
 },
 "nbformat": 4,
 "nbformat_minor": 5
}
